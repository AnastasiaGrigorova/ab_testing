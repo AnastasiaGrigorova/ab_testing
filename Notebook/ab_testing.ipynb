{
 "cells": [
  {
   "cell_type": "markdown",
   "metadata": {},
   "source": [
    "# Making Business Decisions Based on Data\n",
    "\n",
    "A/B testing\n"
   ]
  },
  {
   "cell_type": "markdown",
   "metadata": {},
   "source": [
    "<!-- # Contents <a id='back'></a>\n",
    "\n",
    "* [Introduction](#intro)\n",
    "* [Stage 1. Data overview](#data_review)\n",
    "    * [Conclusions](#data_review_conclusions)\n",
    "* [Stage 2. Data preprocessing](#data_preprocessing)\n",
    "    * [2.1 Missing values](#missing_values)\n",
    "    * [2.2 Duplicates](#duplicates)\n",
    "    * [2.3 Additional Issues](#additional_issues)\n",
    "    * [2.4 Conclusions](#data_preprocessing_conclusions)\n",
    "* [Stage 3. Prioritizing hypotheses](#hypotheses)\n",
    "    * [3.1 Conclusion](#hypotheses_conclusion)\n",
    "* [Stage 4 A/B Test Analythis](#ab_test)\n",
    "    * [4.1 Graph cumulative revenue by group. Make conclusions and conjectures.](#task_1)\n",
    "    * [4.2. Graph cumulative average order size by group. Make conclusions and conjectures.](#task_2)\n",
    "    * [4.3. Graph the relative difference in cumulative average order size for group B compared with group A. Make conclusions and conjectures.](#task_3)\n",
    "    * [4.4. Calculate each group's conversion rate as the ratio of orders to the number of visits for each day. Plot the daily conversion rates of the two groups and describe the difference. Draw conclusions and make conjectures.](#task_4)\n",
    "    * [4.5. Plot a scatter chart of the number of orders per user. Make conclusions and conjectures.](#task_5)\n",
    "    * [4.6. Calculate the 95th and 99th percentiles for the number of orders per user. Define the point at which a data point becomes an anomaly.](#task_6)\n",
    "    * [4.7. Plot a scatter chart of order prices. Make conclusions and conjectures.](#task_7)\n",
    "    * [4.8. Calculate the 95th and 99th percentiles of order prices. Define the point at which a data point becomes an anomaly.](#task_8)\n",
    "    * [4.9. Find the statistical significance of the difference in conversion between the groups using the raw data. Make conclusions and conjectures.](#task_9)\n",
    "    * [4.10.Find the statistical significance of the difference in average order size between the groups using the raw data. Make conclusions and conjectures.](#task_10)\n",
    "    * [4.11.Find the statistical significance of the difference in conversion between the groups using the filtered data. Make conclusions and conjectures.](#task_11)\n",
    "    * [4.12. Find the statistical significance of the difference in average order size between the groups using the filtered data. Make conclusions and conjectures.](#task_12)\n",
    "    * [4.13. Make a decision based on the test results. The possible decisions are: 1. Stop the test, consider one of the groups the leader. 2. Stop the test, conclude that there is no difference between the groups. 3. Continue the test.](#task_13)\n",
    "    \n",
    "* [Findings](#end) -->"
   ]
  },
  {
   "cell_type": "markdown",
   "metadata": {},
   "source": [
    "\n",
    "# Contents <a id='back'></a>\n",
    "\n",
    "* [Introduction](#intro)\n",
    "* [Stage 1: Data Overview](#data_review)\n",
    "    * [Conclusions](#data_review_conclusions)\n",
    "* [Stage 2: Data Preprocessing](#data_preprocessing)\n",
    "    * [2.1 Missing Values](#missing_values)\n",
    "    * [2.2 Duplicates](#duplicates)\n",
    "    * [2.3 Additional Issues](#additional_issues)\n",
    "    * [2.4 Conclusions](#data_preprocessing_conclusions)\n",
    "* [Stage 3: Prioritizing Hypotheses](#hypotheses)\n",
    "    * [3.1 Conclusion](#hypotheses_conclusion)\n",
    "* [Stage 4: A/B Test Analysis](#ab_test)\n",
    "    * [4.1 Graph Cumulative Revenue by Group. Make Conclusions and Conjectures.](#task_1)\n",
    "    * [4.2 Graph Cumulative Average Order Size by Group. Make Conclusions and Conjectures.](#task_2)\n",
    "    * [4.3 Graph the Relative Difference in Cumulative Average Order Size for Group B Compared with Group A. Make Conclusions and Conjectures.](#task_3)\n",
    "    * [4.4 Calculate Each Group's Conversion Rate as the Ratio of Orders to the Number of Visits for Each Day. Plot the Daily Conversion Rates of the Two Groups and Describe the Difference. Draw Conclusions and Make Conjectures.](#task_4)\n",
    "    * [4.5 Plot a Scatter Chart of the Number of Orders per User. Make Conclusions and Conjectures.](#task_5)\n",
    "    * [4.6 Calculate the 95th and 99th Percentiles for the Number of Orders per User. Define the Point at Which a Data Point Becomes an Anomaly.](#task_6)\n",
    "    * [4.7 Plot a Scatter Chart of Order Prices. Make Conclusions and Conjectures.](#task_7)\n",
    "    * [4.8 Calculate the 95th and 99th Percentiles of Order Prices. Define the Point at Which a Data Point Becomes an Anomaly.](#task_8)\n",
    "    * [4.9 Find the Statistical Significance of the Difference in Conversion Between the Groups Using the Raw Data. Make Conclusions and Conjectures.](#task_9)\n",
    "    * [4.10 Find the Statistical Significance of the Difference in Average Order Size Between the Groups Using the Raw Data. Make Conclusions and Conjectures.](#task_10)\n",
    "    * [4.11 Find the Statistical Significance of the Difference in Conversion Between the Groups Using the Filtered Data. Make Conclusions and Conjectures.](#task_11)\n",
    "    * [4.12 Find the Statistical Significance of the Difference in Average Order Size Between the Groups Using the Filtered Data. Make Conclusions and Conjectures.](#task_12)\n",
    "    * [4.13 Make a Decision Based on the Test Results. The Possible Decisions Are: 1. Stop the Test, Consider One of the Groups the Leader. 2. Stop the Test, Conclude That There Is No Difference Between the Groups. 3. Continue the Test.](#task_13)\n",
    "* [Findings](#end)\n"
   ]
  },
  {
   "cell_type": "markdown",
   "metadata": {},
   "source": [
    "## Introduction <a id='#intro'></a>\n",
    "\n",
    "In this project, we'll delve into the realm of A/B testing, a powerful method used by businesses and organizations to make data-driven decisions, particularly in the realm of website optimization, product feature testing, and marketing campaign effectiveness evaluation.\n",
    "\n",
    "A/B testing, also known as split testing, involves comparing two versions of a webpage, app feature, or marketing campaign to determine which one performs better. By randomly assigning users or visitors to different versions, A/B testing allows us to assess the impact of changes on key metrics such as conversion rate, average order size, click-through rate, and more.\n",
    "\n",
    "In this project, we'll explore a hypothetical scenario where an e-commerce company has conducted an A/B test to evaluate changes made to its website. We'll analyze data collected during the test to assess the performance of both test groups, identify any significant differences in key metrics, and draw actionable insights to inform decision-making.\n",
    "\n",
    "Throughout the project, we'll follow a structured approach, starting with data overview and preprocessing, followed by hypothesis prioritization, A/B test analysis, and finally, decision-making based on the test results.\n",
    "\n",
    "\n",
    "\n",
    "__Goal__\n",
    "\n",
    "1. Prioritize the hypotheses.\n",
    "2. Launch an A/B test. \n",
    "3. Analyze the results. \n",
    "\n",
    "\n",
    "__Stages__\n",
    "\n",
    "First, we evaluate the quality of the data and see whether its issues are significant. Then, during data preprocessing, we account for the most critical problems.\n",
    " \n",
    "The analysis consists of three stages:\n",
    " 1. Data overview\n",
    " 2. Data preprocessing\n",
    " 3. Prioritizing Hypotheses\n",
    " 4. A/B Test Analysis\n",
    " 5. Findings\n",
    " \n",
    "[Back to Contents](#back)"
   ]
  },
  {
   "cell_type": "markdown",
   "metadata": {},
   "source": [
    "## Stage 1: Data Overview <a id=\"data_review\"></a>\n",
    "Obtaining the general information about the table."
   ]
  },
  {
   "cell_type": "markdown",
   "metadata": {},
   "source": [
    "Importing the relevant libraries."
   ]
  },
  {
   "cell_type": "code",
   "execution_count": 1,
   "metadata": {},
   "outputs": [
    {
     "name": "stdout",
     "output_type": "stream",
     "text": [
      "Collecting sidetable\n",
      "  Downloading sidetable-0.9.1-py3-none-any.whl.metadata (45 kB)\n",
      "\u001b[2K     \u001b[90m━━━━━━━━━━━━━━━━━━━━━━━━━━━━━━━━━━━━━━━━\u001b[0m \u001b[32m45.4/45.4 kB\u001b[0m \u001b[31m6.0 MB/s\u001b[0m eta \u001b[36m0:00:00\u001b[0m\n",
      "\u001b[?25hRequirement already satisfied: pandas>=1.0 in /opt/conda/envs/python3/lib/python3.9/site-packages (from sidetable) (1.2.4)\n",
      "Requirement already satisfied: python-dateutil>=2.7.3 in /opt/conda/envs/python3/lib/python3.9/site-packages (from pandas>=1.0->sidetable) (2.9.0)\n",
      "Requirement already satisfied: pytz>=2017.3 in /opt/conda/envs/python3/lib/python3.9/site-packages (from pandas>=1.0->sidetable) (2024.1)\n",
      "Requirement already satisfied: numpy>=1.16.5 in /opt/conda/envs/python3/lib/python3.9/site-packages (from pandas>=1.0->sidetable) (1.21.2)\n",
      "Requirement already satisfied: six>=1.5 in /opt/conda/envs/python3/lib/python3.9/site-packages (from python-dateutil>=2.7.3->pandas>=1.0->sidetable) (1.16.0)\n",
      "Downloading sidetable-0.9.1-py3-none-any.whl (19 kB)\n",
      "Installing collected packages: sidetable\n",
      "Successfully installed sidetable-0.9.1\n"
     ]
    },
    {
     "data": {
      "text/plain": [
       "<matplotlib.colors.ListedColormap at 0x7fa04be435e0>"
      ]
     },
     "execution_count": 1,
     "metadata": {},
     "output_type": "execute_result"
    }
   ],
   "source": [
    "# Install a pip package in the current Jupyter kernel\n",
    "import sys\n",
    "!{sys.executable} -m pip install sidetable\n",
    "\n",
    "#Importing libraries to work with the dataset\n",
    "import pandas as pd\n",
    "#Adding simple visualization library\n",
    "import matplotlib.pyplot as plt\n",
    "#Adding simple visualization library\n",
    "import seaborn as sns\n",
    "sns.set_theme(style=\"whitegrid\", palette=\"pastel\")\n",
    "import matplotlib.pyplot as plt\n",
    "#Adding simple visualization library\n",
    "import plotly.graph_objects as go\n",
    "#Adding simple visualization library\n",
    "import plotly.express as px\n",
    "import sidetable\n",
    "import calendar\n",
    "import datetime as dt\n",
    "import numpy as np\n",
    "import scipy.stats as stats\n",
    "\n",
    "# Setting the aesthetic style of the plots\n",
    "sns.set_style(\"whitegrid\")\n",
    "sns.color_palette(\"viridis\", as_cmap=True)"
   ]
  },
  {
   "cell_type": "markdown",
   "metadata": {},
   "source": [
    "Loading the data"
   ]
  },
  {
   "cell_type": "code",
   "execution_count": 2,
   "metadata": {},
   "outputs": [],
   "source": [
    "#Read in the csv file and convert to a Pandas dataframe\n",
    "hyp = pd.read_csv('/datasets/hypotheses_us.csv') \n"
   ]
  },
  {
   "cell_type": "markdown",
   "metadata": {},
   "source": [
    "Splitting the data into columns and adding titles."
   ]
  },
  {
   "cell_type": "code",
   "execution_count": 3,
   "metadata": {},
   "outputs": [],
   "source": [
    "#Splitting into columns with a specific separator\n",
    "hyp = hyp[\"Hypothesis;Reach;Impact;Confidence;Effort\"].str.split(\";\", expand=True)"
   ]
  },
  {
   "cell_type": "code",
   "execution_count": 4,
   "metadata": {},
   "outputs": [
    {
     "data": {
      "text/html": [
       "<div>\n",
       "<style scoped>\n",
       "    .dataframe tbody tr th:only-of-type {\n",
       "        vertical-align: middle;\n",
       "    }\n",
       "\n",
       "    .dataframe tbody tr th {\n",
       "        vertical-align: top;\n",
       "    }\n",
       "\n",
       "    .dataframe thead th {\n",
       "        text-align: right;\n",
       "    }\n",
       "</style>\n",
       "<table border=\"1\" class=\"dataframe\">\n",
       "  <thead>\n",
       "    <tr style=\"text-align: right;\">\n",
       "      <th></th>\n",
       "      <th>Hypothesis</th>\n",
       "      <th>Reach</th>\n",
       "      <th>Impact</th>\n",
       "      <th>Confidence</th>\n",
       "      <th>Effort</th>\n",
       "    </tr>\n",
       "  </thead>\n",
       "  <tbody>\n",
       "    <tr>\n",
       "      <th>0</th>\n",
       "      <td>Add two new channels for attracting traffic. T...</td>\n",
       "      <td>3</td>\n",
       "      <td>10</td>\n",
       "      <td>8</td>\n",
       "      <td>6</td>\n",
       "    </tr>\n",
       "    <tr>\n",
       "      <th>1</th>\n",
       "      <td>Launch your own delivery service. This will sh...</td>\n",
       "      <td>2</td>\n",
       "      <td>5</td>\n",
       "      <td>4</td>\n",
       "      <td>10</td>\n",
       "    </tr>\n",
       "    <tr>\n",
       "      <th>2</th>\n",
       "      <td>Add product recommendation blocks to the store...</td>\n",
       "      <td>8</td>\n",
       "      <td>3</td>\n",
       "      <td>7</td>\n",
       "      <td>3</td>\n",
       "    </tr>\n",
       "    <tr>\n",
       "      <th>3</th>\n",
       "      <td>Change the category structure. This will incre...</td>\n",
       "      <td>8</td>\n",
       "      <td>3</td>\n",
       "      <td>3</td>\n",
       "      <td>8</td>\n",
       "    </tr>\n",
       "    <tr>\n",
       "      <th>4</th>\n",
       "      <td>Change the background color on the main page. ...</td>\n",
       "      <td>3</td>\n",
       "      <td>1</td>\n",
       "      <td>1</td>\n",
       "      <td>1</td>\n",
       "    </tr>\n",
       "    <tr>\n",
       "      <th>5</th>\n",
       "      <td>Add a customer review page. This will increase...</td>\n",
       "      <td>3</td>\n",
       "      <td>2</td>\n",
       "      <td>2</td>\n",
       "      <td>3</td>\n",
       "    </tr>\n",
       "    <tr>\n",
       "      <th>6</th>\n",
       "      <td>Show banners with current offers and sales on ...</td>\n",
       "      <td>5</td>\n",
       "      <td>3</td>\n",
       "      <td>8</td>\n",
       "      <td>3</td>\n",
       "    </tr>\n",
       "    <tr>\n",
       "      <th>7</th>\n",
       "      <td>Add a subscription form to all the main pages....</td>\n",
       "      <td>10</td>\n",
       "      <td>7</td>\n",
       "      <td>8</td>\n",
       "      <td>5</td>\n",
       "    </tr>\n",
       "    <tr>\n",
       "      <th>8</th>\n",
       "      <td>Launch a promotion that gives users discounts ...</td>\n",
       "      <td>1</td>\n",
       "      <td>9</td>\n",
       "      <td>9</td>\n",
       "      <td>5</td>\n",
       "    </tr>\n",
       "  </tbody>\n",
       "</table>\n",
       "</div>"
      ],
      "text/plain": [
       "                                          Hypothesis Reach Impact Confidence  \\\n",
       "0  Add two new channels for attracting traffic. T...     3     10          8   \n",
       "1  Launch your own delivery service. This will sh...     2      5          4   \n",
       "2  Add product recommendation blocks to the store...     8      3          7   \n",
       "3  Change the category structure. This will incre...     8      3          3   \n",
       "4  Change the background color on the main page. ...     3      1          1   \n",
       "5  Add a customer review page. This will increase...     3      2          2   \n",
       "6  Show banners with current offers and sales on ...     5      3          8   \n",
       "7  Add a subscription form to all the main pages....    10      7          8   \n",
       "8  Launch a promotion that gives users discounts ...     1      9          9   \n",
       "\n",
       "  Effort  \n",
       "0      6  \n",
       "1     10  \n",
       "2      3  \n",
       "3      8  \n",
       "4      1  \n",
       "5      3  \n",
       "6      3  \n",
       "7      5  \n",
       "8      5  "
      ]
     },
     "execution_count": 4,
     "metadata": {},
     "output_type": "execute_result"
    }
   ],
   "source": [
    "#Adding column names to the dataframe\n",
    "hyp.columns=['Hypothesis','Reach', 'Impact','Confidence', 'Effort']\n",
    "hyp"
   ]
  },
  {
   "cell_type": "markdown",
   "metadata": {},
   "source": [
    "Viewing the dataframe"
   ]
  },
  {
   "cell_type": "code",
   "execution_count": 5,
   "metadata": {},
   "outputs": [
    {
     "data": {
      "text/plain": [
       "(9, 5)"
      ]
     },
     "execution_count": 5,
     "metadata": {},
     "output_type": "execute_result"
    }
   ],
   "source": [
    "#Return number of rows and columns\n",
    "hyp.shape"
   ]
  },
  {
   "cell_type": "code",
   "execution_count": 6,
   "metadata": {},
   "outputs": [
    {
     "name": "stdout",
     "output_type": "stream",
     "text": [
      "<class 'pandas.core.frame.DataFrame'>\n",
      "RangeIndex: 9 entries, 0 to 8\n",
      "Data columns (total 5 columns):\n",
      " #   Column      Non-Null Count  Dtype \n",
      "---  ------      --------------  ----- \n",
      " 0   Hypothesis  9 non-null      object\n",
      " 1   Reach       9 non-null      object\n",
      " 2   Impact      9 non-null      object\n",
      " 3   Confidence  9 non-null      object\n",
      " 4   Effort      9 non-null      object\n",
      "dtypes: object(5)\n",
      "memory usage: 488.0+ bytes\n"
     ]
    }
   ],
   "source": [
    "#Return info on dataset\n",
    "hyp.info()"
   ]
  },
  {
   "cell_type": "markdown",
   "metadata": {},
   "source": [
    "The table contains 1 column with 10 rows, where 9 hypotheses are desribed. At the end of the line, RICE framework is stated with the score for the evaluation parameters on a scale of one to ten:\n",
    "\n",
    "According to the documentation:\n",
    "- `'Hypotheses'` — brief descriptions of the hypotheses: object\n",
    "- `'Reach'` — user reach, on a scale of one to ten, data type: object\n",
    "- `'Impact'` — impact on users, on a scale of one to ten, data type: object\n",
    "- `'Confidence'` - confidence in the hypothesis, on a scale of one to ten, data type: object\n",
    "- `'Effort'` — the resources required to test a hypothesis, on a scale of one to ten. The higher the Effort value, the more resource-intensive the test, data type: object\n"
   ]
  },
  {
   "cell_type": "code",
   "execution_count": 7,
   "metadata": {},
   "outputs": [
    {
     "name": "stdout",
     "output_type": "stream",
     "text": [
      "<class 'pandas.core.frame.DataFrame'>\n",
      "RangeIndex: 9 entries, 0 to 8\n",
      "Data columns (total 5 columns):\n",
      " #   Column      Non-Null Count  Dtype \n",
      "---  ------      --------------  ----- \n",
      " 0   Hypothesis  9 non-null      object\n",
      " 1   Reach       9 non-null      object\n",
      " 2   Impact      9 non-null      object\n",
      " 3   Confidence  9 non-null      object\n",
      " 4   Effort      9 non-null      object\n",
      "dtypes: object(5)\n",
      "memory usage: 488.0+ bytes\n"
     ]
    }
   ],
   "source": [
    "hyp.info()"
   ]
  },
  {
   "cell_type": "code",
   "execution_count": 8,
   "metadata": {},
   "outputs": [
    {
     "data": {
      "text/html": [
       "<div>\n",
       "<style scoped>\n",
       "    .dataframe tbody tr th:only-of-type {\n",
       "        vertical-align: middle;\n",
       "    }\n",
       "\n",
       "    .dataframe tbody tr th {\n",
       "        vertical-align: top;\n",
       "    }\n",
       "\n",
       "    .dataframe thead th {\n",
       "        text-align: right;\n",
       "    }\n",
       "</style>\n",
       "<table border=\"1\" class=\"dataframe\">\n",
       "  <thead>\n",
       "    <tr style=\"text-align: right;\">\n",
       "      <th></th>\n",
       "      <th>Hypothesis</th>\n",
       "      <th>Reach</th>\n",
       "      <th>Impact</th>\n",
       "      <th>Confidence</th>\n",
       "      <th>Effort</th>\n",
       "    </tr>\n",
       "  </thead>\n",
       "  <tbody>\n",
       "    <tr>\n",
       "      <th>0</th>\n",
       "      <td>Add two new channels for attracting traffic. T...</td>\n",
       "      <td>3</td>\n",
       "      <td>10</td>\n",
       "      <td>8</td>\n",
       "      <td>6</td>\n",
       "    </tr>\n",
       "    <tr>\n",
       "      <th>1</th>\n",
       "      <td>Launch your own delivery service. This will sh...</td>\n",
       "      <td>2</td>\n",
       "      <td>5</td>\n",
       "      <td>4</td>\n",
       "      <td>10</td>\n",
       "    </tr>\n",
       "    <tr>\n",
       "      <th>2</th>\n",
       "      <td>Add product recommendation blocks to the store...</td>\n",
       "      <td>8</td>\n",
       "      <td>3</td>\n",
       "      <td>7</td>\n",
       "      <td>3</td>\n",
       "    </tr>\n",
       "    <tr>\n",
       "      <th>3</th>\n",
       "      <td>Change the category structure. This will incre...</td>\n",
       "      <td>8</td>\n",
       "      <td>3</td>\n",
       "      <td>3</td>\n",
       "      <td>8</td>\n",
       "    </tr>\n",
       "    <tr>\n",
       "      <th>4</th>\n",
       "      <td>Change the background color on the main page. ...</td>\n",
       "      <td>3</td>\n",
       "      <td>1</td>\n",
       "      <td>1</td>\n",
       "      <td>1</td>\n",
       "    </tr>\n",
       "  </tbody>\n",
       "</table>\n",
       "</div>"
      ],
      "text/plain": [
       "                                          Hypothesis Reach Impact Confidence  \\\n",
       "0  Add two new channels for attracting traffic. T...     3     10          8   \n",
       "1  Launch your own delivery service. This will sh...     2      5          4   \n",
       "2  Add product recommendation blocks to the store...     8      3          7   \n",
       "3  Change the category structure. This will incre...     8      3          3   \n",
       "4  Change the background color on the main page. ...     3      1          1   \n",
       "\n",
       "  Effort  \n",
       "0      6  \n",
       "1     10  \n",
       "2      3  \n",
       "3      8  \n",
       "4      1  "
      ]
     },
     "execution_count": 8,
     "metadata": {},
     "output_type": "execute_result"
    }
   ],
   "source": [
    "hyp.head()"
   ]
  },
  {
   "cell_type": "markdown",
   "metadata": {},
   "source": [
    "Converting object data type to int 64 for further calculations\n"
   ]
  },
  {
   "cell_type": "code",
   "execution_count": 9,
   "metadata": {},
   "outputs": [
    {
     "data": {
      "text/plain": [
       "Hypothesis    object\n",
       "Reach          int64\n",
       "Impact         int64\n",
       "Confidence     int64\n",
       "Effort         int64\n",
       "dtype: object"
      ]
     },
     "execution_count": 9,
     "metadata": {},
     "output_type": "execute_result"
    }
   ],
   "source": [
    "#Converting object data type to int 64 for further calculations\n",
    "hyp[['Reach', 'Impact', 'Confidence', 'Effort']] = hyp[['Reach', 'Impact', 'Confidence', 'Effort']].astype('int64')\n",
    "hyp.dtypes"
   ]
  },
  {
   "cell_type": "code",
   "execution_count": 10,
   "metadata": {},
   "outputs": [],
   "source": [
    "#Read in the csv file and convert to a Pandas dataframe\n",
    "orders = pd.read_csv('/datasets/orders_us.csv')"
   ]
  },
  {
   "cell_type": "code",
   "execution_count": 11,
   "metadata": {},
   "outputs": [
    {
     "data": {
      "text/plain": [
       "(1197, 5)"
      ]
     },
     "execution_count": 11,
     "metadata": {},
     "output_type": "execute_result"
    }
   ],
   "source": [
    "#Return number of rows and columns\n",
    "orders.shape"
   ]
  },
  {
   "cell_type": "code",
   "execution_count": 12,
   "metadata": {},
   "outputs": [
    {
     "data": {
      "text/html": [
       "<div>\n",
       "<style scoped>\n",
       "    .dataframe tbody tr th:only-of-type {\n",
       "        vertical-align: middle;\n",
       "    }\n",
       "\n",
       "    .dataframe tbody tr th {\n",
       "        vertical-align: top;\n",
       "    }\n",
       "\n",
       "    .dataframe thead th {\n",
       "        text-align: right;\n",
       "    }\n",
       "</style>\n",
       "<table border=\"1\" class=\"dataframe\">\n",
       "  <thead>\n",
       "    <tr style=\"text-align: right;\">\n",
       "      <th></th>\n",
       "      <th>transactionId</th>\n",
       "      <th>visitorId</th>\n",
       "      <th>date</th>\n",
       "      <th>revenue</th>\n",
       "      <th>group</th>\n",
       "    </tr>\n",
       "  </thead>\n",
       "  <tbody>\n",
       "    <tr>\n",
       "      <th>0</th>\n",
       "      <td>3667963787</td>\n",
       "      <td>3312258926</td>\n",
       "      <td>2019-08-15</td>\n",
       "      <td>30.4</td>\n",
       "      <td>B</td>\n",
       "    </tr>\n",
       "    <tr>\n",
       "      <th>1</th>\n",
       "      <td>2804400009</td>\n",
       "      <td>3642806036</td>\n",
       "      <td>2019-08-15</td>\n",
       "      <td>15.2</td>\n",
       "      <td>B</td>\n",
       "    </tr>\n",
       "    <tr>\n",
       "      <th>2</th>\n",
       "      <td>2961555356</td>\n",
       "      <td>4069496402</td>\n",
       "      <td>2019-08-15</td>\n",
       "      <td>10.2</td>\n",
       "      <td>A</td>\n",
       "    </tr>\n",
       "    <tr>\n",
       "      <th>3</th>\n",
       "      <td>3797467345</td>\n",
       "      <td>1196621759</td>\n",
       "      <td>2019-08-15</td>\n",
       "      <td>155.1</td>\n",
       "      <td>B</td>\n",
       "    </tr>\n",
       "    <tr>\n",
       "      <th>4</th>\n",
       "      <td>2282983706</td>\n",
       "      <td>2322279887</td>\n",
       "      <td>2019-08-15</td>\n",
       "      <td>40.5</td>\n",
       "      <td>B</td>\n",
       "    </tr>\n",
       "    <tr>\n",
       "      <th>5</th>\n",
       "      <td>182168103</td>\n",
       "      <td>935554773</td>\n",
       "      <td>2019-08-15</td>\n",
       "      <td>35.0</td>\n",
       "      <td>B</td>\n",
       "    </tr>\n",
       "    <tr>\n",
       "      <th>6</th>\n",
       "      <td>398296753</td>\n",
       "      <td>2900797465</td>\n",
       "      <td>2019-08-15</td>\n",
       "      <td>30.6</td>\n",
       "      <td>B</td>\n",
       "    </tr>\n",
       "    <tr>\n",
       "      <th>7</th>\n",
       "      <td>2626614568</td>\n",
       "      <td>78758296</td>\n",
       "      <td>2019-08-15</td>\n",
       "      <td>20.1</td>\n",
       "      <td>A</td>\n",
       "    </tr>\n",
       "    <tr>\n",
       "      <th>8</th>\n",
       "      <td>1576988021</td>\n",
       "      <td>295230930</td>\n",
       "      <td>2019-08-15</td>\n",
       "      <td>215.9</td>\n",
       "      <td>A</td>\n",
       "    </tr>\n",
       "    <tr>\n",
       "      <th>9</th>\n",
       "      <td>1506739906</td>\n",
       "      <td>1882260405</td>\n",
       "      <td>2019-08-15</td>\n",
       "      <td>30.5</td>\n",
       "      <td>B</td>\n",
       "    </tr>\n",
       "  </tbody>\n",
       "</table>\n",
       "</div>"
      ],
      "text/plain": [
       "   transactionId   visitorId        date  revenue group\n",
       "0     3667963787  3312258926  2019-08-15     30.4     B\n",
       "1     2804400009  3642806036  2019-08-15     15.2     B\n",
       "2     2961555356  4069496402  2019-08-15     10.2     A\n",
       "3     3797467345  1196621759  2019-08-15    155.1     B\n",
       "4     2282983706  2322279887  2019-08-15     40.5     B\n",
       "5      182168103   935554773  2019-08-15     35.0     B\n",
       "6      398296753  2900797465  2019-08-15     30.6     B\n",
       "7     2626614568    78758296  2019-08-15     20.1     A\n",
       "8     1576988021   295230930  2019-08-15    215.9     A\n",
       "9     1506739906  1882260405  2019-08-15     30.5     B"
      ]
     },
     "execution_count": 12,
     "metadata": {},
     "output_type": "execute_result"
    }
   ],
   "source": [
    "#Reading the file.Return first 10 rows of the dataset\n",
    "orders.head(10)"
   ]
  },
  {
   "cell_type": "code",
   "execution_count": 13,
   "metadata": {},
   "outputs": [
    {
     "name": "stdout",
     "output_type": "stream",
     "text": [
      "<class 'pandas.core.frame.DataFrame'>\n",
      "RangeIndex: 1197 entries, 0 to 1196\n",
      "Data columns (total 5 columns):\n",
      " #   Column         Non-Null Count  Dtype  \n",
      "---  ------         --------------  -----  \n",
      " 0   transactionId  1197 non-null   int64  \n",
      " 1   visitorId      1197 non-null   int64  \n",
      " 2   date           1197 non-null   object \n",
      " 3   revenue        1197 non-null   float64\n",
      " 4   group          1197 non-null   object \n",
      "dtypes: float64(1), int64(2), object(2)\n",
      "memory usage: 46.9+ KB\n"
     ]
    }
   ],
   "source": [
    "#Return info on dataset\n",
    "orders.info()"
   ]
  },
  {
   "cell_type": "markdown",
   "metadata": {},
   "source": [
    "Data used in the second part of the project contains 5 columns providing the information on the orders.\n",
    "\n",
    "According to the documentation:\n",
    "- `'transactionId'` — order identifier: int64 \n",
    "- `'visitorId'` — identifier of the user who placed the order, data type: int64 \n",
    "- `'date'` — of the order, data type: object\n",
    "- `'revenue'` - from the order, data type: float64\n",
    "- `'group'` — the A/B test group that the user belongs to: object\n"
   ]
  },
  {
   "cell_type": "code",
   "execution_count": 14,
   "metadata": {},
   "outputs": [],
   "source": [
    "#Read in the csv file and convert to a Pandas dataframe\n",
    "visits = pd.read_csv('/datasets/visits_us.csv') "
   ]
  },
  {
   "cell_type": "code",
   "execution_count": 15,
   "metadata": {},
   "outputs": [
    {
     "data": {
      "text/plain": [
       "(62, 3)"
      ]
     },
     "execution_count": 15,
     "metadata": {},
     "output_type": "execute_result"
    }
   ],
   "source": [
    "#Return number of rows and columns\n",
    "visits.shape"
   ]
  },
  {
   "cell_type": "code",
   "execution_count": 16,
   "metadata": {},
   "outputs": [
    {
     "data": {
      "text/html": [
       "<div>\n",
       "<style scoped>\n",
       "    .dataframe tbody tr th:only-of-type {\n",
       "        vertical-align: middle;\n",
       "    }\n",
       "\n",
       "    .dataframe tbody tr th {\n",
       "        vertical-align: top;\n",
       "    }\n",
       "\n",
       "    .dataframe thead th {\n",
       "        text-align: right;\n",
       "    }\n",
       "</style>\n",
       "<table border=\"1\" class=\"dataframe\">\n",
       "  <thead>\n",
       "    <tr style=\"text-align: right;\">\n",
       "      <th></th>\n",
       "      <th>date</th>\n",
       "      <th>group</th>\n",
       "      <th>visits</th>\n",
       "    </tr>\n",
       "  </thead>\n",
       "  <tbody>\n",
       "    <tr>\n",
       "      <th>0</th>\n",
       "      <td>2019-08-01</td>\n",
       "      <td>A</td>\n",
       "      <td>719</td>\n",
       "    </tr>\n",
       "    <tr>\n",
       "      <th>1</th>\n",
       "      <td>2019-08-02</td>\n",
       "      <td>A</td>\n",
       "      <td>619</td>\n",
       "    </tr>\n",
       "    <tr>\n",
       "      <th>2</th>\n",
       "      <td>2019-08-03</td>\n",
       "      <td>A</td>\n",
       "      <td>507</td>\n",
       "    </tr>\n",
       "    <tr>\n",
       "      <th>3</th>\n",
       "      <td>2019-08-04</td>\n",
       "      <td>A</td>\n",
       "      <td>717</td>\n",
       "    </tr>\n",
       "    <tr>\n",
       "      <th>4</th>\n",
       "      <td>2019-08-05</td>\n",
       "      <td>A</td>\n",
       "      <td>756</td>\n",
       "    </tr>\n",
       "    <tr>\n",
       "      <th>5</th>\n",
       "      <td>2019-08-06</td>\n",
       "      <td>A</td>\n",
       "      <td>667</td>\n",
       "    </tr>\n",
       "    <tr>\n",
       "      <th>6</th>\n",
       "      <td>2019-08-07</td>\n",
       "      <td>A</td>\n",
       "      <td>644</td>\n",
       "    </tr>\n",
       "    <tr>\n",
       "      <th>7</th>\n",
       "      <td>2019-08-08</td>\n",
       "      <td>A</td>\n",
       "      <td>610</td>\n",
       "    </tr>\n",
       "    <tr>\n",
       "      <th>8</th>\n",
       "      <td>2019-08-09</td>\n",
       "      <td>A</td>\n",
       "      <td>617</td>\n",
       "    </tr>\n",
       "    <tr>\n",
       "      <th>9</th>\n",
       "      <td>2019-08-10</td>\n",
       "      <td>A</td>\n",
       "      <td>406</td>\n",
       "    </tr>\n",
       "  </tbody>\n",
       "</table>\n",
       "</div>"
      ],
      "text/plain": [
       "         date group  visits\n",
       "0  2019-08-01     A     719\n",
       "1  2019-08-02     A     619\n",
       "2  2019-08-03     A     507\n",
       "3  2019-08-04     A     717\n",
       "4  2019-08-05     A     756\n",
       "5  2019-08-06     A     667\n",
       "6  2019-08-07     A     644\n",
       "7  2019-08-08     A     610\n",
       "8  2019-08-09     A     617\n",
       "9  2019-08-10     A     406"
      ]
     },
     "execution_count": 16,
     "metadata": {},
     "output_type": "execute_result"
    }
   ],
   "source": [
    "#Reading the file.Return first 10 rows of the dataset\n",
    "visits.head(10)"
   ]
  },
  {
   "cell_type": "code",
   "execution_count": 17,
   "metadata": {},
   "outputs": [
    {
     "name": "stdout",
     "output_type": "stream",
     "text": [
      "<class 'pandas.core.frame.DataFrame'>\n",
      "RangeIndex: 62 entries, 0 to 61\n",
      "Data columns (total 3 columns):\n",
      " #   Column  Non-Null Count  Dtype \n",
      "---  ------  --------------  ----- \n",
      " 0   date    62 non-null     object\n",
      " 1   group   62 non-null     object\n",
      " 2   visits  62 non-null     int64 \n",
      "dtypes: int64(1), object(2)\n",
      "memory usage: 1.6+ KB\n"
     ]
    }
   ],
   "source": [
    "#Return info on dataset\n",
    "visits.info()"
   ]
  },
  {
   "cell_type": "markdown",
   "metadata": {},
   "source": [
    "The table 'visits' contains 3 columns providing the information on the visits.\n",
    "\n",
    "According to the documentation:\n",
    "- `'transactionId'` — order identifier: int64 \n",
    "\n",
    "- `'date'` — date: object\n",
    "- `'group'` — A/B test group: object\n",
    "- `'visits'` — the number of visits on the date specified in the A/B test group specified, data type: int64"
   ]
  },
  {
   "cell_type": "markdown",
   "metadata": {},
   "source": [
    "### Conclusions <a id=\"data_review_conclusions\"></a>\n",
    "\n",
    "Upon examining the data, it appears we have sufficient information to explore nine hypotheses aimed at enhancing revenue. The dataset provides a comprehensive view of revenue-related variables, setting the stage for our analysis.\n",
    "\n",
    "However, before delving deeper, we need to address a few data formatting issues. Specifically, dates in two tables are currently stored as objects and need to be converted to the appropriate date format. Additionally, we must tackle tasks such as handling missing values, identifying duplicates, and resolving potential inconsistencies, such as instances where visitors may be assigned to multiple experimental groups.\n",
    "\n",
    "Once these preprocessing steps are completed, we'll be well-equipped to conduct our analysis and uncover insights to drive revenue growth."
   ]
  },
  {
   "cell_type": "markdown",
   "metadata": {},
   "source": [
    "[Back to Contents](#back)"
   ]
  },
  {
   "cell_type": "markdown",
   "metadata": {},
   "source": [
    "## Stage 2: Data Preprocessing <a id=\"data_preprocessing\"></a>"
   ]
  },
  {
   "cell_type": "markdown",
   "metadata": {},
   "source": [
    "### Missing Values <a id=\"missing_values\"></a>\n",
    "First, we find the number of __missing values__ in the table."
   ]
  },
  {
   "cell_type": "code",
   "execution_count": 18,
   "metadata": {
    "scrolled": true
   },
   "outputs": [
    {
     "name": "stdout",
     "output_type": "stream",
     "text": [
      "transactionId    0\n",
      "visitorId        0\n",
      "date             0\n",
      "revenue          0\n",
      "group            0\n",
      "dtype: int64\n"
     ]
    }
   ],
   "source": [
    "#Display number of missing values per column\n",
    "print(orders.isnull().sum()) "
   ]
  },
  {
   "cell_type": "code",
   "execution_count": 19,
   "metadata": {
    "scrolled": true
   },
   "outputs": [
    {
     "name": "stdout",
     "output_type": "stream",
     "text": [
      "date      0\n",
      "group     0\n",
      "visits    0\n",
      "dtype: int64\n"
     ]
    }
   ],
   "source": [
    "#Display number of missing values per column\n",
    "print(visits.isnull().sum()) "
   ]
  },
  {
   "cell_type": "markdown",
   "metadata": {},
   "source": [
    "### Duplicates <a id=\"duplicates\"></a>\n",
    "Next we find number of __obvious duplicates__ in the table:"
   ]
  },
  {
   "cell_type": "code",
   "execution_count": 20,
   "metadata": {},
   "outputs": [
    {
     "data": {
      "text/plain": [
       "0"
      ]
     },
     "execution_count": 20,
     "metadata": {},
     "output_type": "execute_result"
    }
   ],
   "source": [
    "#checking for duplicates\n",
    "orders.duplicated().sum()"
   ]
  },
  {
   "cell_type": "code",
   "execution_count": 21,
   "metadata": {},
   "outputs": [
    {
     "data": {
      "text/plain": [
       "0"
      ]
     },
     "execution_count": 21,
     "metadata": {},
     "output_type": "execute_result"
    }
   ],
   "source": [
    "#checking for duplicates\n",
    "visits.duplicated().sum()"
   ]
  },
  {
   "cell_type": "markdown",
   "metadata": {},
   "source": [
    "Conclusion \n",
    "\n",
    "_There are no duplicates in the dataset._\n",
    "\n",
    "[Back to Contents](#back)"
   ]
  },
  {
   "cell_type": "markdown",
   "metadata": {},
   "source": [
    "### Additional Issues <a id=\"additional_issues\"></a>\n",
    "Let's address data formatting issues in the tables 'orders' and 'visits'. We need to convert object data type to dates."
   ]
  },
  {
   "cell_type": "code",
   "execution_count": 22,
   "metadata": {},
   "outputs": [
    {
     "data": {
      "text/html": [
       "<div>\n",
       "<style scoped>\n",
       "    .dataframe tbody tr th:only-of-type {\n",
       "        vertical-align: middle;\n",
       "    }\n",
       "\n",
       "    .dataframe tbody tr th {\n",
       "        vertical-align: top;\n",
       "    }\n",
       "\n",
       "    .dataframe thead th {\n",
       "        text-align: right;\n",
       "    }\n",
       "</style>\n",
       "<table border=\"1\" class=\"dataframe\">\n",
       "  <thead>\n",
       "    <tr style=\"text-align: right;\">\n",
       "      <th></th>\n",
       "      <th>transactionId</th>\n",
       "      <th>visitorId</th>\n",
       "      <th>date</th>\n",
       "      <th>revenue</th>\n",
       "      <th>group</th>\n",
       "    </tr>\n",
       "  </thead>\n",
       "  <tbody>\n",
       "    <tr>\n",
       "      <th>0</th>\n",
       "      <td>3667963787</td>\n",
       "      <td>3312258926</td>\n",
       "      <td>2019-08-15</td>\n",
       "      <td>30.4</td>\n",
       "      <td>B</td>\n",
       "    </tr>\n",
       "    <tr>\n",
       "      <th>1</th>\n",
       "      <td>2804400009</td>\n",
       "      <td>3642806036</td>\n",
       "      <td>2019-08-15</td>\n",
       "      <td>15.2</td>\n",
       "      <td>B</td>\n",
       "    </tr>\n",
       "    <tr>\n",
       "      <th>2</th>\n",
       "      <td>2961555356</td>\n",
       "      <td>4069496402</td>\n",
       "      <td>2019-08-15</td>\n",
       "      <td>10.2</td>\n",
       "      <td>A</td>\n",
       "    </tr>\n",
       "    <tr>\n",
       "      <th>3</th>\n",
       "      <td>3797467345</td>\n",
       "      <td>1196621759</td>\n",
       "      <td>2019-08-15</td>\n",
       "      <td>155.1</td>\n",
       "      <td>B</td>\n",
       "    </tr>\n",
       "    <tr>\n",
       "      <th>4</th>\n",
       "      <td>2282983706</td>\n",
       "      <td>2322279887</td>\n",
       "      <td>2019-08-15</td>\n",
       "      <td>40.5</td>\n",
       "      <td>B</td>\n",
       "    </tr>\n",
       "    <tr>\n",
       "      <th>...</th>\n",
       "      <td>...</td>\n",
       "      <td>...</td>\n",
       "      <td>...</td>\n",
       "      <td>...</td>\n",
       "      <td>...</td>\n",
       "    </tr>\n",
       "    <tr>\n",
       "      <th>1192</th>\n",
       "      <td>2662137336</td>\n",
       "      <td>3733762160</td>\n",
       "      <td>2019-08-14</td>\n",
       "      <td>100.8</td>\n",
       "      <td>B</td>\n",
       "    </tr>\n",
       "    <tr>\n",
       "      <th>1193</th>\n",
       "      <td>2203539145</td>\n",
       "      <td>370388673</td>\n",
       "      <td>2019-08-14</td>\n",
       "      <td>50.1</td>\n",
       "      <td>A</td>\n",
       "    </tr>\n",
       "    <tr>\n",
       "      <th>1194</th>\n",
       "      <td>1807773912</td>\n",
       "      <td>573423106</td>\n",
       "      <td>2019-08-14</td>\n",
       "      <td>165.3</td>\n",
       "      <td>A</td>\n",
       "    </tr>\n",
       "    <tr>\n",
       "      <th>1195</th>\n",
       "      <td>1947021204</td>\n",
       "      <td>1614305549</td>\n",
       "      <td>2019-08-14</td>\n",
       "      <td>5.5</td>\n",
       "      <td>A</td>\n",
       "    </tr>\n",
       "    <tr>\n",
       "      <th>1196</th>\n",
       "      <td>3936777065</td>\n",
       "      <td>2108080724</td>\n",
       "      <td>2019-08-15</td>\n",
       "      <td>3120.1</td>\n",
       "      <td>B</td>\n",
       "    </tr>\n",
       "  </tbody>\n",
       "</table>\n",
       "<p>1197 rows × 5 columns</p>\n",
       "</div>"
      ],
      "text/plain": [
       "      transactionId   visitorId       date  revenue group\n",
       "0        3667963787  3312258926 2019-08-15     30.4     B\n",
       "1        2804400009  3642806036 2019-08-15     15.2     B\n",
       "2        2961555356  4069496402 2019-08-15     10.2     A\n",
       "3        3797467345  1196621759 2019-08-15    155.1     B\n",
       "4        2282983706  2322279887 2019-08-15     40.5     B\n",
       "...             ...         ...        ...      ...   ...\n",
       "1192     2662137336  3733762160 2019-08-14    100.8     B\n",
       "1193     2203539145   370388673 2019-08-14     50.1     A\n",
       "1194     1807773912   573423106 2019-08-14    165.3     A\n",
       "1195     1947021204  1614305549 2019-08-14      5.5     A\n",
       "1196     3936777065  2108080724 2019-08-15   3120.1     B\n",
       "\n",
       "[1197 rows x 5 columns]"
      ]
     },
     "execution_count": 22,
     "metadata": {},
     "output_type": "execute_result"
    }
   ],
   "source": [
    "#Converting to the 'date' data type.\n",
    "orders['date']=pd.to_datetime(orders['date'],format='%Y-%m-%d') \n",
    "orders\n"
   ]
  },
  {
   "cell_type": "code",
   "execution_count": 23,
   "metadata": {},
   "outputs": [
    {
     "data": {
      "text/html": [
       "<div>\n",
       "<style scoped>\n",
       "    .dataframe tbody tr th:only-of-type {\n",
       "        vertical-align: middle;\n",
       "    }\n",
       "\n",
       "    .dataframe tbody tr th {\n",
       "        vertical-align: top;\n",
       "    }\n",
       "\n",
       "    .dataframe thead th {\n",
       "        text-align: right;\n",
       "    }\n",
       "</style>\n",
       "<table border=\"1\" class=\"dataframe\">\n",
       "  <thead>\n",
       "    <tr style=\"text-align: right;\">\n",
       "      <th></th>\n",
       "      <th>transaction_id</th>\n",
       "      <th>visitor_id</th>\n",
       "      <th>date</th>\n",
       "      <th>revenue</th>\n",
       "      <th>group</th>\n",
       "    </tr>\n",
       "  </thead>\n",
       "  <tbody>\n",
       "    <tr>\n",
       "      <th>0</th>\n",
       "      <td>3667963787</td>\n",
       "      <td>3312258926</td>\n",
       "      <td>2019-08-15</td>\n",
       "      <td>30.4</td>\n",
       "      <td>B</td>\n",
       "    </tr>\n",
       "    <tr>\n",
       "      <th>1</th>\n",
       "      <td>2804400009</td>\n",
       "      <td>3642806036</td>\n",
       "      <td>2019-08-15</td>\n",
       "      <td>15.2</td>\n",
       "      <td>B</td>\n",
       "    </tr>\n",
       "    <tr>\n",
       "      <th>2</th>\n",
       "      <td>2961555356</td>\n",
       "      <td>4069496402</td>\n",
       "      <td>2019-08-15</td>\n",
       "      <td>10.2</td>\n",
       "      <td>A</td>\n",
       "    </tr>\n",
       "    <tr>\n",
       "      <th>3</th>\n",
       "      <td>3797467345</td>\n",
       "      <td>1196621759</td>\n",
       "      <td>2019-08-15</td>\n",
       "      <td>155.1</td>\n",
       "      <td>B</td>\n",
       "    </tr>\n",
       "    <tr>\n",
       "      <th>4</th>\n",
       "      <td>2282983706</td>\n",
       "      <td>2322279887</td>\n",
       "      <td>2019-08-15</td>\n",
       "      <td>40.5</td>\n",
       "      <td>B</td>\n",
       "    </tr>\n",
       "    <tr>\n",
       "      <th>...</th>\n",
       "      <td>...</td>\n",
       "      <td>...</td>\n",
       "      <td>...</td>\n",
       "      <td>...</td>\n",
       "      <td>...</td>\n",
       "    </tr>\n",
       "    <tr>\n",
       "      <th>1192</th>\n",
       "      <td>2662137336</td>\n",
       "      <td>3733762160</td>\n",
       "      <td>2019-08-14</td>\n",
       "      <td>100.8</td>\n",
       "      <td>B</td>\n",
       "    </tr>\n",
       "    <tr>\n",
       "      <th>1193</th>\n",
       "      <td>2203539145</td>\n",
       "      <td>370388673</td>\n",
       "      <td>2019-08-14</td>\n",
       "      <td>50.1</td>\n",
       "      <td>A</td>\n",
       "    </tr>\n",
       "    <tr>\n",
       "      <th>1194</th>\n",
       "      <td>1807773912</td>\n",
       "      <td>573423106</td>\n",
       "      <td>2019-08-14</td>\n",
       "      <td>165.3</td>\n",
       "      <td>A</td>\n",
       "    </tr>\n",
       "    <tr>\n",
       "      <th>1195</th>\n",
       "      <td>1947021204</td>\n",
       "      <td>1614305549</td>\n",
       "      <td>2019-08-14</td>\n",
       "      <td>5.5</td>\n",
       "      <td>A</td>\n",
       "    </tr>\n",
       "    <tr>\n",
       "      <th>1196</th>\n",
       "      <td>3936777065</td>\n",
       "      <td>2108080724</td>\n",
       "      <td>2019-08-15</td>\n",
       "      <td>3120.1</td>\n",
       "      <td>B</td>\n",
       "    </tr>\n",
       "  </tbody>\n",
       "</table>\n",
       "<p>1197 rows × 5 columns</p>\n",
       "</div>"
      ],
      "text/plain": [
       "      transaction_id  visitor_id       date  revenue group\n",
       "0         3667963787  3312258926 2019-08-15     30.4     B\n",
       "1         2804400009  3642806036 2019-08-15     15.2     B\n",
       "2         2961555356  4069496402 2019-08-15     10.2     A\n",
       "3         3797467345  1196621759 2019-08-15    155.1     B\n",
       "4         2282983706  2322279887 2019-08-15     40.5     B\n",
       "...              ...         ...        ...      ...   ...\n",
       "1192      2662137336  3733762160 2019-08-14    100.8     B\n",
       "1193      2203539145   370388673 2019-08-14     50.1     A\n",
       "1194      1807773912   573423106 2019-08-14    165.3     A\n",
       "1195      1947021204  1614305549 2019-08-14      5.5     A\n",
       "1196      3936777065  2108080724 2019-08-15   3120.1     B\n",
       "\n",
       "[1197 rows x 5 columns]"
      ]
     },
     "execution_count": 23,
     "metadata": {},
     "output_type": "execute_result"
    }
   ],
   "source": [
    "# renaming columns\n",
    "orders = orders.rename(columns = {\n",
    "        'transactionId':'transaction_id',\n",
    "        'visitorId':'visitor_id'})\n",
    "orders"
   ]
  },
  {
   "cell_type": "code",
   "execution_count": 24,
   "metadata": {},
   "outputs": [
    {
     "data": {
      "text/html": [
       "<div>\n",
       "<style scoped>\n",
       "    .dataframe tbody tr th:only-of-type {\n",
       "        vertical-align: middle;\n",
       "    }\n",
       "\n",
       "    .dataframe tbody tr th {\n",
       "        vertical-align: top;\n",
       "    }\n",
       "\n",
       "    .dataframe thead th {\n",
       "        text-align: right;\n",
       "    }\n",
       "</style>\n",
       "<table border=\"1\" class=\"dataframe\">\n",
       "  <thead>\n",
       "    <tr style=\"text-align: right;\">\n",
       "      <th></th>\n",
       "      <th>date</th>\n",
       "      <th>group</th>\n",
       "      <th>visits</th>\n",
       "    </tr>\n",
       "  </thead>\n",
       "  <tbody>\n",
       "    <tr>\n",
       "      <th>0</th>\n",
       "      <td>2019-08-01</td>\n",
       "      <td>A</td>\n",
       "      <td>719</td>\n",
       "    </tr>\n",
       "    <tr>\n",
       "      <th>1</th>\n",
       "      <td>2019-08-02</td>\n",
       "      <td>A</td>\n",
       "      <td>619</td>\n",
       "    </tr>\n",
       "    <tr>\n",
       "      <th>2</th>\n",
       "      <td>2019-08-03</td>\n",
       "      <td>A</td>\n",
       "      <td>507</td>\n",
       "    </tr>\n",
       "    <tr>\n",
       "      <th>3</th>\n",
       "      <td>2019-08-04</td>\n",
       "      <td>A</td>\n",
       "      <td>717</td>\n",
       "    </tr>\n",
       "    <tr>\n",
       "      <th>4</th>\n",
       "      <td>2019-08-05</td>\n",
       "      <td>A</td>\n",
       "      <td>756</td>\n",
       "    </tr>\n",
       "    <tr>\n",
       "      <th>...</th>\n",
       "      <td>...</td>\n",
       "      <td>...</td>\n",
       "      <td>...</td>\n",
       "    </tr>\n",
       "    <tr>\n",
       "      <th>57</th>\n",
       "      <td>2019-08-27</td>\n",
       "      <td>B</td>\n",
       "      <td>720</td>\n",
       "    </tr>\n",
       "    <tr>\n",
       "      <th>58</th>\n",
       "      <td>2019-08-28</td>\n",
       "      <td>B</td>\n",
       "      <td>654</td>\n",
       "    </tr>\n",
       "    <tr>\n",
       "      <th>59</th>\n",
       "      <td>2019-08-29</td>\n",
       "      <td>B</td>\n",
       "      <td>531</td>\n",
       "    </tr>\n",
       "    <tr>\n",
       "      <th>60</th>\n",
       "      <td>2019-08-30</td>\n",
       "      <td>B</td>\n",
       "      <td>490</td>\n",
       "    </tr>\n",
       "    <tr>\n",
       "      <th>61</th>\n",
       "      <td>2019-08-31</td>\n",
       "      <td>B</td>\n",
       "      <td>718</td>\n",
       "    </tr>\n",
       "  </tbody>\n",
       "</table>\n",
       "<p>62 rows × 3 columns</p>\n",
       "</div>"
      ],
      "text/plain": [
       "         date group  visits\n",
       "0  2019-08-01     A     719\n",
       "1  2019-08-02     A     619\n",
       "2  2019-08-03     A     507\n",
       "3  2019-08-04     A     717\n",
       "4  2019-08-05     A     756\n",
       "..        ...   ...     ...\n",
       "57 2019-08-27     B     720\n",
       "58 2019-08-28     B     654\n",
       "59 2019-08-29     B     531\n",
       "60 2019-08-30     B     490\n",
       "61 2019-08-31     B     718\n",
       "\n",
       "[62 rows x 3 columns]"
      ]
     },
     "execution_count": 24,
     "metadata": {},
     "output_type": "execute_result"
    }
   ],
   "source": [
    "#Converting to the 'date' data type.\n",
    "visits['date']=pd.to_datetime(visits['date'],format='%Y-%m-%d') \n",
    "visits"
   ]
  },
  {
   "cell_type": "markdown",
   "metadata": {},
   "source": [
    "Verifying inconsistencies in visitor group assignments."
   ]
  },
  {
   "cell_type": "code",
   "execution_count": 25,
   "metadata": {},
   "outputs": [
    {
     "data": {
      "text/plain": [
       "group\n",
       "A    503\n",
       "B    586\n",
       "Name: visitor_id, dtype: int64"
      ]
     },
     "execution_count": 25,
     "metadata": {},
     "output_type": "execute_result"
    }
   ],
   "source": [
    "orders.groupby(['group'])['visitor_id'].nunique()"
   ]
  },
  {
   "cell_type": "code",
   "execution_count": 26,
   "metadata": {},
   "outputs": [
    {
     "data": {
      "text/plain": [
       "[8300375,\n",
       " 199603092,\n",
       " 232979603,\n",
       " 237748145,\n",
       " 276558944,\n",
       " 351125977,\n",
       " 393266494,\n",
       " 457167155,\n",
       " 471551937,\n",
       " 477780734,\n",
       " 818047933,\n",
       " 963407295,\n",
       " 1230306981,\n",
       " 1294878855,\n",
       " 1316129916,\n",
       " 1333886533,\n",
       " 1404934699,\n",
       " 1602967004,\n",
       " 1614305549,\n",
       " 1648269707,\n",
       " 1668030113,\n",
       " 1738359350,\n",
       " 1801183820,\n",
       " 1959144690,\n",
       " 2038680547,\n",
       " 2044997962,\n",
       " 2378935119,\n",
       " 2458001652,\n",
       " 2579882178,\n",
       " 2587333274,\n",
       " 2600415354,\n",
       " 2654030115,\n",
       " 2686716486,\n",
       " 2712142231,\n",
       " 2716752286,\n",
       " 2780786433,\n",
       " 2927087541,\n",
       " 2949041841,\n",
       " 2954449915,\n",
       " 3062433592,\n",
       " 3202540741,\n",
       " 3234906277,\n",
       " 3656415546,\n",
       " 3717692402,\n",
       " 3766097110,\n",
       " 3803269165,\n",
       " 3891541246,\n",
       " 3941795274,\n",
       " 3951559397,\n",
       " 3957174400,\n",
       " 3963646447,\n",
       " 3972127743,\n",
       " 3984495233,\n",
       " 4069496402,\n",
       " 4120364173,\n",
       " 4186807279,\n",
       " 4256040402,\n",
       " 4266935830]"
      ]
     },
     "execution_count": 26,
     "metadata": {},
     "output_type": "execute_result"
    }
   ],
   "source": [
    "##users in both tests\n",
    "in_both=list(orders.groupby(['visitor_id'])['group'].nunique().reset_index().query('group>1')['visitor_id'])\n",
    "in_both"
   ]
  },
  {
   "cell_type": "code",
   "execution_count": 27,
   "metadata": {},
   "outputs": [
    {
     "data": {
      "text/html": [
       "<div>\n",
       "<style scoped>\n",
       "    .dataframe tbody tr th:only-of-type {\n",
       "        vertical-align: middle;\n",
       "    }\n",
       "\n",
       "    .dataframe tbody tr th {\n",
       "        vertical-align: top;\n",
       "    }\n",
       "\n",
       "    .dataframe thead th {\n",
       "        text-align: right;\n",
       "    }\n",
       "</style>\n",
       "<table border=\"1\" class=\"dataframe\">\n",
       "  <thead>\n",
       "    <tr style=\"text-align: right;\">\n",
       "      <th></th>\n",
       "      <th>transaction_id</th>\n",
       "      <th>visitor_id</th>\n",
       "      <th>date</th>\n",
       "      <th>revenue</th>\n",
       "      <th>group</th>\n",
       "    </tr>\n",
       "  </thead>\n",
       "  <tbody>\n",
       "    <tr>\n",
       "      <th>0</th>\n",
       "      <td>3667963787</td>\n",
       "      <td>3312258926</td>\n",
       "      <td>2019-08-15</td>\n",
       "      <td>30.4</td>\n",
       "      <td>B</td>\n",
       "    </tr>\n",
       "    <tr>\n",
       "      <th>1</th>\n",
       "      <td>2804400009</td>\n",
       "      <td>3642806036</td>\n",
       "      <td>2019-08-15</td>\n",
       "      <td>15.2</td>\n",
       "      <td>B</td>\n",
       "    </tr>\n",
       "    <tr>\n",
       "      <th>3</th>\n",
       "      <td>3797467345</td>\n",
       "      <td>1196621759</td>\n",
       "      <td>2019-08-15</td>\n",
       "      <td>155.1</td>\n",
       "      <td>B</td>\n",
       "    </tr>\n",
       "    <tr>\n",
       "      <th>4</th>\n",
       "      <td>2282983706</td>\n",
       "      <td>2322279887</td>\n",
       "      <td>2019-08-15</td>\n",
       "      <td>40.5</td>\n",
       "      <td>B</td>\n",
       "    </tr>\n",
       "    <tr>\n",
       "      <th>5</th>\n",
       "      <td>182168103</td>\n",
       "      <td>935554773</td>\n",
       "      <td>2019-08-15</td>\n",
       "      <td>35.0</td>\n",
       "      <td>B</td>\n",
       "    </tr>\n",
       "    <tr>\n",
       "      <th>...</th>\n",
       "      <td>...</td>\n",
       "      <td>...</td>\n",
       "      <td>...</td>\n",
       "      <td>...</td>\n",
       "      <td>...</td>\n",
       "    </tr>\n",
       "    <tr>\n",
       "      <th>1191</th>\n",
       "      <td>3592955527</td>\n",
       "      <td>608641596</td>\n",
       "      <td>2019-08-14</td>\n",
       "      <td>255.7</td>\n",
       "      <td>B</td>\n",
       "    </tr>\n",
       "    <tr>\n",
       "      <th>1192</th>\n",
       "      <td>2662137336</td>\n",
       "      <td>3733762160</td>\n",
       "      <td>2019-08-14</td>\n",
       "      <td>100.8</td>\n",
       "      <td>B</td>\n",
       "    </tr>\n",
       "    <tr>\n",
       "      <th>1193</th>\n",
       "      <td>2203539145</td>\n",
       "      <td>370388673</td>\n",
       "      <td>2019-08-14</td>\n",
       "      <td>50.1</td>\n",
       "      <td>A</td>\n",
       "    </tr>\n",
       "    <tr>\n",
       "      <th>1194</th>\n",
       "      <td>1807773912</td>\n",
       "      <td>573423106</td>\n",
       "      <td>2019-08-14</td>\n",
       "      <td>165.3</td>\n",
       "      <td>A</td>\n",
       "    </tr>\n",
       "    <tr>\n",
       "      <th>1196</th>\n",
       "      <td>3936777065</td>\n",
       "      <td>2108080724</td>\n",
       "      <td>2019-08-15</td>\n",
       "      <td>3120.1</td>\n",
       "      <td>B</td>\n",
       "    </tr>\n",
       "  </tbody>\n",
       "</table>\n",
       "<p>1016 rows × 5 columns</p>\n",
       "</div>"
      ],
      "text/plain": [
       "      transaction_id  visitor_id       date  revenue group\n",
       "0         3667963787  3312258926 2019-08-15     30.4     B\n",
       "1         2804400009  3642806036 2019-08-15     15.2     B\n",
       "3         3797467345  1196621759 2019-08-15    155.1     B\n",
       "4         2282983706  2322279887 2019-08-15     40.5     B\n",
       "5          182168103   935554773 2019-08-15     35.0     B\n",
       "...              ...         ...        ...      ...   ...\n",
       "1191      3592955527   608641596 2019-08-14    255.7     B\n",
       "1192      2662137336  3733762160 2019-08-14    100.8     B\n",
       "1193      2203539145   370388673 2019-08-14     50.1     A\n",
       "1194      1807773912   573423106 2019-08-14    165.3     A\n",
       "1196      3936777065  2108080724 2019-08-15   3120.1     B\n",
       "\n",
       "[1016 rows x 5 columns]"
      ]
     },
     "execution_count": 27,
     "metadata": {},
     "output_type": "execute_result"
    }
   ],
   "source": [
    "#Dropping the visitors that got into two groups.\n",
    "clean_orders=orders[(orders.visitor_id.apply(lambda x: x not in in_both ))]\n",
    "clean_orders"
   ]
  },
  {
   "cell_type": "code",
   "execution_count": 28,
   "metadata": {},
   "outputs": [
    {
     "data": {
      "text/plain": [
       "group\n",
       "A    445\n",
       "B    528\n",
       "Name: visitor_id, dtype: int64"
      ]
     },
     "execution_count": 28,
     "metadata": {},
     "output_type": "execute_result"
    }
   ],
   "source": [
    "#Checking the number of visitors in each group.\n",
    "clean_orders.groupby(['group'])['visitor_id'].nunique()"
   ]
  },
  {
   "cell_type": "markdown",
   "metadata": {},
   "source": [
    "Conclusion \n",
    "\n",
    "We have a pretty big difference, which can be one of the reasons why we cannot trust the results of the test"
   ]
  },
  {
   "cell_type": "markdown",
   "metadata": {},
   "source": [
    "### Conclusions <a id=\"data_preprocessing_conclusions\"></a>\n",
    "\n",
    "Data Preprocessing Conclusion for A/B Testing\n",
    "\n",
    "The data preprocessing phase for our A/B testing analysis is now complete. No duplicates or missing values were found, and the date fields were correctly converted to the appropriate data type. Additionally, inconsistencies where visitors were assigned to multiple test groups were identified and addressed by removing them from the dataset. This ensures data integrity and minimizes errors for future calculations.\n",
    "\n",
    "[Back to Contents](#back)\n"
   ]
  },
  {
   "cell_type": "markdown",
   "metadata": {},
   "source": [
    "## Stage 3: Prioritizing Hypotheses <a id=\"hypotheses\"></a>"
   ]
  },
  {
   "cell_type": "markdown",
   "metadata": {},
   "source": [
    "Let's prioritize Hypotheses based on ICE and RICE frameworks.\n",
    "\n",
    "First, we are going to look at the ICE framework.\n"
   ]
  },
  {
   "cell_type": "code",
   "execution_count": 29,
   "metadata": {},
   "outputs": [
    {
     "data": {
      "text/html": [
       "<div>\n",
       "<style scoped>\n",
       "    .dataframe tbody tr th:only-of-type {\n",
       "        vertical-align: middle;\n",
       "    }\n",
       "\n",
       "    .dataframe tbody tr th {\n",
       "        vertical-align: top;\n",
       "    }\n",
       "\n",
       "    .dataframe thead th {\n",
       "        text-align: right;\n",
       "    }\n",
       "</style>\n",
       "<table border=\"1\" class=\"dataframe\">\n",
       "  <thead>\n",
       "    <tr style=\"text-align: right;\">\n",
       "      <th></th>\n",
       "      <th>Hypothesis</th>\n",
       "      <th>ICE</th>\n",
       "    </tr>\n",
       "  </thead>\n",
       "  <tbody>\n",
       "    <tr>\n",
       "      <th>0</th>\n",
       "      <td>Launch a promotion that gives users discounts on their birthdays</td>\n",
       "      <td>16.0</td>\n",
       "    </tr>\n",
       "    <tr>\n",
       "      <th>1</th>\n",
       "      <td>Add two new channels for attracting traffic. This will bring 30% more users</td>\n",
       "      <td>13.0</td>\n",
       "    </tr>\n",
       "    <tr>\n",
       "      <th>2</th>\n",
       "      <td>Add a subscription form to all the main pages. This will help you compile a mailing list</td>\n",
       "      <td>11.0</td>\n",
       "    </tr>\n",
       "    <tr>\n",
       "      <th>3</th>\n",
       "      <td>Show banners with current offers and sales on the main page. This will boost conversion</td>\n",
       "      <td>8.0</td>\n",
       "    </tr>\n",
       "    <tr>\n",
       "      <th>4</th>\n",
       "      <td>Add product recommendation blocks to the store's site. This will increase conversion and average purchase size</td>\n",
       "      <td>7.0</td>\n",
       "    </tr>\n",
       "    <tr>\n",
       "      <th>5</th>\n",
       "      <td>Launch your own delivery service. This will shorten delivery time</td>\n",
       "      <td>2.0</td>\n",
       "    </tr>\n",
       "    <tr>\n",
       "      <th>6</th>\n",
       "      <td>Add a customer review page. This will increase the number of orders</td>\n",
       "      <td>1.0</td>\n",
       "    </tr>\n",
       "    <tr>\n",
       "      <th>7</th>\n",
       "      <td>Change the category structure. This will increase conversion since users will find the products they want more quickly</td>\n",
       "      <td>1.0</td>\n",
       "    </tr>\n",
       "    <tr>\n",
       "      <th>8</th>\n",
       "      <td>Change the background color on the main page. This will increase user engagement</td>\n",
       "      <td>1.0</td>\n",
       "    </tr>\n",
       "  </tbody>\n",
       "</table>\n",
       "</div>"
      ],
      "text/plain": [
       "                                                                                                               Hypothesis  \\\n",
       "0                                                        Launch a promotion that gives users discounts on their birthdays   \n",
       "1                                             Add two new channels for attracting traffic. This will bring 30% more users   \n",
       "2                                Add a subscription form to all the main pages. This will help you compile a mailing list   \n",
       "3                                 Show banners with current offers and sales on the main page. This will boost conversion   \n",
       "4          Add product recommendation blocks to the store's site. This will increase conversion and average purchase size   \n",
       "5                                                       Launch your own delivery service. This will shorten delivery time   \n",
       "6                                                     Add a customer review page. This will increase the number of orders   \n",
       "7  Change the category structure. This will increase conversion since users will find the products they want more quickly   \n",
       "8                                        Change the background color on the main page. This will increase user engagement   \n",
       "\n",
       "    ICE  \n",
       "0  16.0  \n",
       "1  13.0  \n",
       "2  11.0  \n",
       "3   8.0  \n",
       "4   7.0  \n",
       "5   2.0  \n",
       "6   1.0  \n",
       "7   1.0  \n",
       "8   1.0  "
      ]
     },
     "execution_count": 29,
     "metadata": {},
     "output_type": "execute_result"
    }
   ],
   "source": [
    "#Applying the ICE framework to prioritize hypotheses. \n",
    "hyp['ICE'] = (hyp['Impact']*hyp['Confidence'])/hyp['Effort']\n",
    "\n",
    "#Sorting them in descending order of priority.\n",
    "ICE_hyp = hyp[['Hypothesis','ICE']].sort_values(by='ICE', ascending=False).reset_index(drop=True)\n",
    "ICE_hyp['ICE'] = ICE_hyp['ICE'].round()\n",
    "\n",
    "#Displaying the full name of the hypotheses in the table.\n",
    "pd.options.display.max_colwidth = 210\n",
    "\n",
    "ICE_hyp\n"
   ]
  },
  {
   "cell_type": "markdown",
   "metadata": {},
   "source": [
    "Conclusion\n",
    "\n",
    "* __Score: 16.20.__ The hypothesis __\"Launch a promotion that gives users discounts on their birthdays\"__ stands out in the ICE framework due to its high anticipated impact and confidence levels combined with the relatively low effort required for implementation. This makes it a strategic initiative with a high potential return on investment, thus justifying its top ranking in the ICE prioritization. By leveraging this personalized promotional strategy, we can enhance customer engagement, drive sales, and foster long-term loyalty, ultimately boosting overall revenue.\n",
    "\n",
    "\n",
    "* __Score: 13.33.__ The hypothesis __\"Add two new channels for attracting traffic. This will bring 30% more users\"__ scores highly in the ICE framework due to its significant potential impact and moderate confidence levels, combined with a manageable effort requirement. By expanding our traffic sources, we can attract a larger and more diverse audience to our online store, which is likely to result in increased sales and revenue. Given the competitive nature of the e-commerce landscape, continuously exploring and leveraging new traffic channels is essential for sustained growth and staying ahead of market trends. This strategic initiative is well-justified and positioned to effectively boost our online store's performance.\n",
    "\n",
    "\n",
    "* __Score: 11.20.__ The hypothesis __\"Add a subscription form to all the main pages to compile a mailing list\"__ is highly prioritized because it offers significant potential impact on customer engagement and sales with high confidence and low implementation effort. By integrating subscription forms, we can effectively build and utilize a mailing list to drive future growth. Email marketing is a cost-effective way to reach our audience, promote products, and increase customer loyalty. Given its ease of implementation and proven benefits, this initiative is a strategic move to enhance our marketing capabilities and boost revenue through targeted communication.\n"
   ]
  },
  {
   "cell_type": "markdown",
   "metadata": {},
   "source": [
    "Then, we will analyze the hypotheses using RICE framework."
   ]
  },
  {
   "cell_type": "code",
   "execution_count": 30,
   "metadata": {},
   "outputs": [
    {
     "data": {
      "text/html": [
       "<div>\n",
       "<style scoped>\n",
       "    .dataframe tbody tr th:only-of-type {\n",
       "        vertical-align: middle;\n",
       "    }\n",
       "\n",
       "    .dataframe tbody tr th {\n",
       "        vertical-align: top;\n",
       "    }\n",
       "\n",
       "    .dataframe thead th {\n",
       "        text-align: right;\n",
       "    }\n",
       "</style>\n",
       "<table border=\"1\" class=\"dataframe\">\n",
       "  <thead>\n",
       "    <tr style=\"text-align: right;\">\n",
       "      <th></th>\n",
       "      <th>Hypothesis</th>\n",
       "      <th>RICE</th>\n",
       "    </tr>\n",
       "  </thead>\n",
       "  <tbody>\n",
       "    <tr>\n",
       "      <th>0</th>\n",
       "      <td>Add a subscription form to all the main pages. This will help you compile a mailing list</td>\n",
       "      <td>112.0</td>\n",
       "    </tr>\n",
       "    <tr>\n",
       "      <th>1</th>\n",
       "      <td>Add product recommendation blocks to the store's site. This will increase conversion and average purchase size</td>\n",
       "      <td>56.0</td>\n",
       "    </tr>\n",
       "    <tr>\n",
       "      <th>2</th>\n",
       "      <td>Add two new channels for attracting traffic. This will bring 30% more users</td>\n",
       "      <td>40.0</td>\n",
       "    </tr>\n",
       "    <tr>\n",
       "      <th>3</th>\n",
       "      <td>Show banners with current offers and sales on the main page. This will boost conversion</td>\n",
       "      <td>40.0</td>\n",
       "    </tr>\n",
       "    <tr>\n",
       "      <th>4</th>\n",
       "      <td>Launch a promotion that gives users discounts on their birthdays</td>\n",
       "      <td>16.0</td>\n",
       "    </tr>\n",
       "    <tr>\n",
       "      <th>5</th>\n",
       "      <td>Change the category structure. This will increase conversion since users will find the products they want more quickly</td>\n",
       "      <td>9.0</td>\n",
       "    </tr>\n",
       "    <tr>\n",
       "      <th>6</th>\n",
       "      <td>Launch your own delivery service. This will shorten delivery time</td>\n",
       "      <td>4.0</td>\n",
       "    </tr>\n",
       "    <tr>\n",
       "      <th>7</th>\n",
       "      <td>Add a customer review page. This will increase the number of orders</td>\n",
       "      <td>4.0</td>\n",
       "    </tr>\n",
       "    <tr>\n",
       "      <th>8</th>\n",
       "      <td>Change the background color on the main page. This will increase user engagement</td>\n",
       "      <td>3.0</td>\n",
       "    </tr>\n",
       "  </tbody>\n",
       "</table>\n",
       "</div>"
      ],
      "text/plain": [
       "                                                                                                               Hypothesis  \\\n",
       "0                                Add a subscription form to all the main pages. This will help you compile a mailing list   \n",
       "1          Add product recommendation blocks to the store's site. This will increase conversion and average purchase size   \n",
       "2                                             Add two new channels for attracting traffic. This will bring 30% more users   \n",
       "3                                 Show banners with current offers and sales on the main page. This will boost conversion   \n",
       "4                                                        Launch a promotion that gives users discounts on their birthdays   \n",
       "5  Change the category structure. This will increase conversion since users will find the products they want more quickly   \n",
       "6                                                       Launch your own delivery service. This will shorten delivery time   \n",
       "7                                                     Add a customer review page. This will increase the number of orders   \n",
       "8                                        Change the background color on the main page. This will increase user engagement   \n",
       "\n",
       "    RICE  \n",
       "0  112.0  \n",
       "1   56.0  \n",
       "2   40.0  \n",
       "3   40.0  \n",
       "4   16.0  \n",
       "5    9.0  \n",
       "6    4.0  \n",
       "7    4.0  \n",
       "8    3.0  "
      ]
     },
     "execution_count": 30,
     "metadata": {},
     "output_type": "execute_result"
    }
   ],
   "source": [
    "#Applying the RICE framework to prioritize hypotheses.\n",
    "hyp['RICE'] = (hyp['Reach']*hyp['Impact']*hyp['Confidence'])/hyp['Effort']\n",
    "\n",
    "#Sorting them in descending order of priority.\n",
    "RICE_hyp = hyp[['Hypothesis','RICE']].sort_values(by='RICE', ascending=False).reset_index(drop=True)\n",
    "RICE_hyp['RICE'] = RICE_hyp['RICE'].round()\n",
    "\n",
    "#Displaying the full name of the hypotheses in the table.\n",
    "pd.options.display.max_colwidth = 210\n",
    "\n",
    "RICE_hyp\n"
   ]
  },
  {
   "cell_type": "markdown",
   "metadata": {},
   "source": [
    "Conclusion\n",
    "\n",
    "* __Score: 112.__ The hypothesis __\"Add a subscription form to all the main pages to compile a mailing list\"__ ranks highest in the RICE framework due to its extensive reach, significant potential impact, high confidence in its effectiveness, and low implementation effort. By capturing email addresses from a large portion of our website visitors, we can enhance our marketing capabilities through targeted email campaigns. This strategy is expected to increase user engagement, drive sales, and build lasting customer relationships. Given its ease of implementation and substantial benefits, this initiative is a strategic priority for boosting our online store's performance and revenue.\n",
    "\n",
    "\n",
    "* __Score: 56.__ The hypothesis __\"Add product recommendation blocks to the store's site to increase conversion and average purchase size\"__ ranks high in the RICE framework due to its extensive reach, significant potential impact, high confidence in its effectiveness, and moderate implementation effort. By displaying personalized product recommendations to a wide audience, we can enhance the user experience, increase conversion rates, and boost the average purchase size. This strategic initiative is expected to drive substantial revenue growth and improve customer satisfaction, making it one of a top priority for our online store.\n",
    "\n",
    "\n",
    "* __Score: 40.__ The hypothesis __\"Add two new channels for attracting traffic. This will bring 30% more users\"__ scores high in the RICE framework due to its extensive reach, significant potential impact, high confidence in its success, and manageable implementation effort. By expanding our traffic sources, we can attract a larger and more diverse audience, leading to increased sales and market growth. This strategic initiative is essential for boosting our online store's performance and sustaining long-term growth.\n",
    "\n",
    "\n",
    "* __Score: 40.__ The hypothesis __\"Show banners with current offers and sales on the main page. This will boost conversion\"__ scores highly in the RICE framework due to its broad reach, significant potential impact on conversion rates, high confidence in its effectiveness, and low implementation effort. By prominently displaying current offers and sales, we can attract users' attention and encourage them to make purchases, thereby boosting our conversion rate and overall sales. This initiative is a straightforward and efficient way to enhance our online store’s performance and drive revenue growth.\n",
    "\n",
    "\n",
    "\n",
    "\n",
    "\n"
   ]
  },
  {
   "cell_type": "code",
   "execution_count": 31,
   "metadata": {},
   "outputs": [
    {
     "data": {
      "text/html": [
       "<div>\n",
       "<style scoped>\n",
       "    .dataframe tbody tr th:only-of-type {\n",
       "        vertical-align: middle;\n",
       "    }\n",
       "\n",
       "    .dataframe tbody tr th {\n",
       "        vertical-align: top;\n",
       "    }\n",
       "\n",
       "    .dataframe thead th {\n",
       "        text-align: right;\n",
       "    }\n",
       "</style>\n",
       "<table border=\"1\" class=\"dataframe\">\n",
       "  <thead>\n",
       "    <tr style=\"text-align: right;\">\n",
       "      <th></th>\n",
       "      <th>Hypothesis</th>\n",
       "      <th>Reach</th>\n",
       "      <th>Impact</th>\n",
       "      <th>Confidence</th>\n",
       "      <th>Effort</th>\n",
       "      <th>ICE</th>\n",
       "      <th>RICE</th>\n",
       "    </tr>\n",
       "  </thead>\n",
       "  <tbody>\n",
       "    <tr>\n",
       "      <th>0</th>\n",
       "      <td>Add two new channels for attracting traffic. This will bring 30% more users</td>\n",
       "      <td>3</td>\n",
       "      <td>10</td>\n",
       "      <td>8</td>\n",
       "      <td>6</td>\n",
       "      <td>13.0</td>\n",
       "      <td>40.0</td>\n",
       "    </tr>\n",
       "    <tr>\n",
       "      <th>1</th>\n",
       "      <td>Launch your own delivery service. This will shorten delivery time</td>\n",
       "      <td>2</td>\n",
       "      <td>5</td>\n",
       "      <td>4</td>\n",
       "      <td>10</td>\n",
       "      <td>2.0</td>\n",
       "      <td>4.0</td>\n",
       "    </tr>\n",
       "    <tr>\n",
       "      <th>2</th>\n",
       "      <td>Add product recommendation blocks to the store's site. This will increase conversion and average purchase size</td>\n",
       "      <td>8</td>\n",
       "      <td>3</td>\n",
       "      <td>7</td>\n",
       "      <td>3</td>\n",
       "      <td>7.0</td>\n",
       "      <td>56.0</td>\n",
       "    </tr>\n",
       "    <tr>\n",
       "      <th>3</th>\n",
       "      <td>Change the category structure. This will increase conversion since users will find the products they want more quickly</td>\n",
       "      <td>8</td>\n",
       "      <td>3</td>\n",
       "      <td>3</td>\n",
       "      <td>8</td>\n",
       "      <td>1.0</td>\n",
       "      <td>9.0</td>\n",
       "    </tr>\n",
       "    <tr>\n",
       "      <th>4</th>\n",
       "      <td>Change the background color on the main page. This will increase user engagement</td>\n",
       "      <td>3</td>\n",
       "      <td>1</td>\n",
       "      <td>1</td>\n",
       "      <td>1</td>\n",
       "      <td>1.0</td>\n",
       "      <td>3.0</td>\n",
       "    </tr>\n",
       "    <tr>\n",
       "      <th>5</th>\n",
       "      <td>Add a customer review page. This will increase the number of orders</td>\n",
       "      <td>3</td>\n",
       "      <td>2</td>\n",
       "      <td>2</td>\n",
       "      <td>3</td>\n",
       "      <td>1.0</td>\n",
       "      <td>4.0</td>\n",
       "    </tr>\n",
       "    <tr>\n",
       "      <th>6</th>\n",
       "      <td>Show banners with current offers and sales on the main page. This will boost conversion</td>\n",
       "      <td>5</td>\n",
       "      <td>3</td>\n",
       "      <td>8</td>\n",
       "      <td>3</td>\n",
       "      <td>8.0</td>\n",
       "      <td>40.0</td>\n",
       "    </tr>\n",
       "    <tr>\n",
       "      <th>7</th>\n",
       "      <td>Add a subscription form to all the main pages. This will help you compile a mailing list</td>\n",
       "      <td>10</td>\n",
       "      <td>7</td>\n",
       "      <td>8</td>\n",
       "      <td>5</td>\n",
       "      <td>11.0</td>\n",
       "      <td>112.0</td>\n",
       "    </tr>\n",
       "    <tr>\n",
       "      <th>8</th>\n",
       "      <td>Launch a promotion that gives users discounts on their birthdays</td>\n",
       "      <td>1</td>\n",
       "      <td>9</td>\n",
       "      <td>9</td>\n",
       "      <td>5</td>\n",
       "      <td>16.0</td>\n",
       "      <td>16.0</td>\n",
       "    </tr>\n",
       "  </tbody>\n",
       "</table>\n",
       "</div>"
      ],
      "text/plain": [
       "                                                                                                               Hypothesis  \\\n",
       "0                                             Add two new channels for attracting traffic. This will bring 30% more users   \n",
       "1                                                       Launch your own delivery service. This will shorten delivery time   \n",
       "2          Add product recommendation blocks to the store's site. This will increase conversion and average purchase size   \n",
       "3  Change the category structure. This will increase conversion since users will find the products they want more quickly   \n",
       "4                                        Change the background color on the main page. This will increase user engagement   \n",
       "5                                                     Add a customer review page. This will increase the number of orders   \n",
       "6                                 Show banners with current offers and sales on the main page. This will boost conversion   \n",
       "7                                Add a subscription form to all the main pages. This will help you compile a mailing list   \n",
       "8                                                        Launch a promotion that gives users discounts on their birthdays   \n",
       "\n",
       "   Reach  Impact  Confidence  Effort   ICE   RICE  \n",
       "0      3      10           8       6  13.0   40.0  \n",
       "1      2       5           4      10   2.0    4.0  \n",
       "2      8       3           7       3   7.0   56.0  \n",
       "3      8       3           3       8   1.0    9.0  \n",
       "4      3       1           1       1   1.0    3.0  \n",
       "5      3       2           2       3   1.0    4.0  \n",
       "6      5       3           8       3   8.0   40.0  \n",
       "7     10       7           8       5  11.0  112.0  \n",
       "8      1       9           9       5  16.0   16.0  "
      ]
     },
     "execution_count": 31,
     "metadata": {},
     "output_type": "execute_result"
    }
   ],
   "source": [
    "#Showing how the prioritization of hypotheses changes when you use RICE instead of ICE.\n",
    "hyp.round()\n"
   ]
  },
  {
   "cell_type": "code",
   "execution_count": 32,
   "metadata": {},
   "outputs": [
    {
     "data": {
      "image/png": "[encoded data removed]",
      "text/plain": [
       "<Figure size 1500x1500 with 42 Axes>"
      ]
     },
     "metadata": {},
     "output_type": "display_data"
    }
   ],
   "source": [
    "# Pair plot\n",
    "sns.pairplot(hyp[['Impact', 'Confidence', 'Effort', 'Reach', 'ICE', 'RICE']])\n",
    "plt.suptitle('Pair Plot of Hypothesis Metrics', y=1.02)\n",
    "plt.show()\n"
   ]
  },
  {
   "cell_type": "markdown",
   "metadata": {},
   "source": [
    "Conclusion\n",
    "\n",
    "We can see the relationships between pairs of metrics and the distribution of each metric. "
   ]
  },
  {
   "cell_type": "markdown",
   "metadata": {},
   "source": [
    "### 3.1 Conclusion <a id=\"hypotheses_conclusion\"></a>\n",
    "\n",
    "__Explanation of Changes__\n",
    "\n",
    "\n",
    "When using the RICE framework instead of the ICE framework, the prioritization of hypotheses changes significantly. Here’s why:\n",
    "\n",
    "The RICE framework includes Reach, which accounts for the number of users affected by the initiative. This additional dimension can drastically change the prioritization by highlighting hypotheses that impact a larger audience.\n",
    "\n",
    "Hypothesis H7: __\"Add a subscription form to all the main pages. This will help you compile a mailing list\"__ remains the highest priority in both frameworks due to its high confidence and relatively low effort. However, its dominance is even more pronounced in RICE because it reaches the widest audience.\n",
    "\n",
    "Hypothesis H0: __\"Add two new channels for attracting traffic. This will bring 30% more users\"__ scores higher in RICE compared to ICE because the increase in users (Reach) significantly boosts its score.\n",
    "\n",
    "Hypothesis H6: __\"Show banners with current offers and sales on the main page. This will boost conversion\"__ moves up in priority in RICE compared to ICE due to its reach, even though it has a lower impact score.\n",
    "\n",
    "Hypothesis H8: __\"Launch a promotion that gives users discounts on their birthdays\"__ ranks lower in RICE compared to ICE because its reach is relatively smaller compared to the other hypotheses.\n",
    "\n",
    "\n",
    "Summary\n",
    "\n",
    "\n",
    "The inclusion of Reach in the RICE framework provides a more comprehensive evaluation by considering the number of users impacted by each initiative. This often leads to different prioritization, highlighting initiatives that may have a broader impact but were undervalued in the ICE framework due to the absence of reach consideration. By using RICE, we ensure that initiatives with the potential to affect the largest audience are prioritized, aligning our efforts with broader business goals of maximizing user engagement and revenue growth.\n",
    "\n",
    "\n",
    "[Back to Contents](#back)"
   ]
  },
  {
   "cell_type": "markdown",
   "metadata": {},
   "source": [
    "## Stage 4: A/B Test Analysis <a id=\"ab_test\"></a>"
   ]
  },
  {
   "cell_type": "markdown",
   "metadata": {},
   "source": [
    "Before completing the tasks, we have to aggregate clean data by date and group."
   ]
  },
  {
   "cell_type": "code",
   "execution_count": 33,
   "metadata": {},
   "outputs": [
    {
     "name": "stdout",
     "output_type": "stream",
     "text": [
      "        date group  orders  buyers  revenue  visitors\n",
      "0 2019-08-01     A      23      19   2266.6       719\n",
      "1 2019-08-01     B      17      17    967.2       713\n",
      "2 2019-08-02     A      42      36   3734.9      1338\n",
      "3 2019-08-02     B      40      39   3535.3      1294\n",
      "4 2019-08-03     A      66      60   5550.1      1845\n"
     ]
    }
   ],
   "source": [
    "# building an array with unique paired date-group values\n",
    "datesGroups = clean_orders[['date', 'group']].drop_duplicates()\n",
    "\n",
    "# getting aggregated cumulative daily data on orders \n",
    "ordersAggregated = datesGroups.apply(\n",
    "    lambda x: clean_orders[\n",
    "        np.logical_and(\n",
    "            clean_orders['date'] <= x['date'], clean_orders['group'] == x['group']\n",
    "        )\n",
    "    ].agg(\n",
    "        {\n",
    "            'date': 'max',\n",
    "            'group': 'max',\n",
    "            'transaction_id': pd.Series.nunique,\n",
    "            'visitor_id': pd.Series.nunique,\n",
    "            'revenue': 'sum',\n",
    "        }\n",
    "    ),\n",
    "    axis=1,\n",
    ").sort_values(by=['date', 'group'])\n",
    "\n",
    "\n",
    "# getting aggregated cumulative daily data on visitors  \n",
    "visitsAggregated = datesGroups.apply(\n",
    "    lambda x: visits[\n",
    "        np.logical_and(\n",
    "            visits['date'] <= x['date'], visits['group'] == x['group']\n",
    "        )\n",
    "    ].agg({'date': 'max', 'group': 'max', 'visits': 'sum'}),\n",
    "    axis=1,\n",
    ").sort_values(by=['date', 'group'])\n",
    "\n",
    "\n",
    "\n",
    "# merging the two tables into one and giving its columns descriptive names\n",
    "cumulativeData = ordersAggregated.merge(\n",
    "    visitsAggregated, left_on=['date', 'group'], right_on=['date', 'group']\n",
    ")\n",
    "cumulativeData.columns = [\n",
    "    'date',\n",
    "    'group',\n",
    "    'orders',\n",
    "    'buyers',\n",
    "    'revenue',\n",
    "    'visitors',\n",
    "]\n",
    "\n",
    "print(cumulativeData.head(5))"
   ]
  },
  {
   "cell_type": "markdown",
   "metadata": {},
   "source": [
    "### 4.1 Graph Cumulative Revenue by Group. Make Conclusions and Conjectures. <a id=\"task_1\"></a>"
   ]
  },
  {
   "cell_type": "markdown",
   "metadata": {},
   "source": [
    "Let's plot cumulative revenue graphs by day and A/B test group:"
   ]
  },
  {
   "cell_type": "code",
   "execution_count": 34,
   "metadata": {},
   "outputs": [
    {
     "data": {
      "text/plain": [
       "<matplotlib.legend.Legend at 0x7fa039208be0>"
      ]
     },
     "execution_count": 34,
     "metadata": {},
     "output_type": "execute_result"
    },
    {
     "data": {
      "image/png": "[encoded data removed]",
      "text/plain": [
       "<Figure size 640x480 with 1 Axes>"
      ]
     },
     "metadata": {},
     "output_type": "display_data"
    }
   ],
   "source": [
    "# DataFrame with cumulative orders and cumulative revenue by day, group A\n",
    "cumulativeRevenueA = cumulativeData[cumulativeData['group']=='A'][['date','revenue', 'orders']]\n",
    "\n",
    "# DataFrame with cumulative orders and cumulative revenue by day, group B\n",
    "cumulativeRevenueB = cumulativeData[cumulativeData['group']=='B'][['date','revenue', 'orders']]\n",
    "\n",
    "# Plotting the group A revenue graph \n",
    "plt.plot(cumulativeRevenueA['date'], cumulativeRevenueA['revenue'], label='A')\n",
    "\n",
    "# Plotting the group B revenue graph \n",
    "plt.plot(cumulativeRevenueB['date'], cumulativeRevenueB['revenue'], label='B')\n",
    "\n",
    "# Adding titles and labels for clarity\n",
    "plt.title('Cumulative Revenue by Group')\n",
    "plt.xlabel('Date')\n",
    "plt.ylabel('Revenue')\n",
    "plt.legend()\n",
    "plt.grid(True)\n",
    "plt.xticks(rotation=45)  # Rotate x-axis labels for better readability\n",
    "plt.tight_layout()  # Adjust layout to prevent clipping of labels\n",
    "plt.legend()\n"
   ]
  },
  {
   "cell_type": "markdown",
   "metadata": {},
   "source": [
    "\n",
    "Conclusions:\n",
    "​\n",
    "* Both groups show a steady increase in revenue over time.\n",
    "* Group B has a consistently higher cumulative revenue than Group A.\n",
    "* Group B shows a sharp increase in revenue between 17th and 21st of August, indicating possible successful campaigns or promotions.\n",
    "* However, we can see that both groups see spikes in revenue at certain points. This may imply either a surge in the number of orders or the presence of very expensive orders in the sample. We will analyze such outliers a bit later.\n",
    "\n",
    "\n",
    "\n",
    "Conjectures:\n",
    "​\n",
    "* Group B might be responding better to marketing strategies or has higher customer engagement.\n",
    "* Investigate the specific dates between 2019-08-17 and 2019-08-17 where Group B's revenue spikes to understand the underlying causes.\n",
    "* Consider adjusting strategies for Group A to emulate the success seen in Group B."
   ]
  },
  {
   "cell_type": "markdown",
   "metadata": {},
   "source": [
    "### 4.2 Graph Cumulative Average Order Size by Group. Make Conclusions and Conjectures. <a id=\"task_2\"></a>"
   ]
  },
  {
   "cell_type": "code",
   "execution_count": 35,
   "metadata": {},
   "outputs": [
    {
     "data": {
      "text/plain": [
       "<matplotlib.legend.Legend at 0x7fa03c62e850>"
      ]
     },
     "execution_count": 35,
     "metadata": {},
     "output_type": "execute_result"
    },
    {
     "data": {
      "image/png": "[encoded data removed]",
      "text/plain": [
       "<Figure size 640x480 with 1 Axes>"
      ]
     },
     "metadata": {},
     "output_type": "display_data"
    }
   ],
   "source": [
    "#Let's plot average purchase size by group. We'll divide cumulative revenue by the cumulative number of orders:\n",
    "plt.plot(cumulativeRevenueA['date'], cumulativeRevenueA['revenue']/cumulativeRevenueA['orders'], label='A')\n",
    "plt.plot(cumulativeRevenueB['date'], cumulativeRevenueB['revenue']/cumulativeRevenueB['orders'], label='B')\n",
    "\n",
    "# Adding titles and labels for clarity\n",
    "plt.title('Cumulative Average Order Size by Group')\n",
    "plt.xlabel('Date')\n",
    "plt.ylabel('Average Order Size')\n",
    "plt.legend()\n",
    "plt.grid(True)\n",
    "plt.xticks(rotation=45)  # Rotate x-axis labels for better readability\n",
    "plt.tight_layout()  # Adjust layout to prevent clipping of labels\n",
    "plt.legend()\n"
   ]
  },
  {
   "cell_type": "markdown",
   "metadata": {},
   "source": [
    "Conclusion\n",
    "\n",
    "\n",
    "Average purchase size becomes steady by the end of the test, too: it stabilizes for group A and keeps on rising for group B. The surge in group B in the second half of the test may have been due to the presence of large, expensive orders. We need more data on this group to find the true average purchase size and establish its level. "
   ]
  },
  {
   "cell_type": "markdown",
   "metadata": {},
   "source": [
    "### 4.3 Graph the Relative Difference in Cumulative Average Order Size for Group B Compared with Group A. Make Conclusions and Conjectures. <a id=\"task_3\"></a>"
   ]
  },
  {
   "cell_type": "code",
   "execution_count": 36,
   "metadata": {},
   "outputs": [
    {
     "name": "stderr",
     "output_type": "stream",
     "text": [
      "No handles with labels found to put in legend.\n",
      "No handles with labels found to put in legend.\n"
     ]
    },
    {
     "data": {
      "text/plain": [
       "<matplotlib.legend.Legend at 0x7fa03878e190>"
      ]
     },
     "execution_count": 36,
     "metadata": {},
     "output_type": "execute_result"
    },
    {
     "data": {
      "image/png": "[encoded data removed]",
      "text/plain": [
       "<Figure size 640x480 with 1 Axes>"
      ]
     },
     "metadata": {},
     "output_type": "display_data"
    }
   ],
   "source": [
    "#Let's plot a relative difference graph for the average order sizes. We'll add a horizontal axis with the axhline() method (i.e. horizontal line across the axis):\n",
    "# gathering the data into one DataFrame\n",
    "mergedCumulativeRevenue = cumulativeRevenueA.merge(cumulativeRevenueB, left_on='date', right_on='date', how='left', suffixes=['A', 'B'])\n",
    "\n",
    "# plotting a relative difference graph for the average purchase sizes\n",
    "plt.plot(mergedCumulativeRevenue['date'], (mergedCumulativeRevenue['revenueB']/mergedCumulativeRevenue['ordersB'])/(mergedCumulativeRevenue['revenueA']/mergedCumulativeRevenue['ordersA'])-1)\n",
    "\n",
    "# adding the X axis\n",
    "plt.axhline(y=0, color='black', linestyle='--')\n",
    "\n",
    "# Adding titles and labels for clarity\n",
    "plt.title('Cumulative Average Order Size for Group B Compared with Group A')\n",
    "plt.xlabel('Date')\n",
    "plt.ylabel('Cumulative Average Order Size')\n",
    "plt.legend()\n",
    "plt.grid(True)\n",
    "plt.xticks(rotation=45)  # Rotate x-axis labels for better readability\n",
    "plt.tight_layout()  # Adjust layout to prevent clipping of labels\n",
    "plt.legend()\n",
    "\n",
    "\n"
   ]
  },
  {
   "cell_type": "markdown",
   "metadata": {},
   "source": [
    "Conclusion\n",
    "\n",
    "At several points the difference between the segments spikes. This means there must be some big orders and outliers! We'll find them later.\n",
    "\n",
    "We'll analyze the cumulative conversion graph in an analogous way. "
   ]
  },
  {
   "cell_type": "markdown",
   "metadata": {},
   "source": [
    "### 4.4 Calculate Each Group's Conversion Rate as the Ratio of Orders to the Number of Visits for Each Day. Plot the Daily Conversion Rates of the Two Groups and Describe the Difference. Draw Conclusions and Make Conjectures. <a id=\"task_4\"></a>"
   ]
  },
  {
   "cell_type": "code",
   "execution_count": 37,
   "metadata": {},
   "outputs": [
    {
     "data": {
      "text/plain": [
       "<matplotlib.legend.Legend at 0x7fa03871edf0>"
      ]
     },
     "execution_count": 37,
     "metadata": {},
     "output_type": "execute_result"
    },
    {
     "data": {
      "image/png": "[encoded data removed]",
      "text/plain": [
       "<Figure size 640x480 with 1 Axes>"
      ]
     },
     "metadata": {},
     "output_type": "display_data"
    }
   ],
   "source": [
    "# calculating cumulative conversion\n",
    "cumulativeData['conversion'] = cumulativeData['orders']/cumulativeData['visitors']\n",
    "\n",
    "# selecting data on group A \n",
    "cumulativeDataA = cumulativeData[cumulativeData['group']=='A']\n",
    "\n",
    "# selecting data on group B\n",
    "cumulativeDataB = cumulativeData[cumulativeData['group']=='B']\n",
    "\n",
    "# plotting the graphs\n",
    "plt.plot(cumulativeDataA['date'], cumulativeDataA['conversion'], label='A')\n",
    "plt.plot(cumulativeDataB['date'], cumulativeDataB['conversion'], label='B')\n",
    "\n",
    "# Adding titles and labels for clarity\n",
    "plt.title('Daily Conversion Rates of Groups A and B')\n",
    "plt.xlabel('Date')\n",
    "plt.ylabel('Conversion Rate')\n",
    "plt.legend()\n",
    "plt.grid(True)\n",
    "plt.xticks(rotation=45)  # Rotate x-axis labels for better readability\n",
    "plt.tight_layout()  # Adjust layout to prevent clipping of labels\n",
    "plt.legend()\n"
   ]
  },
  {
   "cell_type": "markdown",
   "metadata": {},
   "source": [
    "Conclusion\n",
    "\n",
    "* The plots are asymmetrical after the 8th of September 2019. \n",
    "* The groups were fluctuating around the same value, but then the conversion rate of group A dropped before stabilizing, while the conversion rate of group B rose but then stabilized, too.\n",
    "* Group B's conversion rate is consistently higher than Group A's after the 8th of September 2019, indicating that the changes implemented for Group B are effective in driving more conversions.\n",
    "* There is a significant spikes and dips at the begonning of the test, this is a normal trend for the beginning of the A/B test.\n",
    "* The difference between the groups is less pronounced over time.\n"
   ]
  },
  {
   "cell_type": "markdown",
   "metadata": {},
   "source": [
    "Let's plot a relative difference graph for the cumulative conversion rates:\n",
    "\n"
   ]
  },
  {
   "cell_type": "code",
   "execution_count": 38,
   "metadata": {},
   "outputs": [
    {
     "name": "stderr",
     "output_type": "stream",
     "text": [
      "No handles with labels found to put in legend.\n",
      "No handles with labels found to put in legend.\n"
     ]
    },
    {
     "data": {
      "image/png": "[encoded data removed]",
      "text/plain": [
       "<Figure size 640x480 with 1 Axes>"
      ]
     },
     "metadata": {},
     "output_type": "display_data"
    }
   ],
   "source": [
    "# Merging cumulative conversions of Group A and Group B\n",
    "mergedCumulativeConversions = cumulativeDataA[['date','conversion']].merge(cumulativeDataB[['date','conversion']], left_on='date', right_on='date', how='left', suffixes=['A', 'B'])\n",
    "\n",
    "# Calculating the relative difference in cumulative conversion rates\n",
    "plt.plot(mergedCumulativeConversions['date'], mergedCumulativeConversions['conversionB']/mergedCumulativeConversions['conversionA']-1)\n",
    "plt.legend()\n",
    "\n",
    "plt.axhline(y=0, color='black', linestyle='--')\n",
    "plt.axhline(y=-0.1, color='grey', linestyle='--')\n",
    "plt.axis([pd.to_datetime('2019-08-01'), pd.to_datetime('2019-09-01'), -0.5, 0.5])\n",
    "\n",
    "# Adding titles and labels\n",
    "plt.title('Relative Difference in Cumulative Conversion Rates (Group B vs. Group A)')\n",
    "plt.xlabel('Date')\n",
    "plt.ylabel('Relative Difference')\n",
    "plt.legend()\n",
    "plt.grid(True)\n",
    "plt.xticks(rotation=45)  # Rotate x-axis labels for better readability\n",
    "plt.tight_layout()  # Adjust layout to prevent clipping of labels\n"
   ]
  },
  {
   "cell_type": "markdown",
   "metadata": {},
   "source": [
    "Conclusion\n",
    "\n",
    "At the beginning of the test, group B was lagging behind noticeably, but then it suddenly took the lead. Then its conversion fell again, and now it's growing gradually. \n",
    "\n",
    "In general, the conversion ratio is not yet stable, so it's too early to draw conclusions about the test. In any case, first we should have a look at the anomalies; they might change the picture in some way. "
   ]
  },
  {
   "cell_type": "markdown",
   "metadata": {},
   "source": [
    "### 4.5 Plot a Scatter Chart of the Number of Orders per User. Make Conclusions and Conjectures. <a id=\"task_5\"></a>"
   ]
  },
  {
   "cell_type": "markdown",
   "metadata": {},
   "source": [
    "Let's find the number of orders per user and print the result:"
   ]
  },
  {
   "cell_type": "code",
   "execution_count": 39,
   "metadata": {},
   "outputs": [
    {
     "name": "stdout",
     "output_type": "stream",
     "text": [
      "         userId  orders\n",
      "908  3967698036       3\n",
      "55    249864742       3\n",
      "478  2108163459       3\n",
      "687  2988190573       3\n",
      "890  3908431265       3\n",
      "138   611059232       3\n",
      "632  2742574263       3\n",
      "157   678354126       2\n",
      "323  1404560065       2\n",
      "452  1985475298       2\n"
     ]
    }
   ],
   "source": [
    "ordersByUsers = (\n",
    "    clean_orders.drop(['group', 'revenue', 'date'], axis=1)\n",
    "    .groupby('visitor_id', as_index=False)\n",
    "    .agg({'transaction_id': pd.Series.nunique})\n",
    ")\n",
    "\n",
    "ordersByUsers.columns = ['userId', 'orders']\n",
    "\n",
    "print(ordersByUsers.sort_values(by='orders', ascending=False).head(10))"
   ]
  },
  {
   "cell_type": "code",
   "execution_count": 40,
   "metadata": {},
   "outputs": [
    {
     "data": {
      "image/png": "[encoded data removed]",
      "text/plain": [
       "<Figure size 640x480 with 1 Axes>"
      ]
     },
     "metadata": {},
     "output_type": "display_data"
    }
   ],
   "source": [
    "plt.hist(ordersByUsers['orders'])\n",
    "\n",
    "plt.title('Histogram of the Number of Orders per User')\n",
    "plt.xlabel('User ID')\n",
    "plt.ylabel('Number of Orders')\n",
    "plt.grid(True)\n",
    "plt.show()\n"
   ]
  },
  {
   "cell_type": "markdown",
   "metadata": {},
   "source": [
    "Conclusion\n",
    "\n",
    "The majority of customers placed only one order. However, a significant share placed two to three apiece.\n",
    "\n",
    "Let's plot a scatter chart with the number of orders per user:"
   ]
  },
  {
   "cell_type": "code",
   "execution_count": 41,
   "metadata": {},
   "outputs": [
    {
     "data": {
      "image/png": "[encoded data removed]",
      "text/plain": [
       "<Figure size 640x480 with 1 Axes>"
      ]
     },
     "metadata": {},
     "output_type": "display_data"
    }
   ],
   "source": [
    "# the range of numbers from 0 to the number of observations in ordersByUsers\n",
    "x_values = pd.Series(range(0,len(ordersByUsers)))\n",
    "plt.scatter(x_values, ordersByUsers['orders'])\n",
    "\n",
    "\n",
    "plt.title('Scatter Plot of the Number of Orders per User')\n",
    "plt.xlabel('User ID')\n",
    "plt.ylabel('Number of Orders')\n",
    "plt.grid(True)\n",
    "plt.show()"
   ]
  },
  {
   "cell_type": "markdown",
   "metadata": {},
   "source": [
    "Conclusion\n",
    "\n",
    "Our conclusions are confirmed: there are indeed a lot of users with only one order. Much less users have two orders, and only a few has 3 orders. The exact share remains unknown, since it's not clear whether we should consider them anomalies or not. \n",
    "\n",
    "Let's calculate percentiles for the number of orders per user:"
   ]
  },
  {
   "cell_type": "markdown",
   "metadata": {},
   "source": [
    "### 4.6 Calculate the 95th and 99th Percentiles for the Number of Orders per User. Define the Point at Which a Data Point Becomes an Anomaly. <a id=\"task_6\"></a>"
   ]
  },
  {
   "cell_type": "code",
   "execution_count": 42,
   "metadata": {},
   "outputs": [
    {
     "name": "stdout",
     "output_type": "stream",
     "text": [
      "[1. 2.]\n"
     ]
    }
   ],
   "source": [
    "print(np.percentile(ordersByUsers['orders'], [95, 99]))\n"
   ]
  },
  {
   "cell_type": "markdown",
   "metadata": {},
   "source": [
    "Conclusion \n",
    "\n",
    "No more than 5% of users placed more than 1 order and even less than 1% of users made 2 orders.\n",
    "\n",
    "Thus, it would be reasonable to set __1 order per user__ as the lower limit for the number of orders and to filter anpmalies on that basis.\n"
   ]
  },
  {
   "cell_type": "markdown",
   "metadata": {},
   "source": [
    "### 4.7 Plot a Scatter Chart of Order Prices. Make Conclusions and Conjectures. <a id=\"task_7\"></a>"
   ]
  },
  {
   "cell_type": "code",
   "execution_count": 43,
   "metadata": {},
   "outputs": [
    {
     "data": {
      "image/png": "[encoded data removed]",
      "text/plain": [
       "<Figure size 1000x600 with 1 Axes>"
      ]
     },
     "metadata": {},
     "output_type": "display_data"
    }
   ],
   "source": [
    "# Plotting a scatter chart of order prices.\n",
    "x_values = pd.Series(range(0, len(clean_orders['revenue'])))\n",
    "\n",
    "# Creating the scatter plot\n",
    "plt.figure(figsize=(10, 6))\n",
    "plt.scatter(x_values, clean_orders['revenue'])\n",
    "\n",
    "# Adding more ticks to the y-axis\n",
    "y_ticks = range(0, int(clean_orders['revenue'].max()) + 1000, 1000)\n",
    "plt.yticks(y_ticks)\n",
    "\n",
    "plt.title('Scatter Chart of Order Prices')\n",
    "plt.xlabel('Orders')\n",
    "plt.ylabel('Revenue')\n",
    "plt.grid(True)\n",
    "plt.show()\n"
   ]
  },
  {
   "cell_type": "markdown",
   "metadata": {},
   "source": [
    "Conclusion\n",
    "\n",
    "Just as we expected, there are several big orders. Based on the graph, we can set the limit for abnormal orders between 2,000 usd and 20,000 usd. \n"
   ]
  },
  {
   "cell_type": "markdown",
   "metadata": {},
   "source": [
    "Let's explore the most common order prices without outliers."
   ]
  },
  {
   "cell_type": "code",
   "execution_count": 44,
   "metadata": {},
   "outputs": [
    {
     "data": {
      "text/html": [
       "<div>\n",
       "<style scoped>\n",
       "    .dataframe tbody tr th:only-of-type {\n",
       "        vertical-align: middle;\n",
       "    }\n",
       "\n",
       "    .dataframe tbody tr th {\n",
       "        vertical-align: top;\n",
       "    }\n",
       "\n",
       "    .dataframe thead th {\n",
       "        text-align: right;\n",
       "    }\n",
       "</style>\n",
       "<table border=\"1\" class=\"dataframe\">\n",
       "  <thead>\n",
       "    <tr style=\"text-align: right;\">\n",
       "      <th></th>\n",
       "      <th>transaction_id</th>\n",
       "      <th>visitor_id</th>\n",
       "      <th>date</th>\n",
       "      <th>revenue</th>\n",
       "      <th>group</th>\n",
       "    </tr>\n",
       "  </thead>\n",
       "  <tbody>\n",
       "    <tr>\n",
       "      <th>0</th>\n",
       "      <td>3667963787</td>\n",
       "      <td>3312258926</td>\n",
       "      <td>2019-08-15</td>\n",
       "      <td>30.4</td>\n",
       "      <td>B</td>\n",
       "    </tr>\n",
       "    <tr>\n",
       "      <th>1</th>\n",
       "      <td>2804400009</td>\n",
       "      <td>3642806036</td>\n",
       "      <td>2019-08-15</td>\n",
       "      <td>15.2</td>\n",
       "      <td>B</td>\n",
       "    </tr>\n",
       "    <tr>\n",
       "      <th>3</th>\n",
       "      <td>3797467345</td>\n",
       "      <td>1196621759</td>\n",
       "      <td>2019-08-15</td>\n",
       "      <td>155.1</td>\n",
       "      <td>B</td>\n",
       "    </tr>\n",
       "    <tr>\n",
       "      <th>4</th>\n",
       "      <td>2282983706</td>\n",
       "      <td>2322279887</td>\n",
       "      <td>2019-08-15</td>\n",
       "      <td>40.5</td>\n",
       "      <td>B</td>\n",
       "    </tr>\n",
       "    <tr>\n",
       "      <th>5</th>\n",
       "      <td>182168103</td>\n",
       "      <td>935554773</td>\n",
       "      <td>2019-08-15</td>\n",
       "      <td>35.0</td>\n",
       "      <td>B</td>\n",
       "    </tr>\n",
       "    <tr>\n",
       "      <th>...</th>\n",
       "      <td>...</td>\n",
       "      <td>...</td>\n",
       "      <td>...</td>\n",
       "      <td>...</td>\n",
       "      <td>...</td>\n",
       "    </tr>\n",
       "    <tr>\n",
       "      <th>1191</th>\n",
       "      <td>3592955527</td>\n",
       "      <td>608641596</td>\n",
       "      <td>2019-08-14</td>\n",
       "      <td>255.7</td>\n",
       "      <td>B</td>\n",
       "    </tr>\n",
       "    <tr>\n",
       "      <th>1192</th>\n",
       "      <td>2662137336</td>\n",
       "      <td>3733762160</td>\n",
       "      <td>2019-08-14</td>\n",
       "      <td>100.8</td>\n",
       "      <td>B</td>\n",
       "    </tr>\n",
       "    <tr>\n",
       "      <th>1193</th>\n",
       "      <td>2203539145</td>\n",
       "      <td>370388673</td>\n",
       "      <td>2019-08-14</td>\n",
       "      <td>50.1</td>\n",
       "      <td>A</td>\n",
       "    </tr>\n",
       "    <tr>\n",
       "      <th>1194</th>\n",
       "      <td>1807773912</td>\n",
       "      <td>573423106</td>\n",
       "      <td>2019-08-14</td>\n",
       "      <td>165.3</td>\n",
       "      <td>A</td>\n",
       "    </tr>\n",
       "    <tr>\n",
       "      <th>1196</th>\n",
       "      <td>3936777065</td>\n",
       "      <td>2108080724</td>\n",
       "      <td>2019-08-15</td>\n",
       "      <td>3120.1</td>\n",
       "      <td>B</td>\n",
       "    </tr>\n",
       "  </tbody>\n",
       "</table>\n",
       "<p>1016 rows × 5 columns</p>\n",
       "</div>"
      ],
      "text/plain": [
       "      transaction_id  visitor_id       date  revenue group\n",
       "0         3667963787  3312258926 2019-08-15     30.4     B\n",
       "1         2804400009  3642806036 2019-08-15     15.2     B\n",
       "3         3797467345  1196621759 2019-08-15    155.1     B\n",
       "4         2282983706  2322279887 2019-08-15     40.5     B\n",
       "5          182168103   935554773 2019-08-15     35.0     B\n",
       "...              ...         ...        ...      ...   ...\n",
       "1191      3592955527   608641596 2019-08-14    255.7     B\n",
       "1192      2662137336  3733762160 2019-08-14    100.8     B\n",
       "1193      2203539145   370388673 2019-08-14     50.1     A\n",
       "1194      1807773912   573423106 2019-08-14    165.3     A\n",
       "1196      3936777065  2108080724 2019-08-15   3120.1     B\n",
       "\n",
       "[1016 rows x 5 columns]"
      ]
     },
     "execution_count": 44,
     "metadata": {},
     "output_type": "execute_result"
    }
   ],
   "source": [
    "clean_orders"
   ]
  },
  {
   "cell_type": "code",
   "execution_count": 45,
   "metadata": {},
   "outputs": [
    {
     "data": {
      "image/png": "[encoded data removed]",
      "text/plain": [
       "<Figure size 1000x600 with 1 Axes>"
      ]
     },
     "metadata": {},
     "output_type": "display_data"
    }
   ],
   "source": [
    "# Plotting a scatter chart of order prices.\n",
    "x_values = pd.Series(range(0, len(clean_orders['revenue'])))\n",
    "\n",
    "# Creating the scatter plot\n",
    "plt.figure(figsize=(10, 6))\n",
    "plt.scatter(x_values, clean_orders['revenue'])\n",
    "\n",
    "plt.title('Scatter Chart of Order Prices without Outliers')\n",
    "plt.xlabel('Orders')\n",
    "plt.ylabel('Revenue')\n",
    "plt.grid(True)\n",
    "plt.ylim((0,1000))\n",
    "plt.show()"
   ]
  },
  {
   "cell_type": "markdown",
   "metadata": {},
   "source": [
    "As we can see from the graph, most orders are clustered around 0 and 100 USD."
   ]
  },
  {
   "cell_type": "markdown",
   "metadata": {},
   "source": [
    "### 4.8 Calculate the 95th and 99th Percentiles of Order Prices. Define the Point at Which a Data Point Becomes an Anomaly. <a id=\"task_8\"></a>"
   ]
  },
  {
   "cell_type": "code",
   "execution_count": 46,
   "metadata": {},
   "outputs": [
    {
     "name": "stdout",
     "output_type": "stream",
     "text": [
      "[280.8   414.275 830.3  ]\n"
     ]
    }
   ],
   "source": [
    "print(np.percentile(clean_orders['revenue'], [90, 95, 99]))"
   ]
  },
  {
   "cell_type": "code",
   "execution_count": 47,
   "metadata": {},
   "outputs": [
    {
     "name": "stdout",
     "output_type": "stream",
     "text": [
      "Number of anomalies (90th percentile): 97\n",
      "Number of anomalies (95th percentile): 48\n",
      "Number of anomalies (99th percentile): 9\n"
     ]
    }
   ],
   "source": [
    "percentile_90 = np.percentile(orders['revenue'], 90)\n",
    "percentile_95 = np.percentile(orders['revenue'], 95)\n",
    "percentile_99 = np.percentile(orders['revenue'], 99)\n",
    "# Define anomalies\n",
    "# Anomalies can be considered as points above the 90th percentile\n",
    "anomalies_90 = clean_orders[clean_orders['revenue'] > percentile_90]\n",
    "\n",
    "# Anomalies can be considered as points above the 95th percentile\n",
    "anomalies_95 = clean_orders[clean_orders['revenue'] > percentile_95]\n",
    "\n",
    "# If you want to be more strict and consider only the top 1% as anomalies\n",
    "anomalies_99 = clean_orders[clean_orders['revenue'] > percentile_99]\n",
    "\n",
    "print(f\"Number of anomalies (90th percentile): {anomalies_90.shape[0]}\")\n",
    "print(f\"Number of anomalies (95th percentile): {anomalies_95.shape[0]}\")\n",
    "print(f\"Number of anomalies (99th percentile): {anomalies_99.shape[0]}\")\n"
   ]
  },
  {
   "cell_type": "markdown",
   "metadata": {},
   "source": [
    "Conclusion\n",
    "\n",
    "No more than 5% of orders cost more than __414.275__ usd, and no more than 1% cost more than 830.3 usd.This means that any order with a price above 414.275 is in the top 5% and can be considered an anomaly, while orders above 830.3 are in the top 1% and represent the most extreme anomalies.\n"
   ]
  },
  {
   "cell_type": "markdown",
   "metadata": {},
   "source": [
    "### 4.9 Find the Statistical Significance of the Difference in Conversion Between the Groups Using the Raw Data. Make Conclusions and Conjectures. <a id=\"task_9\"></a>"
   ]
  },
  {
   "cell_type": "markdown",
   "metadata": {},
   "source": [
    "Now, let's proceed with the statistical test.\n",
    "\n",
    "To find the statistical significance of the difference in conversion between the groups using the raw data, we can perform a hypothesis test, such as the Mann-Whitney U test.\n",
    "\n",
    "__Null Hypothesis__ (\\(H_0\\)):\n",
    "\n",
    "(H_0\\): There is no statistically significant difference in conversion rates between group A and group B.\n",
    "\n",
    "__Alternative Hypothesis__(\\(H_1\\)):\n",
    "\n",
    "(H_1\\): There is a statistically significant difference in conversion rates between group A and group B.\n",
    "\n",
    "Now, let's calculate the p-value for the Mann-Whitney U test and interpret the results.\n"
   ]
  },
  {
   "cell_type": "markdown",
   "metadata": {},
   "source": [
    "Firts, let's calculate the statistical significance of the difference in conversion between the groups. \n",
    "\n",
    "We'll create the variables ordersByUsersA and ordersByUsersB to store the columns ['userId', 'orders']. For users with at least one order, we'll indicate the number of orders made. "
   ]
  },
  {
   "cell_type": "code",
   "execution_count": 48,
   "metadata": {},
   "outputs": [],
   "source": [
    "ordersByUsersA = clean_orders[clean_orders['group']=='A'].groupby('visitor_id', as_index=False).agg({'transaction_id' : pd.Series.nunique})\n",
    "ordersByUsersA.columns = ['userId', 'orders']\n",
    "\n",
    "ordersByUsersB = clean_orders[clean_orders['group']=='B'].groupby('visitor_id', as_index=False).agg({'transaction_id' : pd.Series.nunique})\n",
    "ordersByUsersB.columns = ['userId', 'orders']"
   ]
  },
  {
   "cell_type": "markdown",
   "metadata": {},
   "source": [
    "Now we'll declare the variables sampleA and sampleB, with users from different groups and corresponding numbers of orders. Those who didn't order anything will have 0. This is necessary to prepare the samples for the Mann-Whitney test. \n",
    "\n",
    "SampleA has two parts:\n",
    "\n",
    "A list of the number of orders for each user: ordersByUsersA['orders'].\n",
    "Zeroes for users who didn't order anything. Their number is the difference between the total number of visitors and the number of records on orders: visitors[visitors['group']=='A']['visitors'].sum() - len(ordersByUsersA['orders']) \n",
    "\n",
    " We'll create a pd.Series object with the required length:"
   ]
  },
  {
   "cell_type": "code",
   "execution_count": 49,
   "metadata": {},
   "outputs": [
    {
     "data": {
      "text/plain": [
       "[0      1\n",
       " 1      1\n",
       " 2      1\n",
       " 3      1\n",
       " 4      1\n",
       "       ..\n",
       " 440    1\n",
       " 441    1\n",
       " 442    1\n",
       " 443    1\n",
       " 444    1\n",
       " Name: orders, Length: 445, dtype: int64,\n",
       " 0        0\n",
       " 1        0\n",
       " 2        0\n",
       " 3        0\n",
       " 4        0\n",
       "         ..\n",
       " 18286    0\n",
       " 18287    0\n",
       " 18288    0\n",
       " 18289    0\n",
       " 18290    0\n",
       " Name: orders, Length: 18291, dtype: int64]"
      ]
     },
     "execution_count": 49,
     "metadata": {},
     "output_type": "execute_result"
    }
   ],
   "source": [
    " #pd.Series(0, index=np.arange(clean_orders['visitorsPerDateA'].sum() - len(ordersByUsersA['orders'])), name='orders')\n",
    " [ordersByUsersA['orders'],pd.Series(0, index=np.arange(visits[visits['group']=='A']['visits'].sum() - len(ordersByUsersA['orders'])), name='orders')]\n"
   ]
  },
  {
   "cell_type": "markdown",
   "metadata": {},
   "source": [
    "Then we'll pass the argument that specifies that Series objects are to be concatenated by row (in other words, to be written in sequence): pd.concat([...], axis=0). Here's what we get after doing the same with sampleB:"
   ]
  },
  {
   "cell_type": "code",
   "execution_count": 50,
   "metadata": {},
   "outputs": [],
   "source": [
    "sampleA = pd.concat([ordersByUsersA['orders'],pd.Series(0, index=np.arange(visits[visits['group']=='A']['visits'].sum() - len(ordersByUsersA['orders'])), name='orders')],axis=0)\n",
    "\n",
    "sampleB = pd.concat([ordersByUsersB['orders'],pd.Series(0, index=np.arange(visits[visits['group']=='B']['visits'].sum() - len(ordersByUsersB['orders'])), name='orders')],axis=0)"
   ]
  },
  {
   "cell_type": "markdown",
   "metadata": {},
   "source": [
    "We'll apply the criterion and format the p-value by rounding it to three decimal places. \n",
    "\n",
    "SampleA stores a sample where each element is the number of orders made by a certain user, including zeroes. So the number of sampleA elements is the number of users, and the sum of all the elements is the number of orders.\n",
    "\n",
    "To get the group's conversion rate, we'll need to divide the sum of the orders by the number of users. Using the mean() method, we'll find the mean for sampleA. We'll find the conversion rate for group B in a similar way: sampleB.mean().\n",
    "\n",
    "Let's print the relative conversion gain for group B: group B conversion / group A conversion - 1. We'll round the value to three decimal places. \n"
   ]
  },
  {
   "cell_type": "code",
   "execution_count": 51,
   "metadata": {},
   "outputs": [
    {
     "name": "stdout",
     "output_type": "stream",
     "text": [
      "P-value for the conversion rates between groups in the raw data: 0.011\n",
      "Relative conversion difference between groups in the raw data: 0.160\n"
     ]
    }
   ],
   "source": [
    "#Perfoming a Mann-Whitney U test to compare the distributions of conversion rates between group A (sampleA) and group B (sampleB)\n",
    "print(f\"P-value for the conversion rates between groups in the raw data: {stats.mannwhitneyu(sampleA, sampleB)[1]:.3f}\")\n",
    "\n",
    "#Calculating the relative conversion gain of group B compared to group A. The result is printed and rounded to three decimal places.\n",
    "print(f\"Relative conversion difference between groups in the raw data: {(sampleB.mean() / sampleA.mean() - 1):.3f}\")\n"
   ]
  },
  {
   "cell_type": "markdown",
   "metadata": {},
   "source": [
    "__P-value: 0.011__\n",
    "\n",
    "A p-value of 0.011 indicates that there is a statistically significant difference between the conversion rates of groups A and B at the 5% significance level (since 0.011 < 0.05).\n",
    "\n",
    "__Relative conversion gain: 0.160__\n",
    "\n",
    "The relative conversion gain is 0.160, meaning that group B's conversion rate is 16% higher than group A's conversion rate.\n",
    "\n",
    "__Conclusion__:\n",
    "\n",
    "* Since the p-value is less than 0.05, we reject the null hypothesis that there is no difference in conversion rates between the two groups. This suggests that the observed difference is unlikely to be due to random chance.\n",
    "* This substantial increase in conversion rate for group B suggests that the changes or treatments applied to group B had a positive effect on conversion.\n",
    "\n",
    "\n",
    "In summary, the statistical analysis shows a significant difference in conversion rates between groups A and B, with group B having a notably higher conversion rate. This finding suggests that the treatment or changes applied to group B were effective in boosting conversions, providing a strong case for adopting these changes more broadly.\n",
    "\n"
   ]
  },
  {
   "cell_type": "markdown",
   "metadata": {},
   "source": [
    "### 4.10 Find the Statistical Significance of the Difference in Average Order Size Between the Groups Using the Raw Data. Make Conclusions and Conjectures. <a id=\"task_10\"></a>"
   ]
  },
  {
   "cell_type": "markdown",
   "metadata": {},
   "source": [
    "Here are the hypotheses for testing the statistical significance of the difference in average order size between the groups using the raw data:\n",
    "\n",
    "__Null Hypothesis__ (H_0):\n",
    "\n",
    "(H_0): There is no statistically significant difference in average order size between group A and group B.\n",
    "\n",
    "__Alternative Hypothesis__ (H_1):\n",
    "\n",
    "(H_1): There is a statistically significant difference in average order size between group A and group B.\n",
    "\n",
    "Now, let's calculate the p-value for the Mann-Whitney U test and interpret the results."
   ]
  },
  {
   "cell_type": "markdown",
   "metadata": {},
   "source": [
    "To calculate the statistical significance of the difference in the segments' average order size, we'll pass the data on revenue to the mannwhitneyu() criterion. \n",
    "\n",
    "We'll also find the relative difference in average order size between the groups:"
   ]
  },
  {
   "cell_type": "code",
   "execution_count": 52,
   "metadata": {},
   "outputs": [
    {
     "name": "stdout",
     "output_type": "stream",
     "text": [
      "P-value for comparing order revenues between Group A and Group B: 0.862\n",
      "Relative difference in average order size (Group B compared to Group A): 0.278\n"
     ]
    }
   ],
   "source": [
    "# Performing a Mann-Whitney U test to compare the distributions of order revenues between group A and group B.\n",
    "p_value_revenue = stats.mannwhitneyu(clean_orders[clean_orders['group']=='A']['revenue'], clean_orders[clean_orders['group']=='B']['revenue'])[1]\n",
    "print(f\"P-value for comparing order revenues between Group A and Group B: {p_value_revenue:.3f}\")\n",
    "\n",
    "# Calculating the relative difference in average order size of group B compared to group A.\n",
    "relative_difference = clean_orders[clean_orders['group']=='B']['revenue'].mean() / clean_orders[clean_orders['group']=='A']['revenue'].mean() - 1\n",
    "print(f\"Relative difference in average order size (Group B compared to Group A): {relative_difference:.3f}\")\n"
   ]
  },
  {
   "cell_type": "markdown",
   "metadata": {},
   "source": [
    "__P-value: 0.862__\n",
    "\n",
    "A p-value of 0.862 indicates that there is no statistically significant difference in the average order sizes between groups A and B at the 5% significance level (since 0.862 > 0.05).\n",
    "\n",
    "__Relative difference in average order size: 0.278__\n",
    "\n",
    "\n",
    "The relative difference in average order size is 0.278, meaning that group B has a 27.8% higher average order size compared to group A.\n",
    "Despite the relatively large difference in average order size, the lack of statistical significance indicates that this difference is not reliable enough to conclude that the treatment applied to group B has a true effect on increasing average order size.\n",
    "\n",
    "__Conclusion__:\n",
    "\n",
    "The large relative difference in average order size for group B suggests a potential positive impact, but the lack of statistical significance means that further investigation is needed.\n",
    "The business should be cautious in interpreting these results. It may not be sufficient to base decisions solely on this analysis without additional evidence or tests.\n",
    "\n",
    "In summary, while there is a notable 27.8% higher average order size in group B compared to group A, the lack of statistical significance (p-value = 0.862) means we cannot confidently attribute this difference to the treatment applied to group B. Further testing and analysis are recommended to draw more reliable conclusions."
   ]
  },
  {
   "cell_type": "markdown",
   "metadata": {},
   "source": [
    "### 4.11 Find the Statistical Significance of the Difference in Conversion Between the Groups Using the Filtered Data. Make Conclusions and Conjectures. <a id=\"task_11\"></a>"
   ]
  },
  {
   "cell_type": "markdown",
   "metadata": {},
   "source": [
    "Here are the hypotheses for testing the statistical significance of the difference in conversion rate between the groups using the filtered data:\n",
    "\n",
    "__Null Hypothesis__ (H_0):\n",
    "\n",
    "(H_0): There is no statistically significant difference in conversion rate between group A and group B.\n",
    "\n",
    "__Alternative Hypothesis__ (H_1):\n",
    "\n",
    "(H_1): There is a statistically significant difference in conversion rate between group A and group B.\n",
    "\n",
    "Now, let's calculate the p-value for the Mann-Whitney U test and interpret the results."
   ]
  },
  {
   "cell_type": "code",
   "execution_count": 53,
   "metadata": {},
   "outputs": [
    {
     "name": "stdout",
     "output_type": "stream",
     "text": [
      "568     113298937\n",
      "1099    148427295\n",
      "928     204675465\n",
      "33      249864742\n",
      "684     358944393\n",
      "dtype: int64\n",
      "(86,)\n"
     ]
    }
   ],
   "source": [
    "# Defining thresholds\n",
    "orders_threshold = 1\n",
    "revenue_threshold = 414\n",
    "\n",
    "# Identify users with more than 1 orders in either group\n",
    "usersWithManyOrders = pd.concat([ordersByUsersA[ordersByUsersA['orders'] > orders_threshold]['userId'], ordersByUsersB[ordersByUsersB['orders'] > orders_threshold]['userId']], axis = 0)\n",
    "\n",
    "# Identify users with orders that have a revenue greater than 414\n",
    "usersWithExpensiveOrders = clean_orders[clean_orders['revenue'] > revenue_threshold]['visitor_id']\n",
    "\n",
    "# Combine the two sets of users, remove duplicates, and sort\n",
    "abnormalUsers = pd.concat([usersWithManyOrders, usersWithExpensiveOrders], axis = 0).drop_duplicates().sort_values()\n",
    "\n",
    "# Display the first 5 abnormal users and the shape of the abnormalUsers DataFrame\n",
    "print(abnormalUsers.head(5))\n",
    "print(abnormalUsers.shape)\n",
    "\n"
   ]
  },
  {
   "cell_type": "markdown",
   "metadata": {},
   "source": [
    "We have 86 anomalous users in total. \n",
    "\n",
    "Let's try to find out how their actions affected the test results. We'll calculate the statistical significance of the differences in conversion between the groups, using filtered data. First we'll prepare samples of the number of orders per user for each test group:"
   ]
  },
  {
   "cell_type": "code",
   "execution_count": 54,
   "metadata": {},
   "outputs": [],
   "source": [
    "sampleAFiltered = pd.concat([ordersByUsersA[np.logical_not(ordersByUsersA['userId'].isin(abnormalUsers))]['orders'],pd.Series(0, index=np.arange(visits[visits['group']=='A']['visits'].sum() - len(ordersByUsersA['orders'])),name='orders')],axis=0)\n",
    "\n",
    "sampleBFiltered = pd.concat([ordersByUsersB[np.logical_not(ordersByUsersB['userId'].isin(abnormalUsers))]['orders'],pd.Series(0, index=np.arange(visits[visits['group']=='B']['visits'].sum() - len(ordersByUsersB['orders'])),name='orders')],axis=0)"
   ]
  },
  {
   "cell_type": "markdown",
   "metadata": {},
   "source": [
    "Let's apply the statistical Mann-Whitney criterion to the resulting samples:"
   ]
  },
  {
   "cell_type": "code",
   "execution_count": 55,
   "metadata": {
    "scrolled": true
   },
   "outputs": [
    {
     "name": "stdout",
     "output_type": "stream",
     "text": [
      "P-value for the conversion rates between groups in the filtered data: 0.016\n",
      "Relative conversion difference between groups in the filtered data: 0.174\n"
     ]
    }
   ],
   "source": [
    "#Perfoming a Mann-Whitney U test to compare the distributions of conversion rates between group A (sampleA) and group B (sampleB)\n",
    "print(f\"P-value for the conversion rates between groups in the filtered data: {stats.mannwhitneyu(sampleAFiltered, sampleBFiltered)[1]:.3f}\")\n",
    "\n",
    "#Calculating the relative conversion gain of group B compared to group A. The result is printed and rounded to three decimal places.\n",
    "print(f\"Relative conversion difference between groups in the filtered data: {(sampleBFiltered.mean()/sampleAFiltered.mean() - 1):.3f}\")\n"
   ]
  },
  {
   "cell_type": "markdown",
   "metadata": {},
   "source": [
    "Let's compare Filtered Data Results with Raw Data Findings\n",
    "\n",
    "P-value Comparison:\n",
    "\n",
    "Raw Data: 0.011\n",
    "Indicates a statistically significant difference between the groups, as it is less than the 0.05 threshold.\n",
    "Filtered Data: 0.016\n",
    "Also indicates a statistically significant difference, though slightly higher than the raw data p-value.\n",
    "\n",
    "Conclusion: Both p-values are below 0.05, confirming statistical significance in both cases. The slightly higher p-value in the filtered data suggests that while the significance remains, the evidence against the null hypothesis is slightly weaker after removing anomalies.\n",
    "\n",
    "\n",
    "Relative Conversion Difference Comparison:\n",
    "\n",
    "Raw Data: 0.160 (16.0%)\n",
    "Indicates that the conversion rate in group B was 16.0% higher than in group A.\n",
    "Filtered Data: 0.174 (17.4%)\n",
    "Indicates that the conversion rate in group B is 17.4% higher than in group A after removing anomalies.\n",
    "\n",
    "Conclusion: The relative difference in conversion rates increases slightly from 16.0% to 17.4% after filtering out anomalies. This suggests that anomalies may have slightly dampened the observed conversion rate difference. By excluding these anomalies, the performance difference in favor of group B becomes more pronounced."
   ]
  },
  {
   "cell_type": "markdown",
   "metadata": {},
   "source": [
    "### 4.12 Find the Statistical Significance of the Difference in Average Order Size Between the Groups Using the Filtered Data. Make Conclusions and Conjectures. <a id=\"task_12\"></a>"
   ]
  },
  {
   "cell_type": "markdown",
   "metadata": {},
   "source": [
    "Here are the hypotheses for testing the statistical significance of the difference in average order size between the groups using the filtered data:\n",
    "\n",
    "__Null Hypothesis__ (H_0):\n",
    "\n",
    "(H_0): There is no statistically significant difference in average order size between group A and group B.\n",
    "\n",
    "__Alternative Hypothesis__ (H_1):\n",
    "\n",
    "(H_1): There is a statistically significant difference in average order size between group A and group B.\n",
    "\n",
    "Now, let's calculate the p-value for the Mann-Whitney U test and interpret the results."
   ]
  },
  {
   "cell_type": "markdown",
   "metadata": {},
   "source": [
    "Let's see what happens to the values for average order size:"
   ]
  },
  {
   "cell_type": "code",
   "execution_count": 56,
   "metadata": {},
   "outputs": [
    {
     "name": "stdout",
     "output_type": "stream",
     "text": [
      "0.771\n",
      "-0.033\n"
     ]
    }
   ],
   "source": [
    "print('{0:.3f}'.format(stats.mannwhitneyu(\n",
    "    clean_orders[np.logical_and(\n",
    "        clean_orders['group']=='A',\n",
    "        np.logical_not(clean_orders['visitor_id'].isin(abnormalUsers)))]['revenue'],\n",
    "    clean_orders[np.logical_and(\n",
    "        clean_orders['group']=='B',\n",
    "        np.logical_not(clean_orders['visitor_id'].isin(abnormalUsers)))]['revenue'])[1]))\n",
    "\n",
    "print('{0:.3f}'.format(\n",
    "    clean_orders[np.logical_and(clean_orders['group']=='B',np.logical_not(clean_orders['visitor_id'].isin(abnormalUsers)))]['revenue'].mean()/\n",
    "    clean_orders[np.logical_and(\n",
    "        clean_orders['group']=='A',\n",
    "        np.logical_not(clean_orders['visitor_id'].isin(abnormalUsers)))]['revenue'].mean() - 1))\n",
    "\n",
    "\n",
    "\n",
    "\n"
   ]
  },
  {
   "cell_type": "markdown",
   "metadata": {},
   "source": [
    "Let's compare Average Order Size Between Filtered Data and Raw Data\n",
    "\n",
    "P-value Comparison:\n",
    "\n",
    "Raw Data: 0.862\n",
    "This high p-value indicates no statistically significant difference in average order sizes between groups A and B, meaning any observed difference could be due to chance.\n",
    "Filtered Data: 0.771\n",
    "\n",
    "Similarly, this high p-value also indicates no statistically significant difference. The p-value is slightly lower than in the raw data but still well above the common significance threshold of 0.05.\n",
    "Conclusion: Neither dataset shows a statistically significant difference in average order sizes between groups A and B.\n",
    "\n",
    "\n",
    "Relative Difference Comparison:\n",
    "\n",
    "Raw Data: 0.278 (27.8% higher in group B)\n",
    "This suggests that the average order size in group B was 27.8% higher than in group A.\n",
    "Filtered Data: -0.033 (3.3% lower in group B)\n",
    "\n",
    "In contrast, after filtering out anomalies, the average order size in group B is found to be 3.3% lower than in group A.\n",
    "\n",
    "\n",
    "Conclusion: The presence of anomalies in the raw data likely inflated the average order size in group B, resulting in a large positive relative difference. After removing these anomalies, the relative difference not only reduced but also changed direction, indicating that the anomalies were skewing the results significantly.\n",
    "\n",
    "Conclusions and Conjectures\n",
    "Effect of Filtering:\n",
    "\n",
    "Raw Data: The presence of anomalies (e.g., users with abnormally high order sizes) in the raw data likely inflated the average order size in group B, resulting in a large positive relative difference.\n",
    "Filtered Data: After removing these anomalies, the relative difference not only reduced but also changed direction, indicating that the anomalies were skewing the results significantly.\n",
    "Statistical Significance:\n",
    "\n",
    "Neither dataset shows a statistically significant difference in average order sizes between groups A and B, as indicated by the high p-values in both cases.\n"
   ]
  },
  {
   "cell_type": "markdown",
   "metadata": {},
   "source": [
    "### 4.13 Make a Decision Based on the Test Results. The Possible Decisions Are: 1. Stop the Test, Consider One of the Groups the Leader. 2. Stop the Test, Conclude That There Is No Difference Between the Groups. 3. Continue the Test. <a id=\"task_13\"></a>"
   ]
  },
  {
   "cell_type": "markdown",
   "metadata": {},
   "source": [
    "Conclusion:\n",
    "Decision number 2\n",
    "\n",
    "Here are the facts:\n",
    "\n",
    "* Both raw and filtered data revealed statistically significant difference in conversion rate of the group B.\n",
    "\n",
    "* Neither raw nor filtered data revealed any statistically significant differences in average order size between the groups.\n",
    "\n",
    "* The number of users in every group is uneven it can indicate that the test was conducted incorrectly and we can't rely on the results. Thus, decision number 2 will be suitable.\n",
    "\n",
    "\n",
    "Based on these facts, we can conclude that the test is unsuccessful and should be stopped. Hovewer, we observed positive trend in the conversion rate for the test group in the raw and filtered data."
   ]
  },
  {
   "cell_type": "markdown",
   "metadata": {},
   "source": [
    "[Back to Contents](#back)"
   ]
  },
  {
   "cell_type": "markdown",
   "metadata": {},
   "source": [
    "## Findings <a id=\"end\"></a>"
   ]
  },
  {
   "cell_type": "markdown",
   "metadata": {},
   "source": [
    "\n",
    "__A/B Testing Report__\n",
    "\n",
    "#### Overview\n",
    "This report presents the results of an A/B test conducted to compare two user groups, A and B, in terms of conversion rates and average order sizes. The aim is to determine whether there are significant differences between the groups and to make a decision on whether to continue the test, stop it, or declare one group as the leader based on the results.\n",
    "\n",
    "#### Key Metrics Analyzed\n",
    "1. **Relative Difference in Cumulative Average Order Size**\n",
    "2. **Conversion Rate**\n",
    "3. **Group Sizes**\n",
    "4. **P-Value Comparison and Relative Conversion Differences**\n",
    "5. **Average Order Size Comparison**\n",
    "\n",
    "__Analysis and Results__\n",
    "\n",
    "#### 1. Relative Difference in Cumulative Average Order Size\n",
    "- **Observation:** The relative difference in cumulative average order size for group B compared with group A was significantly higher.\n",
    "\n",
    "#### 2. Conversion Rate\n",
    "- **Observation:** Each group's conversion rate, calculated as the ratio of orders to the number of visits for each day, showed that Group B's conversion rate was steadily higher.\n",
    "\n",
    "#### 3. Group Sizes\n",
    "- **Observation:** The number of users in each group was uneven, with Group A having 445 users and Group B having 528 users.\n",
    "\n",
    "#### 4. P-Value and Relative Conversion Difference Comparison\n",
    "- **P-Value Comparison:**\n",
    "  - **Raw Data:** 0.011\n",
    "  - **Filtered Data:** 0.016\n",
    "  - **Interpretation:** Both p-values are less than 0.05, indicating statistical significance. The p-value for filtered data is slightly higher, suggesting reduced strength of evidence against the null hypothesis when anomalies are excluded.\n",
    "\n",
    "- **Relative Conversion Difference Comparison:**\n",
    "  - **Raw Data:** 0.160\n",
    "  - **Filtered Data:** 0.174\n",
    "  - **Interpretation:** The relative difference in conversion rates increases slightly after filtering out anomalies, indicating that anomalies had a slight dampening effect on the observed conversion rate difference. Excluding anomalies makes the performance difference in favor of Group B more pronounced.\n",
    "\n",
    "- **Conclusions and Conjectures:**\n",
    "  - **Statistical Significance:** Both raw and filtered data show a statistically significant difference in conversion rates between the groups, reinforcing that Group B performs better than Group A.\n",
    "  - **Impact of Filtering:** Filtering out anomalies slightly increased the observed relative difference in conversion rates, suggesting that anomalies were marginally affecting the results.\n",
    "  - **Practical Implications:** The higher conversion rate in Group B (17.4% higher with filtered data) indicates the effectiveness of the changes implemented for Group B.\n",
    "\n",
    "#### 5. Average Order Size Comparison\n",
    "- **Raw Data Results:**\n",
    "  - **P-Value:** 0.862\n",
    "  - **Relative Difference:** 0.278 (27.8% higher in Group B)\n",
    "- **Filtered Data Results:**\n",
    "  - **P-Value:** 0.771\n",
    "  - **Relative Difference:** -0.033 (3.3% lower in Group B)\n",
    "- **Comparison and Interpretation:**\n",
    "  - **P-Values:**\n",
    "    - Raw Data: High p-value (0.862) indicates no statistically significant difference.\n",
    "    - Filtered Data: Slightly lower p-value (0.771) but still indicates no statistically significant difference.\n",
    "  - **Relative Differences:**\n",
    "    - Raw Data: Group B's average order size was 27.8% higher than Group A.\n",
    "    - Filtered Data: After removing anomalies, Group B's average order size was 3.3% lower than Group A.\n",
    "- **Conclusions and Conjectures:**\n",
    "  - **Effect of Filtering:** The presence of anomalies in the raw data inflated the average order size in Group B. After filtering, the relative difference not only reduced but also changed direction, indicating significant skewing by anomalies.\n",
    "  - **Statistical Significance:** Neither dataset shows a statistically significant difference in average order sizes between groups.\n",
    "  - **Practical Implications:** The raw data suggested a higher average order size in Group B, but this was misleading due to anomalies. The filtered data reveals that the average order sizes are quite similar, with Group B being slightly lower.\n",
    "\n",
    " __Decision Based on Test Results__\n",
    "\n",
    "Considering the analysis of both raw and filtered data, the following conclusions can be made:\n",
    "\n",
    "1. **Conversion Rates:** Both raw and filtered data show a statistically significant difference in conversion rates, with Group B performing better.\n",
    "2. **Average Order Size:** Neither the raw nor the filtered data shows a statistically significant difference in average order sizes between the groups.\n",
    "3. **Practical Implications:** The higher conversion rate in Group B suggests the effectiveness of the changes implemented for Group B, but the average order size does not significantly differ between the groups.\n",
    "\n",
    "**Decision:**\n",
    "Based on the results, the recommendation is to **stop the test and consider Group B as the leader** due to its higher and statistically significant conversion rate. The difference in average order size, though not statistically significant, does not outweigh the conversion rate improvement observed in Group B. Therefore, the changes implemented for Group B are likely beneficial and should be considered for broader implementation."
   ]
  },
  {
   "cell_type": "markdown",
   "metadata": {},
   "source": [
    "[Back to Contents](#back)"
   ]
  }
 ],
 "metadata": {
  "ExecuteTimeLog": [
   {
    "duration": 9608,
    "start_time": "2024-05-17T11:20:56.653Z"
   },
   {
    "duration": 12,
    "start_time": "2024-05-17T11:21:06.265Z"
   },
   {
    "duration": 6,
    "start_time": "2024-05-17T11:21:06.279Z"
   },
   {
    "duration": 31,
    "start_time": "2024-05-17T11:21:06.288Z"
   },
   {
    "duration": 13,
    "start_time": "2024-05-17T11:21:06.325Z"
   },
   {
    "duration": 18,
    "start_time": "2024-05-17T11:21:06.342Z"
   },
   {
    "duration": 8,
    "start_time": "2024-05-17T11:21:06.363Z"
   },
   {
    "duration": 48,
    "start_time": "2024-05-17T11:21:06.374Z"
   },
   {
    "duration": 16,
    "start_time": "2024-05-17T11:21:06.425Z"
   },
   {
    "duration": 12,
    "start_time": "2024-05-17T11:21:06.444Z"
   },
   {
    "duration": 6,
    "start_time": "2024-05-17T11:21:06.459Z"
   },
   {
    "duration": 13,
    "start_time": "2024-05-17T11:21:06.511Z"
   },
   {
    "duration": 18,
    "start_time": "2024-05-17T11:21:06.527Z"
   },
   {
    "duration": 60,
    "start_time": "2024-05-17T11:21:06.553Z"
   },
   {
    "duration": 20,
    "start_time": "2024-05-17T11:21:06.619Z"
   },
   {
    "duration": 18,
    "start_time": "2024-05-17T11:21:06.643Z"
   },
   {
    "duration": 45,
    "start_time": "2024-05-17T11:21:06.664Z"
   },
   {
    "duration": 21,
    "start_time": "2024-05-17T11:21:06.713Z"
   },
   {
    "duration": 9,
    "start_time": "2024-05-17T11:21:06.738Z"
   },
   {
    "duration": 12,
    "start_time": "2024-05-17T11:21:06.752Z"
   },
   {
    "duration": 16,
    "start_time": "2024-05-17T11:21:06.808Z"
   },
   {
    "duration": 14,
    "start_time": "2024-05-17T11:21:06.829Z"
   },
   {
    "duration": 16,
    "start_time": "2024-05-17T11:21:06.846Z"
   },
   {
    "duration": 9,
    "start_time": "2024-05-17T11:21:06.865Z"
   },
   {
    "duration": 36,
    "start_time": "2024-05-17T11:21:06.877Z"
   },
   {
    "duration": 13,
    "start_time": "2024-05-17T11:21:06.917Z"
   },
   {
    "duration": 0,
    "start_time": "2024-05-17T11:21:06.946Z"
   },
   {
    "duration": 3545,
    "start_time": "2024-05-17T11:21:25.910Z"
   },
   {
    "duration": 8,
    "start_time": "2024-05-17T11:21:29.458Z"
   },
   {
    "duration": 6,
    "start_time": "2024-05-17T11:21:29.468Z"
   },
   {
    "duration": 9,
    "start_time": "2024-05-17T11:21:30.371Z"
   },
   {
    "duration": 13,
    "start_time": "2024-05-17T11:21:30.652Z"
   },
   {
    "duration": 10,
    "start_time": "2024-05-17T11:21:31.201Z"
   },
   {
    "duration": 7,
    "start_time": "2024-05-17T11:21:31.372Z"
   },
   {
    "duration": 15,
    "start_time": "2024-05-17T11:21:31.582Z"
   },
   {
    "duration": 19,
    "start_time": "2024-05-17T11:21:31.765Z"
   },
   {
    "duration": 7,
    "start_time": "2024-05-17T11:21:32.157Z"
   },
   {
    "duration": 6,
    "start_time": "2024-05-17T11:21:32.342Z"
   },
   {
    "duration": 18,
    "start_time": "2024-05-17T11:21:32.561Z"
   },
   {
    "duration": 13,
    "start_time": "2024-05-17T11:21:32.750Z"
   },
   {
    "duration": 24,
    "start_time": "2024-05-17T11:21:34.130Z"
   },
   {
    "duration": 19,
    "start_time": "2024-05-17T11:21:34.432Z"
   },
   {
    "duration": 16,
    "start_time": "2024-05-17T11:21:34.892Z"
   },
   {
    "duration": 9,
    "start_time": "2024-05-17T11:21:35.344Z"
   },
   {
    "duration": 20,
    "start_time": "2024-05-17T11:21:35.632Z"
   },
   {
    "duration": 8,
    "start_time": "2024-05-17T11:21:35.951Z"
   },
   {
    "duration": 9,
    "start_time": "2024-05-17T11:21:36.482Z"
   },
   {
    "duration": 13,
    "start_time": "2024-05-17T11:21:36.783Z"
   },
   {
    "duration": 9,
    "start_time": "2024-05-17T11:21:59.706Z"
   },
   {
    "duration": 19,
    "start_time": "2024-05-17T11:22:15.734Z"
   },
   {
    "duration": 8,
    "start_time": "2024-05-17T11:22:29.389Z"
   },
   {
    "duration": 20,
    "start_time": "2024-05-17T11:25:12.953Z"
   },
   {
    "duration": 9,
    "start_time": "2024-05-17T11:27:32.853Z"
   },
   {
    "duration": 9,
    "start_time": "2024-05-17T11:27:33.847Z"
   },
   {
    "duration": 710,
    "start_time": "2024-05-17T11:29:56.574Z"
   },
   {
    "duration": 10,
    "start_time": "2024-05-17T11:30:18.785Z"
   },
   {
    "duration": 33,
    "start_time": "2024-05-17T11:33:15.336Z"
   },
   {
    "duration": 21,
    "start_time": "2024-05-17T11:33:26.864Z"
   },
   {
    "duration": 9,
    "start_time": "2024-05-17T11:33:48.589Z"
   },
   {
    "duration": 9,
    "start_time": "2024-05-17T11:36:30.705Z"
   },
   {
    "duration": 8,
    "start_time": "2024-05-17T11:36:35.138Z"
   },
   {
    "duration": 7,
    "start_time": "2024-05-17T11:36:35.914Z"
   },
   {
    "duration": 7,
    "start_time": "2024-05-17T11:36:37.625Z"
   },
   {
    "duration": 7,
    "start_time": "2024-05-17T11:36:38.123Z"
   },
   {
    "duration": 23,
    "start_time": "2024-05-17T11:44:17.986Z"
   },
   {
    "duration": 17,
    "start_time": "2024-05-17T11:45:05.012Z"
   },
   {
    "duration": 18,
    "start_time": "2024-05-17T11:45:30.142Z"
   },
   {
    "duration": 9,
    "start_time": "2024-05-17T12:22:35.891Z"
   },
   {
    "duration": 8,
    "start_time": "2024-05-17T12:23:50.762Z"
   },
   {
    "duration": 23,
    "start_time": "2024-05-17T12:24:12.450Z"
   },
   {
    "duration": 25,
    "start_time": "2024-05-17T12:26:36.225Z"
   },
   {
    "duration": 26,
    "start_time": "2024-05-17T12:27:49.347Z"
   },
   {
    "duration": 465,
    "start_time": "2024-05-17T12:27:56.304Z"
   },
   {
    "duration": 497,
    "start_time": "2024-05-17T12:29:29.605Z"
   },
   {
    "duration": 11,
    "start_time": "2024-05-17T12:36:48.710Z"
   },
   {
    "duration": 5,
    "start_time": "2024-05-17T12:36:49.982Z"
   },
   {
    "duration": 9,
    "start_time": "2024-05-17T12:36:51.613Z"
   },
   {
    "duration": 7,
    "start_time": "2024-05-17T12:39:35.424Z"
   },
   {
    "duration": 5,
    "start_time": "2024-05-17T12:39:36.972Z"
   },
   {
    "duration": 9,
    "start_time": "2024-05-17T12:39:37.813Z"
   },
   {
    "duration": 11,
    "start_time": "2024-05-17T12:39:38.716Z"
   },
   {
    "duration": 5,
    "start_time": "2024-05-17T12:39:42.141Z"
   },
   {
    "duration": 14,
    "start_time": "2024-05-17T12:39:55.916Z"
   },
   {
    "duration": 11,
    "start_time": "2024-05-17T12:40:22.815Z"
   },
   {
    "duration": 16,
    "start_time": "2024-05-17T12:43:12.338Z"
   },
   {
    "duration": 14,
    "start_time": "2024-05-17T12:47:56.983Z"
   },
   {
    "duration": 13,
    "start_time": "2024-05-17T12:48:03.013Z"
   },
   {
    "duration": 17,
    "start_time": "2024-05-17T12:48:04.583Z"
   },
   {
    "duration": 12,
    "start_time": "2024-05-17T12:48:13.061Z"
   },
   {
    "duration": 13,
    "start_time": "2024-05-17T12:48:58.023Z"
   },
   {
    "duration": 12,
    "start_time": "2024-05-17T12:49:47.577Z"
   },
   {
    "duration": 15,
    "start_time": "2024-05-17T12:49:50.931Z"
   },
   {
    "duration": 6,
    "start_time": "2024-05-17T12:50:16.373Z"
   },
   {
    "duration": 9,
    "start_time": "2024-05-17T12:50:45.375Z"
   },
   {
    "duration": 4775,
    "start_time": "2024-05-17T12:51:06.532Z"
   },
   {
    "duration": 9,
    "start_time": "2024-05-17T12:51:11.312Z"
   },
   {
    "duration": 8,
    "start_time": "2024-05-17T12:51:11.324Z"
   },
   {
    "duration": 14,
    "start_time": "2024-05-17T12:51:11.335Z"
   },
   {
    "duration": 14,
    "start_time": "2024-05-17T12:51:11.354Z"
   },
   {
    "duration": 5,
    "start_time": "2024-05-17T12:51:11.410Z"
   },
   {
    "duration": 13,
    "start_time": "2024-05-17T12:51:11.418Z"
   },
   {
    "duration": 11,
    "start_time": "2024-05-17T12:51:11.434Z"
   },
   {
    "duration": 10,
    "start_time": "2024-05-17T12:51:11.448Z"
   },
   {
    "duration": 8,
    "start_time": "2024-05-17T12:51:11.508Z"
   },
   {
    "duration": 6,
    "start_time": "2024-05-17T12:51:11.519Z"
   },
   {
    "duration": 13,
    "start_time": "2024-05-17T12:51:11.528Z"
   },
   {
    "duration": 15,
    "start_time": "2024-05-17T12:51:11.545Z"
   },
   {
    "duration": 46,
    "start_time": "2024-05-17T12:51:11.568Z"
   },
   {
    "duration": 6,
    "start_time": "2024-05-17T12:51:11.616Z"
   },
   {
    "duration": 11,
    "start_time": "2024-05-17T12:51:11.625Z"
   },
   {
    "duration": 14,
    "start_time": "2024-05-17T12:51:11.639Z"
   },
   {
    "duration": 66,
    "start_time": "2024-05-17T12:51:11.656Z"
   },
   {
    "duration": 19,
    "start_time": "2024-05-17T12:51:11.725Z"
   },
   {
    "duration": 16,
    "start_time": "2024-05-17T12:51:11.747Z"
   },
   {
    "duration": 48,
    "start_time": "2024-05-17T12:51:11.766Z"
   },
   {
    "duration": 19,
    "start_time": "2024-05-17T12:51:11.817Z"
   },
   {
    "duration": 8,
    "start_time": "2024-05-17T12:51:11.839Z"
   },
   {
    "duration": 11,
    "start_time": "2024-05-17T12:51:11.850Z"
   },
   {
    "duration": 9,
    "start_time": "2024-05-17T12:51:11.908Z"
   },
   {
    "duration": 14,
    "start_time": "2024-05-17T12:51:11.919Z"
   },
   {
    "duration": 20,
    "start_time": "2024-05-17T12:51:11.936Z"
   },
   {
    "duration": 50,
    "start_time": "2024-05-17T12:51:11.959Z"
   },
   {
    "duration": 9,
    "start_time": "2024-05-17T12:51:12.012Z"
   },
   {
    "duration": 7,
    "start_time": "2024-05-17T12:51:12.024Z"
   },
   {
    "duration": 8,
    "start_time": "2024-05-17T12:51:12.034Z"
   },
   {
    "duration": 7,
    "start_time": "2024-05-17T12:51:12.045Z"
   },
   {
    "duration": 57,
    "start_time": "2024-05-17T12:51:12.055Z"
   },
   {
    "duration": 0,
    "start_time": "2024-05-17T12:51:12.115Z"
   },
   {
    "duration": 0,
    "start_time": "2024-05-17T12:51:12.117Z"
   },
   {
    "duration": 0,
    "start_time": "2024-05-17T12:51:12.120Z"
   },
   {
    "duration": 3431,
    "start_time": "2024-05-17T12:51:13.445Z"
   },
   {
    "duration": 8,
    "start_time": "2024-05-17T12:51:16.881Z"
   },
   {
    "duration": 6,
    "start_time": "2024-05-17T12:51:16.892Z"
   },
   {
    "duration": 10,
    "start_time": "2024-05-17T12:51:18.984Z"
   },
   {
    "duration": 14,
    "start_time": "2024-05-17T12:51:20.085Z"
   },
   {
    "duration": 6,
    "start_time": "2024-05-17T12:51:34.329Z"
   },
   {
    "duration": 16,
    "start_time": "2024-05-17T12:51:36.362Z"
   },
   {
    "duration": 12,
    "start_time": "2024-05-17T12:51:39.559Z"
   },
   {
    "duration": 9,
    "start_time": "2024-05-17T12:51:49.576Z"
   },
   {
    "duration": 12,
    "start_time": "2024-05-17T12:54:27.140Z"
   },
   {
    "duration": 7,
    "start_time": "2024-05-17T12:55:29.013Z"
   },
   {
    "duration": 7,
    "start_time": "2024-05-17T12:55:31.957Z"
   },
   {
    "duration": 13,
    "start_time": "2024-05-17T12:55:33.892Z"
   },
   {
    "duration": 7,
    "start_time": "2024-05-17T12:55:39.535Z"
   },
   {
    "duration": 13,
    "start_time": "2024-05-17T12:55:40.311Z"
   },
   {
    "duration": 14,
    "start_time": "2024-05-17T12:55:51.751Z"
   },
   {
    "duration": 14,
    "start_time": "2024-05-17T12:57:14.229Z"
   },
   {
    "duration": 5,
    "start_time": "2024-05-17T12:57:18.254Z"
   },
   {
    "duration": 12,
    "start_time": "2024-05-17T12:57:19.143Z"
   },
   {
    "duration": 14,
    "start_time": "2024-05-17T12:57:19.749Z"
   },
   {
    "duration": 12,
    "start_time": "2024-05-17T12:57:19.904Z"
   },
   {
    "duration": 12,
    "start_time": "2024-05-17T12:57:20.110Z"
   },
   {
    "duration": 5,
    "start_time": "2024-05-17T12:57:20.295Z"
   },
   {
    "duration": 12,
    "start_time": "2024-05-17T12:57:20.513Z"
   },
   {
    "duration": 16,
    "start_time": "2024-05-17T12:57:20.730Z"
   },
   {
    "duration": 7,
    "start_time": "2024-05-17T12:57:21.265Z"
   },
   {
    "duration": 5,
    "start_time": "2024-05-17T12:57:21.554Z"
   },
   {
    "duration": 11,
    "start_time": "2024-05-17T12:57:21.713Z"
   },
   {
    "duration": 13,
    "start_time": "2024-05-17T12:57:21.980Z"
   },
   {
    "duration": 21,
    "start_time": "2024-05-17T12:57:26.065Z"
   },
   {
    "duration": 21,
    "start_time": "2024-05-17T12:57:26.247Z"
   },
   {
    "duration": 17,
    "start_time": "2024-05-17T12:57:26.447Z"
   },
   {
    "duration": 9,
    "start_time": "2024-05-17T12:57:26.823Z"
   },
   {
    "duration": 19,
    "start_time": "2024-05-17T12:57:27.054Z"
   },
   {
    "duration": 7,
    "start_time": "2024-05-17T12:57:27.258Z"
   },
   {
    "duration": 11,
    "start_time": "2024-05-17T12:57:27.436Z"
   },
   {
    "duration": 8,
    "start_time": "2024-05-17T12:57:27.933Z"
   },
   {
    "duration": 13,
    "start_time": "2024-05-17T12:57:28.172Z"
   },
   {
    "duration": 20,
    "start_time": "2024-05-17T12:57:28.374Z"
   },
   {
    "duration": 11,
    "start_time": "2024-05-17T12:57:28.612Z"
   },
   {
    "duration": 8,
    "start_time": "2024-05-17T12:57:29.196Z"
   },
   {
    "duration": 7,
    "start_time": "2024-05-17T12:57:29.534Z"
   },
   {
    "duration": 9,
    "start_time": "2024-05-17T12:57:31.028Z"
   },
   {
    "duration": 7,
    "start_time": "2024-05-17T12:57:31.204Z"
   },
   {
    "duration": 5,
    "start_time": "2024-05-17T13:01:15.913Z"
   },
   {
    "duration": 874,
    "start_time": "2024-05-17T13:01:27.935Z"
   },
   {
    "duration": 25,
    "start_time": "2024-05-17T13:06:40.591Z"
   },
   {
    "duration": 28,
    "start_time": "2024-05-17T13:07:01.790Z"
   },
   {
    "duration": 26,
    "start_time": "2024-05-17T13:07:12.053Z"
   },
   {
    "duration": 18,
    "start_time": "2024-05-17T13:07:22.038Z"
   },
   {
    "duration": 28,
    "start_time": "2024-05-17T13:07:39.388Z"
   },
   {
    "duration": 10,
    "start_time": "2024-05-17T13:07:44.397Z"
   },
   {
    "duration": 12,
    "start_time": "2024-05-17T13:07:54.236Z"
   },
   {
    "duration": 9,
    "start_time": "2024-05-17T13:07:55.815Z"
   },
   {
    "duration": 4,
    "start_time": "2024-05-17T13:07:56.225Z"
   },
   {
    "duration": 13,
    "start_time": "2024-05-17T13:07:56.566Z"
   },
   {
    "duration": 13,
    "start_time": "2024-05-17T13:07:56.817Z"
   },
   {
    "duration": 8,
    "start_time": "2024-05-17T13:07:57.272Z"
   },
   {
    "duration": 7,
    "start_time": "2024-05-17T13:07:57.508Z"
   },
   {
    "duration": 10,
    "start_time": "2024-05-17T13:07:57.743Z"
   },
   {
    "duration": 13,
    "start_time": "2024-05-17T13:07:57.978Z"
   },
   {
    "duration": 21,
    "start_time": "2024-05-17T13:07:59.522Z"
   },
   {
    "duration": 19,
    "start_time": "2024-05-17T13:07:59.742Z"
   },
   {
    "duration": 15,
    "start_time": "2024-05-17T13:07:59.941Z"
   },
   {
    "duration": 9,
    "start_time": "2024-05-17T13:08:00.378Z"
   },
   {
    "duration": 20,
    "start_time": "2024-05-17T13:08:00.594Z"
   },
   {
    "duration": 8,
    "start_time": "2024-05-17T13:08:00.808Z"
   },
   {
    "duration": 9,
    "start_time": "2024-05-17T13:08:01.026Z"
   },
   {
    "duration": 8,
    "start_time": "2024-05-17T13:08:01.229Z"
   },
   {
    "duration": 13,
    "start_time": "2024-05-17T13:08:01.445Z"
   },
   {
    "duration": 23,
    "start_time": "2024-05-17T13:08:01.851Z"
   },
   {
    "duration": 9,
    "start_time": "2024-05-17T13:08:02.278Z"
   },
   {
    "duration": 8,
    "start_time": "2024-05-17T13:08:03.073Z"
   },
   {
    "duration": 7,
    "start_time": "2024-05-17T13:08:03.236Z"
   },
   {
    "duration": 7,
    "start_time": "2024-05-17T13:08:03.907Z"
   },
   {
    "duration": 8,
    "start_time": "2024-05-17T13:08:04.065Z"
   },
   {
    "duration": 705,
    "start_time": "2024-05-17T13:08:04.861Z"
   },
   {
    "duration": 62,
    "start_time": "2024-05-17T13:08:08.084Z"
   },
   {
    "duration": 38,
    "start_time": "2024-05-17T13:09:28.135Z"
   },
   {
    "duration": 9,
    "start_time": "2024-05-17T13:10:08.565Z"
   },
   {
    "duration": 8,
    "start_time": "2024-05-17T13:10:12.371Z"
   },
   {
    "duration": 16,
    "start_time": "2024-05-17T13:10:33.585Z"
   },
   {
    "duration": 8,
    "start_time": "2024-05-17T13:13:08.315Z"
   },
   {
    "duration": 469,
    "start_time": "2024-05-17T13:13:15.076Z"
   },
   {
    "duration": 84,
    "start_time": "2024-05-17T13:13:59.233Z"
   },
   {
    "duration": 16,
    "start_time": "2024-05-17T13:15:02.634Z"
   },
   {
    "duration": 12,
    "start_time": "2024-05-17T13:16:47.013Z"
   },
   {
    "duration": 15,
    "start_time": "2024-05-17T13:17:25.442Z"
   },
   {
    "duration": 17,
    "start_time": "2024-05-17T13:17:50.798Z"
   },
   {
    "duration": 18,
    "start_time": "2024-05-17T13:18:08.342Z"
   },
   {
    "duration": 16,
    "start_time": "2024-05-17T13:18:14.385Z"
   },
   {
    "duration": 7,
    "start_time": "2024-05-19T07:34:48.856Z"
   },
   {
    "duration": 43,
    "start_time": "2024-05-19T07:34:48.866Z"
   },
   {
    "duration": 8,
    "start_time": "2024-05-19T07:34:48.914Z"
   },
   {
    "duration": 18,
    "start_time": "2024-05-19T07:34:48.925Z"
   },
   {
    "duration": 14,
    "start_time": "2024-05-19T07:34:48.948Z"
   },
   {
    "duration": 14,
    "start_time": "2024-05-19T07:34:49.002Z"
   },
   {
    "duration": 13,
    "start_time": "2024-05-19T07:34:49.018Z"
   },
   {
    "duration": 14,
    "start_time": "2024-05-19T07:34:49.034Z"
   },
   {
    "duration": 8,
    "start_time": "2024-05-19T07:34:49.051Z"
   },
   {
    "duration": 50,
    "start_time": "2024-05-19T07:34:49.062Z"
   },
   {
    "duration": 16,
    "start_time": "2024-05-19T07:34:49.115Z"
   },
   {
    "duration": 10,
    "start_time": "2024-05-19T07:34:49.138Z"
   },
   {
    "duration": 5,
    "start_time": "2024-05-19T07:34:49.151Z"
   },
   {
    "duration": 54,
    "start_time": "2024-05-19T07:34:49.159Z"
   },
   {
    "duration": 19,
    "start_time": "2024-05-19T07:34:49.216Z"
   },
   {
    "duration": 22,
    "start_time": "2024-05-19T07:34:49.239Z"
   },
   {
    "duration": 48,
    "start_time": "2024-05-19T07:34:49.264Z"
   },
   {
    "duration": 18,
    "start_time": "2024-05-19T07:34:49.315Z"
   },
   {
    "duration": 11,
    "start_time": "2024-05-19T07:34:49.336Z"
   },
   {
    "duration": 58,
    "start_time": "2024-05-19T07:34:49.350Z"
   },
   {
    "duration": 9,
    "start_time": "2024-05-19T07:34:49.411Z"
   },
   {
    "duration": 9,
    "start_time": "2024-05-19T07:34:49.424Z"
   },
   {
    "duration": 15,
    "start_time": "2024-05-19T07:34:49.436Z"
   },
   {
    "duration": 50,
    "start_time": "2024-05-19T07:34:49.458Z"
   },
   {
    "duration": 25,
    "start_time": "2024-05-19T07:34:49.511Z"
   },
   {
    "duration": 10,
    "start_time": "2024-05-19T07:34:49.539Z"
   },
   {
    "duration": 10,
    "start_time": "2024-05-19T07:34:49.552Z"
   },
   {
    "duration": 8,
    "start_time": "2024-05-19T07:34:49.603Z"
   },
   {
    "duration": 10,
    "start_time": "2024-05-19T07:34:49.616Z"
   },
   {
    "duration": 7,
    "start_time": "2024-05-19T07:34:49.629Z"
   },
   {
    "duration": 17,
    "start_time": "2024-05-19T07:34:49.640Z"
   },
   {
    "duration": 19,
    "start_time": "2024-05-19T07:34:49.701Z"
   },
   {
    "duration": 16,
    "start_time": "2024-05-19T07:34:49.724Z"
   },
   {
    "duration": 31,
    "start_time": "2024-05-19T07:34:49.743Z"
   },
   {
    "duration": 549,
    "start_time": "2024-05-19T07:34:49.801Z"
   },
   {
    "duration": 3462,
    "start_time": "2024-05-19T07:34:50.353Z"
   },
   {
    "duration": 9,
    "start_time": "2024-05-19T07:34:53.822Z"
   },
   {
    "duration": 6,
    "start_time": "2024-05-19T07:35:12.316Z"
   },
   {
    "duration": 15,
    "start_time": "2024-05-19T07:35:13.284Z"
   },
   {
    "duration": 6,
    "start_time": "2024-05-19T07:35:15.423Z"
   },
   {
    "duration": 15,
    "start_time": "2024-05-19T07:35:16.239Z"
   },
   {
    "duration": 13,
    "start_time": "2024-05-19T07:35:17.625Z"
   },
   {
    "duration": 17,
    "start_time": "2024-05-19T07:35:18.806Z"
   },
   {
    "duration": 14,
    "start_time": "2024-05-19T07:35:19.778Z"
   },
   {
    "duration": 19,
    "start_time": "2024-05-19T07:35:27.030Z"
   },
   {
    "duration": 10,
    "start_time": "2024-05-19T07:35:28.154Z"
   },
   {
    "duration": 14,
    "start_time": "2024-05-19T07:35:28.985Z"
   },
   {
    "duration": 17,
    "start_time": "2024-05-19T07:35:29.658Z"
   },
   {
    "duration": 8,
    "start_time": "2024-05-19T07:35:31.178Z"
   },
   {
    "duration": 7,
    "start_time": "2024-05-19T07:35:31.635Z"
   },
   {
    "duration": 18,
    "start_time": "2024-05-19T07:35:32.014Z"
   },
   {
    "duration": 20,
    "start_time": "2024-05-19T07:35:32.612Z"
   },
   {
    "duration": 22,
    "start_time": "2024-05-19T07:35:37.614Z"
   },
   {
    "duration": 23,
    "start_time": "2024-05-19T07:35:38.512Z"
   },
   {
    "duration": 16,
    "start_time": "2024-05-19T07:35:39.282Z"
   },
   {
    "duration": 10,
    "start_time": "2024-05-19T07:35:40.714Z"
   },
   {
    "duration": 21,
    "start_time": "2024-05-19T07:35:42.887Z"
   },
   {
    "duration": 9,
    "start_time": "2024-05-19T07:35:43.415Z"
   },
   {
    "duration": 10,
    "start_time": "2024-05-19T07:35:44.606Z"
   },
   {
    "duration": 10,
    "start_time": "2024-05-19T07:35:45.310Z"
   },
   {
    "duration": 15,
    "start_time": "2024-05-19T07:35:45.914Z"
   },
   {
    "duration": 19,
    "start_time": "2024-05-19T07:35:46.662Z"
   },
   {
    "duration": 11,
    "start_time": "2024-05-19T07:35:47.595Z"
   },
   {
    "duration": 9,
    "start_time": "2024-05-19T07:35:51.831Z"
   },
   {
    "duration": 8,
    "start_time": "2024-05-19T07:35:56.482Z"
   },
   {
    "duration": 6,
    "start_time": "2024-05-19T07:35:59.361Z"
   },
   {
    "duration": 6,
    "start_time": "2024-05-19T07:35:59.879Z"
   },
   {
    "duration": 20,
    "start_time": "2024-05-19T07:36:03.693Z"
   },
   {
    "duration": 17,
    "start_time": "2024-05-19T07:36:08.557Z"
   },
   {
    "duration": 17,
    "start_time": "2024-05-19T07:36:12.165Z"
   },
   {
    "duration": 21,
    "start_time": "2024-05-19T07:36:46.326Z"
   },
   {
    "duration": 19,
    "start_time": "2024-05-19T07:46:36.211Z"
   },
   {
    "duration": 18,
    "start_time": "2024-05-19T08:03:29.271Z"
   },
   {
    "duration": 15,
    "start_time": "2024-05-19T08:04:17.855Z"
   },
   {
    "duration": 32,
    "start_time": "2024-05-19T08:04:45.179Z"
   },
   {
    "duration": 1314,
    "start_time": "2024-05-19T08:49:13.975Z"
   },
   {
    "duration": 26,
    "start_time": "2024-05-19T08:49:37.489Z"
   },
   {
    "duration": 487,
    "start_time": "2024-05-19T08:49:38.891Z"
   },
   {
    "duration": 80,
    "start_time": "2024-05-19T08:49:42.247Z"
   },
   {
    "duration": 24,
    "start_time": "2024-05-19T08:51:36.192Z"
   },
   {
    "duration": 20,
    "start_time": "2024-05-19T08:52:18.074Z"
   },
   {
    "duration": 11,
    "start_time": "2024-05-19T08:52:19.298Z"
   },
   {
    "duration": 8,
    "start_time": "2024-05-19T08:52:21.271Z"
   },
   {
    "duration": 7,
    "start_time": "2024-05-19T08:52:21.725Z"
   },
   {
    "duration": 6,
    "start_time": "2024-05-19T08:52:22.815Z"
   },
   {
    "duration": 6,
    "start_time": "2024-05-19T08:52:22.983Z"
   },
   {
    "duration": 19,
    "start_time": "2024-05-19T08:52:23.910Z"
   },
   {
    "duration": 27,
    "start_time": "2024-05-19T08:52:24.490Z"
   },
   {
    "duration": 21,
    "start_time": "2024-05-19T08:52:24.880Z"
   },
   {
    "duration": 18,
    "start_time": "2024-05-19T08:52:25.693Z"
   },
   {
    "duration": 16,
    "start_time": "2024-05-19T08:52:56.685Z"
   },
   {
    "duration": 15,
    "start_time": "2024-05-19T08:53:07.898Z"
   },
   {
    "duration": 18,
    "start_time": "2024-05-19T08:54:33.042Z"
   },
   {
    "duration": 14,
    "start_time": "2024-05-19T08:54:38.209Z"
   },
   {
    "duration": 13,
    "start_time": "2024-05-19T08:54:43.050Z"
   },
   {
    "duration": 23,
    "start_time": "2024-05-19T08:54:47.089Z"
   },
   {
    "duration": 23,
    "start_time": "2024-05-19T08:55:00.485Z"
   },
   {
    "duration": 10,
    "start_time": "2024-05-19T08:55:05.982Z"
   },
   {
    "duration": 5021,
    "start_time": "2024-05-19T08:55:47.528Z"
   },
   {
    "duration": 9,
    "start_time": "2024-05-19T08:55:52.554Z"
   },
   {
    "duration": 6,
    "start_time": "2024-05-19T08:55:52.569Z"
   },
   {
    "duration": 39,
    "start_time": "2024-05-19T08:55:52.579Z"
   },
   {
    "duration": 6,
    "start_time": "2024-05-19T08:55:52.622Z"
   },
   {
    "duration": 16,
    "start_time": "2024-05-19T08:55:52.630Z"
   },
   {
    "duration": 53,
    "start_time": "2024-05-19T08:55:52.649Z"
   },
   {
    "duration": 14,
    "start_time": "2024-05-19T08:55:52.705Z"
   },
   {
    "duration": 12,
    "start_time": "2024-05-19T08:55:52.723Z"
   },
   {
    "duration": 11,
    "start_time": "2024-05-19T08:55:52.739Z"
   },
   {
    "duration": 50,
    "start_time": "2024-05-19T08:55:52.753Z"
   },
   {
    "duration": 13,
    "start_time": "2024-05-19T08:55:52.806Z"
   },
   {
    "duration": 15,
    "start_time": "2024-05-19T08:55:52.822Z"
   },
   {
    "duration": 9,
    "start_time": "2024-05-19T08:55:52.845Z"
   },
   {
    "duration": 45,
    "start_time": "2024-05-19T08:55:52.857Z"
   },
   {
    "duration": 11,
    "start_time": "2024-05-19T08:55:52.905Z"
   },
   {
    "duration": 14,
    "start_time": "2024-05-19T08:55:52.919Z"
   },
   {
    "duration": 22,
    "start_time": "2024-05-19T08:55:52.936Z"
   },
   {
    "duration": 19,
    "start_time": "2024-05-19T08:55:53.003Z"
   },
   {
    "duration": 18,
    "start_time": "2024-05-19T08:55:53.025Z"
   },
   {
    "duration": 10,
    "start_time": "2024-05-19T08:55:53.047Z"
   },
   {
    "duration": 15,
    "start_time": "2024-05-19T08:55:53.101Z"
   },
   {
    "duration": 20,
    "start_time": "2024-05-19T08:55:53.119Z"
   },
   {
    "duration": 10,
    "start_time": "2024-05-19T08:55:53.142Z"
   },
   {
    "duration": 49,
    "start_time": "2024-05-19T08:55:53.155Z"
   },
   {
    "duration": 9,
    "start_time": "2024-05-19T08:55:53.206Z"
   },
   {
    "duration": 7,
    "start_time": "2024-05-19T08:55:53.217Z"
   },
   {
    "duration": 8,
    "start_time": "2024-05-19T08:55:53.227Z"
   },
   {
    "duration": 17,
    "start_time": "2024-05-19T08:55:53.238Z"
   },
   {
    "duration": 18,
    "start_time": "2024-05-19T08:55:53.303Z"
   },
   {
    "duration": 21,
    "start_time": "2024-05-19T08:55:53.324Z"
   },
   {
    "duration": 56,
    "start_time": "2024-05-19T08:55:53.347Z"
   },
   {
    "duration": 498,
    "start_time": "2024-05-19T08:55:53.407Z"
   },
   {
    "duration": 0,
    "start_time": "2024-05-19T08:55:53.908Z"
   },
   {
    "duration": 3451,
    "start_time": "2024-05-19T08:56:49.500Z"
   },
   {
    "duration": 10,
    "start_time": "2024-05-19T08:56:52.955Z"
   },
   {
    "duration": 6,
    "start_time": "2024-05-19T08:56:52.967Z"
   },
   {
    "duration": 15,
    "start_time": "2024-05-19T08:56:52.978Z"
   },
   {
    "duration": 5,
    "start_time": "2024-05-19T08:56:52.996Z"
   },
   {
    "duration": 15,
    "start_time": "2024-05-19T08:56:53.004Z"
   },
   {
    "duration": 13,
    "start_time": "2024-05-19T08:56:53.787Z"
   },
   {
    "duration": 13,
    "start_time": "2024-05-19T08:56:54.417Z"
   },
   {
    "duration": 11,
    "start_time": "2024-05-19T08:56:55.031Z"
   },
   {
    "duration": 9,
    "start_time": "2024-05-19T08:56:55.845Z"
   },
   {
    "duration": 5,
    "start_time": "2024-05-19T08:56:56.483Z"
   },
   {
    "duration": 13,
    "start_time": "2024-05-19T08:56:57.358Z"
   },
   {
    "duration": 14,
    "start_time": "2024-05-19T08:56:57.925Z"
   },
   {
    "duration": 9,
    "start_time": "2024-05-19T08:57:02.791Z"
   },
   {
    "duration": 6,
    "start_time": "2024-05-19T08:57:03.304Z"
   },
   {
    "duration": 11,
    "start_time": "2024-05-19T08:57:04.040Z"
   },
   {
    "duration": 17,
    "start_time": "2024-05-19T08:57:04.569Z"
   },
   {
    "duration": 20,
    "start_time": "2024-05-19T08:57:12.192Z"
   },
   {
    "duration": 20,
    "start_time": "2024-05-19T08:57:13.840Z"
   },
   {
    "duration": 18,
    "start_time": "2024-05-19T08:57:15.818Z"
   },
   {
    "duration": 9,
    "start_time": "2024-05-19T08:57:26.186Z"
   },
   {
    "duration": 15,
    "start_time": "2024-05-19T08:57:29.931Z"
   },
   {
    "duration": 21,
    "start_time": "2024-05-19T08:57:34.051Z"
   },
   {
    "duration": 10,
    "start_time": "2024-05-19T08:57:39.649Z"
   },
   {
    "duration": 10,
    "start_time": "2024-05-19T08:57:42.644Z"
   },
   {
    "duration": 8,
    "start_time": "2024-05-19T08:57:42.974Z"
   },
   {
    "duration": 9,
    "start_time": "2024-05-19T08:57:43.721Z"
   },
   {
    "duration": 7,
    "start_time": "2024-05-19T08:57:43.893Z"
   },
   {
    "duration": 17,
    "start_time": "2024-05-19T08:57:44.649Z"
   },
   {
    "duration": 16,
    "start_time": "2024-05-19T08:57:45.476Z"
   },
   {
    "duration": 17,
    "start_time": "2024-05-19T08:57:46.356Z"
   },
   {
    "duration": 16,
    "start_time": "2024-05-19T08:57:48.618Z"
   },
   {
    "duration": 36,
    "start_time": "2024-05-19T08:58:32.235Z"
   },
   {
    "duration": 23,
    "start_time": "2024-05-19T08:58:47.582Z"
   },
   {
    "duration": 22,
    "start_time": "2024-05-19T09:02:01.021Z"
   },
   {
    "duration": 9,
    "start_time": "2024-05-19T09:02:02.701Z"
   },
   {
    "duration": 24,
    "start_time": "2024-05-19T09:02:45.637Z"
   },
   {
    "duration": 9,
    "start_time": "2024-05-19T09:03:14.824Z"
   },
   {
    "duration": 9,
    "start_time": "2024-05-19T09:03:19.405Z"
   },
   {
    "duration": 8,
    "start_time": "2024-05-19T09:03:19.830Z"
   },
   {
    "duration": 9,
    "start_time": "2024-05-19T09:03:22.771Z"
   },
   {
    "duration": 8,
    "start_time": "2024-05-19T09:03:23.369Z"
   },
   {
    "duration": 24,
    "start_time": "2024-05-19T09:03:25.130Z"
   },
   {
    "duration": 18,
    "start_time": "2024-05-19T09:03:25.797Z"
   },
   {
    "duration": 34,
    "start_time": "2024-05-19T09:03:26.440Z"
   },
   {
    "duration": 17,
    "start_time": "2024-05-19T09:03:43.934Z"
   },
   {
    "duration": 28,
    "start_time": "2024-05-19T09:04:58.361Z"
   },
   {
    "duration": 27,
    "start_time": "2024-05-19T09:05:06.446Z"
   },
   {
    "duration": 594,
    "start_time": "2024-05-19T09:05:09.332Z"
   },
   {
    "duration": 18,
    "start_time": "2024-05-19T09:05:33.515Z"
   },
   {
    "duration": 33,
    "start_time": "2024-05-19T09:07:30.590Z"
   },
   {
    "duration": 173,
    "start_time": "2024-05-19T09:12:44.186Z"
   },
   {
    "duration": 7,
    "start_time": "2024-05-19T09:12:59.330Z"
   },
   {
    "duration": 17,
    "start_time": "2024-05-19T09:26:07.369Z"
   },
   {
    "duration": 32,
    "start_time": "2024-05-19T09:27:10.200Z"
   },
   {
    "duration": 30,
    "start_time": "2024-05-19T09:27:37.298Z"
   },
   {
    "duration": 35,
    "start_time": "2024-05-19T09:28:26.371Z"
   },
   {
    "duration": 442,
    "start_time": "2024-05-19T09:29:26.952Z"
   },
   {
    "duration": 1050,
    "start_time": "2024-05-19T09:30:24.266Z"
   },
   {
    "duration": 450,
    "start_time": "2024-05-19T09:30:33.845Z"
   },
   {
    "duration": 400,
    "start_time": "2024-05-19T09:31:44.405Z"
   },
   {
    "duration": 32,
    "start_time": "2024-05-19T09:39:54.487Z"
   },
   {
    "duration": 26,
    "start_time": "2024-05-19T09:43:22.748Z"
   },
   {
    "duration": 18,
    "start_time": "2024-05-19T09:43:36.880Z"
   },
   {
    "duration": 23,
    "start_time": "2024-05-19T09:44:02.004Z"
   },
   {
    "duration": 18,
    "start_time": "2024-05-19T09:44:17.208Z"
   },
   {
    "duration": 354,
    "start_time": "2024-05-19T09:45:34.970Z"
   },
   {
    "duration": 23,
    "start_time": "2024-05-19T09:46:36.421Z"
   },
   {
    "duration": 290,
    "start_time": "2024-05-19T09:47:11.045Z"
   },
   {
    "duration": 530,
    "start_time": "2024-05-19T09:48:54.115Z"
   },
   {
    "duration": 550,
    "start_time": "2024-05-19T09:49:44.251Z"
   },
   {
    "duration": 21,
    "start_time": "2024-05-19T09:51:24.049Z"
   },
   {
    "duration": 488,
    "start_time": "2024-05-19T09:51:33.207Z"
   },
   {
    "duration": 21,
    "start_time": "2024-05-19T09:51:36.652Z"
   },
   {
    "duration": 392,
    "start_time": "2024-05-19T09:51:38.516Z"
   },
   {
    "duration": 4786,
    "start_time": "2024-05-19T09:53:52.042Z"
   },
   {
    "duration": 10,
    "start_time": "2024-05-19T09:53:56.832Z"
   },
   {
    "duration": 5,
    "start_time": "2024-05-19T09:53:56.845Z"
   },
   {
    "duration": 49,
    "start_time": "2024-05-19T09:53:56.854Z"
   },
   {
    "duration": 6,
    "start_time": "2024-05-19T09:53:56.908Z"
   },
   {
    "duration": 14,
    "start_time": "2024-05-19T09:53:56.917Z"
   },
   {
    "duration": 12,
    "start_time": "2024-05-19T09:53:56.935Z"
   },
   {
    "duration": 54,
    "start_time": "2024-05-19T09:53:56.950Z"
   },
   {
    "duration": 12,
    "start_time": "2024-05-19T09:53:57.007Z"
   },
   {
    "duration": 10,
    "start_time": "2024-05-19T09:53:57.022Z"
   },
   {
    "duration": 6,
    "start_time": "2024-05-19T09:53:57.036Z"
   },
   {
    "duration": 57,
    "start_time": "2024-05-19T09:53:57.045Z"
   },
   {
    "duration": 16,
    "start_time": "2024-05-19T09:53:57.105Z"
   },
   {
    "duration": 8,
    "start_time": "2024-05-19T09:53:57.127Z"
   },
   {
    "duration": 9,
    "start_time": "2024-05-19T09:53:57.138Z"
   },
   {
    "duration": 12,
    "start_time": "2024-05-19T09:53:57.149Z"
   },
   {
    "duration": 15,
    "start_time": "2024-05-19T09:53:57.203Z"
   },
   {
    "duration": 21,
    "start_time": "2024-05-19T09:53:57.221Z"
   },
   {
    "duration": 59,
    "start_time": "2024-05-19T09:53:57.245Z"
   },
   {
    "duration": 17,
    "start_time": "2024-05-19T09:53:57.307Z"
   },
   {
    "duration": 9,
    "start_time": "2024-05-19T09:53:57.327Z"
   },
   {
    "duration": 15,
    "start_time": "2024-05-19T09:53:57.339Z"
   },
   {
    "duration": 60,
    "start_time": "2024-05-19T09:53:57.357Z"
   },
   {
    "duration": 9,
    "start_time": "2024-05-19T09:53:57.420Z"
   },
   {
    "duration": 9,
    "start_time": "2024-05-19T09:53:57.432Z"
   },
   {
    "duration": 7,
    "start_time": "2024-05-19T09:53:57.444Z"
   },
   {
    "duration": 55,
    "start_time": "2024-05-19T09:53:57.455Z"
   },
   {
    "duration": 7,
    "start_time": "2024-05-19T09:53:57.514Z"
   },
   {
    "duration": 23,
    "start_time": "2024-05-19T09:53:57.524Z"
   },
   {
    "duration": 52,
    "start_time": "2024-05-19T09:53:57.554Z"
   },
   {
    "duration": 17,
    "start_time": "2024-05-19T09:53:57.609Z"
   },
   {
    "duration": 15,
    "start_time": "2024-05-19T09:53:57.629Z"
   },
   {
    "duration": 73,
    "start_time": "2024-05-19T09:53:57.647Z"
   },
   {
    "duration": 538,
    "start_time": "2024-05-19T09:53:57.724Z"
   },
   {
    "duration": 20,
    "start_time": "2024-05-19T09:53:58.265Z"
   },
   {
    "duration": 453,
    "start_time": "2024-05-19T09:53:58.288Z"
   },
   {
    "duration": 3428,
    "start_time": "2024-05-19T09:53:58.749Z"
   },
   {
    "duration": 10,
    "start_time": "2024-05-19T09:54:02.180Z"
   },
   {
    "duration": 6,
    "start_time": "2024-05-19T09:54:02.193Z"
   },
   {
    "duration": 13,
    "start_time": "2024-05-19T09:54:02.202Z"
   },
   {
    "duration": 6,
    "start_time": "2024-05-19T09:54:02.218Z"
   },
   {
    "duration": 15,
    "start_time": "2024-05-19T09:54:02.227Z"
   },
   {
    "duration": 13,
    "start_time": "2024-05-19T09:54:02.369Z"
   },
   {
    "duration": 12,
    "start_time": "2024-05-19T09:54:02.584Z"
   },
   {
    "duration": 11,
    "start_time": "2024-05-19T09:54:02.745Z"
   },
   {
    "duration": 8,
    "start_time": "2024-05-19T09:54:02.888Z"
   },
   {
    "duration": 5,
    "start_time": "2024-05-19T09:54:03.052Z"
   },
   {
    "duration": 13,
    "start_time": "2024-05-19T09:54:03.236Z"
   },
   {
    "duration": 14,
    "start_time": "2024-05-19T09:54:03.409Z"
   },
   {
    "duration": 7,
    "start_time": "2024-05-19T09:54:05.402Z"
   },
   {
    "duration": 5,
    "start_time": "2024-05-19T09:54:06.250Z"
   },
   {
    "duration": 11,
    "start_time": "2024-05-19T09:54:06.982Z"
   },
   {
    "duration": 14,
    "start_time": "2024-05-19T09:54:07.688Z"
   },
   {
    "duration": 20,
    "start_time": "2024-05-19T09:54:23.137Z"
   },
   {
    "duration": 20,
    "start_time": "2024-05-19T09:54:24.971Z"
   },
   {
    "duration": 19,
    "start_time": "2024-05-19T09:54:25.409Z"
   },
   {
    "duration": 9,
    "start_time": "2024-05-19T09:54:25.809Z"
   },
   {
    "duration": 15,
    "start_time": "2024-05-19T09:54:25.976Z"
   },
   {
    "duration": 20,
    "start_time": "2024-05-19T09:54:26.129Z"
   },
   {
    "duration": 11,
    "start_time": "2024-05-19T09:54:26.227Z"
   },
   {
    "duration": 13,
    "start_time": "2024-05-19T09:54:26.750Z"
   },
   {
    "duration": 8,
    "start_time": "2024-05-19T09:54:26.896Z"
   },
   {
    "duration": 7,
    "start_time": "2024-05-19T09:54:27.600Z"
   },
   {
    "duration": 8,
    "start_time": "2024-05-19T09:54:27.819Z"
   },
   {
    "duration": 17,
    "start_time": "2024-05-19T09:54:28.610Z"
   },
   {
    "duration": 17,
    "start_time": "2024-05-19T09:54:29.758Z"
   },
   {
    "duration": 18,
    "start_time": "2024-05-19T09:54:30.136Z"
   },
   {
    "duration": 15,
    "start_time": "2024-05-19T09:54:35.528Z"
   },
   {
    "duration": 24,
    "start_time": "2024-05-19T09:54:46.359Z"
   },
   {
    "duration": 16,
    "start_time": "2024-05-19T09:54:56.960Z"
   },
   {
    "duration": 30,
    "start_time": "2024-05-19T09:54:58.165Z"
   },
   {
    "duration": 477,
    "start_time": "2024-05-19T09:54:59.436Z"
   },
   {
    "duration": 20,
    "start_time": "2024-05-19T09:55:12.240Z"
   },
   {
    "duration": 352,
    "start_time": "2024-05-19T09:55:13.325Z"
   },
   {
    "duration": 407,
    "start_time": "2024-05-19T09:56:54.755Z"
   },
   {
    "duration": 12,
    "start_time": "2024-05-19T09:57:08.479Z"
   },
   {
    "duration": 28,
    "start_time": "2024-05-19T09:57:11.318Z"
   },
   {
    "duration": 35,
    "start_time": "2024-05-19T09:57:18.325Z"
   },
   {
    "duration": 13,
    "start_time": "2024-05-19T09:57:19.832Z"
   },
   {
    "duration": 11,
    "start_time": "2024-05-19T09:57:22.106Z"
   },
   {
    "duration": 10,
    "start_time": "2024-05-19T09:57:22.582Z"
   },
   {
    "duration": 15,
    "start_time": "2024-05-19T09:57:24.037Z"
   },
   {
    "duration": 8,
    "start_time": "2024-05-19T09:57:24.056Z"
   },
   {
    "duration": 20,
    "start_time": "2024-05-19T09:57:26.647Z"
   },
   {
    "duration": 24,
    "start_time": "2024-05-19T09:57:27.180Z"
   },
   {
    "duration": 24,
    "start_time": "2024-05-19T09:57:27.507Z"
   },
   {
    "duration": 18,
    "start_time": "2024-05-19T09:57:45.757Z"
   },
   {
    "duration": 31,
    "start_time": "2024-05-19T09:57:56.319Z"
   },
   {
    "duration": 482,
    "start_time": "2024-05-19T09:58:00.022Z"
   },
   {
    "duration": 21,
    "start_time": "2024-05-19T09:58:24.939Z"
   },
   {
    "duration": 21,
    "start_time": "2024-05-19T09:58:29.879Z"
   },
   {
    "duration": 353,
    "start_time": "2024-05-19T09:58:50.602Z"
   },
   {
    "duration": 17,
    "start_time": "2024-05-19T10:02:55.466Z"
   },
   {
    "duration": 959,
    "start_time": "2024-05-19T10:05:26.780Z"
   },
   {
    "duration": 86,
    "start_time": "2024-05-19T10:08:00.354Z"
   },
   {
    "duration": 81,
    "start_time": "2024-05-19T10:43:01.129Z"
   },
   {
    "duration": 84,
    "start_time": "2024-05-19T10:43:25.832Z"
   },
   {
    "duration": 336,
    "start_time": "2024-05-19T10:45:12.968Z"
   },
   {
    "duration": 519,
    "start_time": "2024-05-19T10:45:51.007Z"
   },
   {
    "duration": 351,
    "start_time": "2024-05-19T10:46:47.535Z"
   },
   {
    "duration": 135,
    "start_time": "2024-05-19T10:47:55.608Z"
   },
   {
    "duration": 387,
    "start_time": "2024-05-19T10:48:27.250Z"
   },
   {
    "duration": 8,
    "start_time": "2024-05-19T11:09:06.255Z"
   },
   {
    "duration": 24,
    "start_time": "2024-05-19T11:09:57.378Z"
   },
   {
    "duration": 3716,
    "start_time": "2024-05-19T11:10:42.910Z"
   },
   {
    "duration": 10,
    "start_time": "2024-05-19T11:10:53.830Z"
   },
   {
    "duration": 6,
    "start_time": "2024-05-19T11:10:54.989Z"
   },
   {
    "duration": 14,
    "start_time": "2024-05-19T11:10:55.292Z"
   },
   {
    "duration": 5,
    "start_time": "2024-05-19T11:10:56.179Z"
   },
   {
    "duration": 16,
    "start_time": "2024-05-19T11:10:56.188Z"
   },
   {
    "duration": 13,
    "start_time": "2024-05-19T11:10:56.735Z"
   },
   {
    "duration": 13,
    "start_time": "2024-05-19T11:10:56.970Z"
   },
   {
    "duration": 11,
    "start_time": "2024-05-19T11:10:57.256Z"
   },
   {
    "duration": 10,
    "start_time": "2024-05-19T11:10:57.608Z"
   },
   {
    "duration": 6,
    "start_time": "2024-05-19T11:10:58.046Z"
   },
   {
    "duration": 13,
    "start_time": "2024-05-19T11:10:58.399Z"
   },
   {
    "duration": 14,
    "start_time": "2024-05-19T11:10:58.813Z"
   },
   {
    "duration": 10,
    "start_time": "2024-05-19T11:10:59.555Z"
   },
   {
    "duration": 6,
    "start_time": "2024-05-19T11:10:59.837Z"
   },
   {
    "duration": 11,
    "start_time": "2024-05-19T11:11:00.311Z"
   },
   {
    "duration": 13,
    "start_time": "2024-05-19T11:11:00.979Z"
   },
   {
    "duration": 20,
    "start_time": "2024-05-19T11:11:03.940Z"
   },
   {
    "duration": 19,
    "start_time": "2024-05-19T11:11:04.672Z"
   },
   {
    "duration": 20,
    "start_time": "2024-05-19T11:11:05.606Z"
   },
   {
    "duration": 10,
    "start_time": "2024-05-19T11:11:06.527Z"
   },
   {
    "duration": 13,
    "start_time": "2024-05-19T11:11:07.204Z"
   },
   {
    "duration": 20,
    "start_time": "2024-05-19T11:11:07.925Z"
   },
   {
    "duration": 9,
    "start_time": "2024-05-19T11:11:34.701Z"
   },
   {
    "duration": 9,
    "start_time": "2024-05-19T11:11:35.520Z"
   },
   {
    "duration": 9,
    "start_time": "2024-05-19T11:11:35.697Z"
   },
   {
    "duration": 8,
    "start_time": "2024-05-19T11:11:36.371Z"
   },
   {
    "duration": 7,
    "start_time": "2024-05-19T11:11:36.558Z"
   },
   {
    "duration": 19,
    "start_time": "2024-05-19T11:11:37.290Z"
   },
   {
    "duration": 17,
    "start_time": "2024-05-19T11:11:37.861Z"
   },
   {
    "duration": 17,
    "start_time": "2024-05-19T11:11:38.242Z"
   },
   {
    "duration": 8,
    "start_time": "2024-05-19T11:11:38.848Z"
   },
   {
    "duration": 30,
    "start_time": "2024-05-19T11:11:39.054Z"
   },
   {
    "duration": 17,
    "start_time": "2024-05-19T11:11:39.513Z"
   },
   {
    "duration": 26,
    "start_time": "2024-05-19T11:11:39.822Z"
   },
   {
    "duration": 25,
    "start_time": "2024-05-19T11:11:47.328Z"
   },
   {
    "duration": 317,
    "start_time": "2024-05-19T11:15:22.321Z"
   },
   {
    "duration": 21,
    "start_time": "2024-05-19T11:15:58.963Z"
   },
   {
    "duration": 100,
    "start_time": "2024-05-19T11:17:26.273Z"
   },
   {
    "duration": 15,
    "start_time": "2024-05-19T11:18:34.074Z"
   },
   {
    "duration": 576,
    "start_time": "2024-05-19T11:21:25.677Z"
   },
   {
    "duration": 256,
    "start_time": "2024-05-19T11:21:59.957Z"
   },
   {
    "duration": 257,
    "start_time": "2024-05-19T11:22:04.686Z"
   },
   {
    "duration": 416,
    "start_time": "2024-05-19T11:24:32.724Z"
   },
   {
    "duration": 366,
    "start_time": "2024-05-19T11:25:48.978Z"
   },
   {
    "duration": 360,
    "start_time": "2024-05-19T11:27:38.875Z"
   },
   {
    "duration": 485,
    "start_time": "2024-05-19T11:28:32.493Z"
   },
   {
    "duration": 395,
    "start_time": "2024-05-19T11:32:33.766Z"
   },
   {
    "duration": 1759,
    "start_time": "2024-05-19T11:34:27.896Z"
   },
   {
    "duration": 547,
    "start_time": "2024-05-19T11:34:54.899Z"
   },
   {
    "duration": 388,
    "start_time": "2024-05-19T11:35:14.935Z"
   },
   {
    "duration": 471,
    "start_time": "2024-05-19T11:35:58.313Z"
   },
   {
    "duration": 356,
    "start_time": "2024-05-19T11:38:22.713Z"
   },
   {
    "duration": 608,
    "start_time": "2024-05-19T11:38:43.759Z"
   },
   {
    "duration": 470,
    "start_time": "2024-05-19T11:38:50.861Z"
   },
   {
    "duration": 425,
    "start_time": "2024-05-19T11:40:50.130Z"
   },
   {
    "duration": 354,
    "start_time": "2024-05-19T11:41:06.231Z"
   },
   {
    "duration": 489,
    "start_time": "2024-05-19T11:41:24.877Z"
   },
   {
    "duration": 409,
    "start_time": "2024-05-19T11:41:45.614Z"
   },
   {
    "duration": 469,
    "start_time": "2024-05-19T11:41:56.029Z"
   },
   {
    "duration": 394,
    "start_time": "2024-05-19T11:43:23.349Z"
   },
   {
    "duration": 438,
    "start_time": "2024-05-19T11:43:54.219Z"
   },
   {
    "duration": 10,
    "start_time": "2024-05-19T11:44:15.843Z"
   },
   {
    "duration": 9,
    "start_time": "2024-05-19T11:44:36.067Z"
   },
   {
    "duration": 442,
    "start_time": "2024-05-19T11:44:36.507Z"
   },
   {
    "duration": 427,
    "start_time": "2024-05-19T11:44:37.188Z"
   },
   {
    "duration": 446,
    "start_time": "2024-05-19T11:44:38.910Z"
   },
   {
    "duration": 546,
    "start_time": "2024-05-19T11:44:43.575Z"
   },
   {
    "duration": 473,
    "start_time": "2024-05-19T11:44:46.056Z"
   },
   {
    "duration": 526,
    "start_time": "2024-05-19T11:44:55.618Z"
   },
   {
    "duration": 433,
    "start_time": "2024-05-19T11:49:16.064Z"
   },
   {
    "duration": 452,
    "start_time": "2024-05-19T11:49:16.791Z"
   },
   {
    "duration": 423,
    "start_time": "2024-05-19T11:49:17.526Z"
   },
   {
    "duration": 529,
    "start_time": "2024-05-19T11:49:19.114Z"
   },
   {
    "duration": 467,
    "start_time": "2024-05-19T11:49:22.013Z"
   },
   {
    "duration": 225,
    "start_time": "2024-05-19T11:57:37.529Z"
   },
   {
    "duration": 412,
    "start_time": "2024-05-19T11:58:22.535Z"
   },
   {
    "duration": 259,
    "start_time": "2024-05-19T11:58:49.097Z"
   },
   {
    "duration": 8,
    "start_time": "2024-05-19T11:59:45.682Z"
   },
   {
    "duration": 7,
    "start_time": "2024-05-19T12:01:01.111Z"
   },
   {
    "duration": 7,
    "start_time": "2024-05-19T12:01:07.151Z"
   },
   {
    "duration": 28,
    "start_time": "2024-05-19T12:06:23.448Z"
   },
   {
    "duration": 25,
    "start_time": "2024-05-19T12:07:42.331Z"
   },
   {
    "duration": 245,
    "start_time": "2024-05-19T12:07:54.273Z"
   },
   {
    "duration": 865,
    "start_time": "2024-05-19T12:09:38.892Z"
   },
   {
    "duration": 6,
    "start_time": "2024-05-19T12:11:05.518Z"
   },
   {
    "duration": 6,
    "start_time": "2024-05-19T12:12:03.466Z"
   },
   {
    "duration": 7,
    "start_time": "2024-05-19T12:12:15.274Z"
   },
   {
    "duration": 6,
    "start_time": "2024-05-19T12:12:20.451Z"
   },
   {
    "duration": 9566,
    "start_time": "2024-05-22T04:59:48.883Z"
   },
   {
    "duration": 16,
    "start_time": "2024-05-22T04:59:58.453Z"
   },
   {
    "duration": 6,
    "start_time": "2024-05-22T04:59:58.473Z"
   },
   {
    "duration": 37,
    "start_time": "2024-05-22T04:59:58.483Z"
   },
   {
    "duration": 6,
    "start_time": "2024-05-22T04:59:58.525Z"
   },
   {
    "duration": 18,
    "start_time": "2024-05-22T04:59:58.534Z"
   },
   {
    "duration": 13,
    "start_time": "2024-05-22T04:59:58.558Z"
   },
   {
    "duration": 51,
    "start_time": "2024-05-22T04:59:58.575Z"
   },
   {
    "duration": 14,
    "start_time": "2024-05-22T04:59:58.629Z"
   },
   {
    "duration": 13,
    "start_time": "2024-05-22T04:59:58.647Z"
   },
   {
    "duration": 7,
    "start_time": "2024-05-22T04:59:58.663Z"
   },
   {
    "duration": 18,
    "start_time": "2024-05-22T04:59:58.715Z"
   },
   {
    "duration": 32,
    "start_time": "2024-05-22T04:59:58.738Z"
   },
   {
    "duration": 17,
    "start_time": "2024-05-22T04:59:58.795Z"
   },
   {
    "duration": 5,
    "start_time": "2024-05-22T04:59:58.816Z"
   },
   {
    "duration": 26,
    "start_time": "2024-05-22T04:59:58.825Z"
   },
   {
    "duration": 19,
    "start_time": "2024-05-22T04:59:58.855Z"
   },
   {
    "duration": 63,
    "start_time": "2024-05-22T04:59:58.878Z"
   },
   {
    "duration": 32,
    "start_time": "2024-05-22T04:59:58.945Z"
   },
   {
    "duration": 35,
    "start_time": "2024-05-22T04:59:58.981Z"
   },
   {
    "duration": 11,
    "start_time": "2024-05-22T04:59:59.019Z"
   },
   {
    "duration": 21,
    "start_time": "2024-05-22T04:59:59.034Z"
   },
   {
    "duration": 56,
    "start_time": "2024-05-22T04:59:59.058Z"
   },
   {
    "duration": 10,
    "start_time": "2024-05-22T04:59:59.117Z"
   },
   {
    "duration": 15,
    "start_time": "2024-05-22T04:59:59.130Z"
   },
   {
    "duration": 8,
    "start_time": "2024-05-22T04:59:59.149Z"
   },
   {
    "duration": 10,
    "start_time": "2024-05-22T04:59:59.160Z"
   },
   {
    "duration": 8,
    "start_time": "2024-05-22T04:59:59.214Z"
   },
   {
    "duration": 23,
    "start_time": "2024-05-22T04:59:59.226Z"
   },
   {
    "duration": 19,
    "start_time": "2024-05-22T04:59:59.254Z"
   },
   {
    "duration": 59,
    "start_time": "2024-05-22T04:59:59.275Z"
   },
   {
    "duration": 10,
    "start_time": "2024-05-22T04:59:59.338Z"
   },
   {
    "duration": 578,
    "start_time": "2024-05-22T04:59:59.352Z"
   },
   {
    "duration": 642,
    "start_time": "2024-05-22T04:59:59.934Z"
   },
   {
    "duration": 548,
    "start_time": "2024-05-22T05:00:00.578Z"
   },
   {
    "duration": 642,
    "start_time": "2024-05-22T05:00:01.130Z"
   },
   {
    "duration": 625,
    "start_time": "2024-05-22T05:00:01.776Z"
   },
   {
    "duration": 578,
    "start_time": "2024-05-22T05:00:02.404Z"
   },
   {
    "duration": 252,
    "start_time": "2024-05-22T05:00:02.985Z"
   },
   {
    "duration": 356,
    "start_time": "2024-05-22T05:00:03.241Z"
   },
   {
    "duration": 271,
    "start_time": "2024-05-22T05:00:03.617Z"
   },
   {
    "duration": 6,
    "start_time": "2024-05-22T05:00:03.891Z"
   },
   {
    "duration": 322,
    "start_time": "2024-05-22T05:00:03.900Z"
   },
   {
    "duration": 8,
    "start_time": "2024-05-22T05:00:04.230Z"
   },
   {
    "duration": 20,
    "start_time": "2024-05-22T05:00:04.242Z"
   },
   {
    "duration": 62,
    "start_time": "2024-05-22T05:00:04.265Z"
   },
   {
    "duration": 716,
    "start_time": "2024-05-22T05:00:04.331Z"
   },
   {
    "duration": 22,
    "start_time": "2024-05-22T05:00:05.050Z"
   },
   {
    "duration": 1359,
    "start_time": "2024-05-22T05:00:05.077Z"
   },
   {
    "duration": 0,
    "start_time": "2024-05-22T05:00:06.439Z"
   },
   {
    "duration": 0,
    "start_time": "2024-05-22T05:00:06.441Z"
   },
   {
    "duration": 0,
    "start_time": "2024-05-22T05:00:06.443Z"
   },
   {
    "duration": 0,
    "start_time": "2024-05-22T05:00:06.445Z"
   },
   {
    "duration": 3541,
    "start_time": "2024-05-22T05:11:32.179Z"
   },
   {
    "duration": 10,
    "start_time": "2024-05-22T05:11:35.724Z"
   },
   {
    "duration": 5,
    "start_time": "2024-05-22T05:11:38.734Z"
   },
   {
    "duration": 17,
    "start_time": "2024-05-22T05:11:40.830Z"
   },
   {
    "duration": 8,
    "start_time": "2024-05-22T05:11:45.044Z"
   },
   {
    "duration": 19,
    "start_time": "2024-05-22T05:11:45.922Z"
   },
   {
    "duration": 13,
    "start_time": "2024-05-22T05:11:48.018Z"
   },
   {
    "duration": 15,
    "start_time": "2024-05-22T05:11:49.123Z"
   },
   {
    "duration": 14,
    "start_time": "2024-05-22T05:11:50.227Z"
   },
   {
    "duration": 12,
    "start_time": "2024-05-22T05:11:53.949Z"
   },
   {
    "duration": 12,
    "start_time": "2024-05-22T05:12:21.202Z"
   },
   {
    "duration": 9,
    "start_time": "2024-05-22T05:12:21.865Z"
   },
   {
    "duration": 8,
    "start_time": "2024-05-22T05:12:22.862Z"
   },
   {
    "duration": 17,
    "start_time": "2024-05-22T05:12:23.615Z"
   },
   {
    "duration": 15,
    "start_time": "2024-05-22T05:12:24.132Z"
   },
   {
    "duration": 9,
    "start_time": "2024-05-22T05:12:30.522Z"
   },
   {
    "duration": 8,
    "start_time": "2024-05-22T05:12:31.393Z"
   },
   {
    "duration": 12,
    "start_time": "2024-05-22T05:12:32.394Z"
   },
   {
    "duration": 13,
    "start_time": "2024-05-22T05:12:33.181Z"
   },
   {
    "duration": 26,
    "start_time": "2024-05-22T05:12:44.986Z"
   },
   {
    "duration": 24,
    "start_time": "2024-05-22T05:12:46.464Z"
   },
   {
    "duration": 24,
    "start_time": "2024-05-22T05:13:48.222Z"
   },
   {
    "duration": 17,
    "start_time": "2024-05-22T05:13:54.123Z"
   },
   {
    "duration": 14,
    "start_time": "2024-05-22T05:15:33.977Z"
   },
   {
    "duration": 13,
    "start_time": "2024-05-22T05:15:51.562Z"
   },
   {
    "duration": 14,
    "start_time": "2024-05-22T05:15:56.851Z"
   },
   {
    "duration": 20,
    "start_time": "2024-05-22T05:15:57.573Z"
   },
   {
    "duration": 9,
    "start_time": "2024-05-22T05:15:58.344Z"
   },
   {
    "duration": 9,
    "start_time": "2024-05-22T05:15:59.504Z"
   },
   {
    "duration": 7,
    "start_time": "2024-05-22T05:15:59.802Z"
   },
   {
    "duration": 7,
    "start_time": "2024-05-22T05:16:00.508Z"
   },
   {
    "duration": 11,
    "start_time": "2024-05-22T05:16:00.732Z"
   },
   {
    "duration": 19,
    "start_time": "2024-05-22T05:16:01.510Z"
   },
   {
    "duration": 16,
    "start_time": "2024-05-22T05:16:03.149Z"
   },
   {
    "duration": 19,
    "start_time": "2024-05-22T05:16:04.733Z"
   },
   {
    "duration": 7,
    "start_time": "2024-05-22T05:16:34.265Z"
   },
   {
    "duration": 425,
    "start_time": "2024-05-22T05:17:12.233Z"
   },
   {
    "duration": 475,
    "start_time": "2024-05-22T05:17:41.773Z"
   },
   {
    "duration": 486,
    "start_time": "2024-05-22T05:17:59.793Z"
   },
   {
    "duration": 463,
    "start_time": "2024-05-22T05:18:09.983Z"
   },
   {
    "duration": 537,
    "start_time": "2024-05-22T05:18:22.322Z"
   },
   {
    "duration": 572,
    "start_time": "2024-05-22T05:18:35.681Z"
   },
   {
    "duration": 567,
    "start_time": "2024-05-22T05:18:50.937Z"
   },
   {
    "duration": 253,
    "start_time": "2024-05-22T05:19:08.915Z"
   },
   {
    "duration": 291,
    "start_time": "2024-05-22T05:19:10.918Z"
   },
   {
    "duration": 297,
    "start_time": "2024-05-22T05:19:18.137Z"
   },
   {
    "duration": 6,
    "start_time": "2024-05-22T05:19:29.866Z"
   },
   {
    "duration": 287,
    "start_time": "2024-05-22T05:19:45.971Z"
   },
   {
    "duration": 5,
    "start_time": "2024-05-22T05:19:54.346Z"
   },
   {
    "duration": 242,
    "start_time": "2024-05-22T05:24:19.810Z"
   },
   {
    "duration": 244,
    "start_time": "2024-05-22T05:24:21.082Z"
   },
   {
    "duration": 247,
    "start_time": "2024-05-22T05:24:23.351Z"
   },
   {
    "duration": 9,
    "start_time": "2024-05-22T05:30:25.434Z"
   },
   {
    "duration": 248,
    "start_time": "2024-05-22T05:30:32.586Z"
   },
   {
    "duration": 243,
    "start_time": "2024-05-22T05:30:34.995Z"
   },
   {
    "duration": 194,
    "start_time": "2024-05-22T05:31:16.501Z"
   },
   {
    "duration": 265,
    "start_time": "2024-05-22T05:31:20.529Z"
   },
   {
    "duration": 301,
    "start_time": "2024-05-22T05:31:51.502Z"
   },
   {
    "duration": 6,
    "start_time": "2024-05-22T05:33:43.493Z"
   },
   {
    "duration": 10,
    "start_time": "2024-05-22T05:33:55.522Z"
   },
   {
    "duration": 6,
    "start_time": "2024-05-22T05:34:06.459Z"
   },
   {
    "duration": 7,
    "start_time": "2024-05-22T05:41:02.113Z"
   },
   {
    "duration": 917,
    "start_time": "2024-05-22T05:45:50.164Z"
   },
   {
    "duration": 19,
    "start_time": "2024-05-22T05:45:57.490Z"
   },
   {
    "duration": 21,
    "start_time": "2024-05-22T05:46:21.482Z"
   },
   {
    "duration": 34,
    "start_time": "2024-05-22T05:46:35.802Z"
   },
   {
    "duration": 212,
    "start_time": "2024-05-22T05:51:49.532Z"
   },
   {
    "duration": 202,
    "start_time": "2024-05-22T05:51:53.896Z"
   },
   {
    "duration": 50,
    "start_time": "2024-05-22T05:53:10.802Z"
   },
   {
    "duration": 97,
    "start_time": "2024-05-22T05:53:22.333Z"
   },
   {
    "duration": 44,
    "start_time": "2024-05-22T05:54:08.232Z"
   },
   {
    "duration": 12,
    "start_time": "2024-05-22T05:55:20.356Z"
   },
   {
    "duration": 16,
    "start_time": "2024-05-22T05:57:30.086Z"
   },
   {
    "duration": 28,
    "start_time": "2024-05-22T05:59:13.753Z"
   },
   {
    "duration": 3464,
    "start_time": "2024-05-22T05:59:46.072Z"
   },
   {
    "duration": 9,
    "start_time": "2024-05-22T05:59:53.231Z"
   },
   {
    "duration": 8,
    "start_time": "2024-05-22T05:59:53.592Z"
   },
   {
    "duration": 13,
    "start_time": "2024-05-22T05:59:53.752Z"
   },
   {
    "duration": 6,
    "start_time": "2024-05-22T05:59:54.098Z"
   },
   {
    "duration": 14,
    "start_time": "2024-05-22T05:59:54.265Z"
   },
   {
    "duration": 12,
    "start_time": "2024-05-22T05:59:54.630Z"
   },
   {
    "duration": 12,
    "start_time": "2024-05-22T05:59:54.789Z"
   },
   {
    "duration": 11,
    "start_time": "2024-05-22T05:59:55.147Z"
   },
   {
    "duration": 9,
    "start_time": "2024-05-22T05:59:55.321Z"
   },
   {
    "duration": 5,
    "start_time": "2024-05-22T05:59:55.501Z"
   },
   {
    "duration": 13,
    "start_time": "2024-05-22T05:59:55.661Z"
   },
   {
    "duration": 15,
    "start_time": "2024-05-22T05:59:55.866Z"
   },
   {
    "duration": 7,
    "start_time": "2024-05-22T05:59:56.193Z"
   },
   {
    "duration": 5,
    "start_time": "2024-05-22T05:59:56.388Z"
   },
   {
    "duration": 10,
    "start_time": "2024-05-22T05:59:56.570Z"
   },
   {
    "duration": 27,
    "start_time": "2024-05-22T05:59:56.746Z"
   },
   {
    "duration": 21,
    "start_time": "2024-05-22T05:59:57.845Z"
   },
   {
    "duration": 18,
    "start_time": "2024-05-22T05:59:58.025Z"
   },
   {
    "duration": 16,
    "start_time": "2024-05-22T05:59:58.210Z"
   },
   {
    "duration": 10,
    "start_time": "2024-05-22T05:59:58.603Z"
   },
   {
    "duration": 14,
    "start_time": "2024-05-22T05:59:58.827Z"
   },
   {
    "duration": 23,
    "start_time": "2024-05-22T05:59:58.987Z"
   },
   {
    "duration": 10,
    "start_time": "2024-05-22T05:59:59.157Z"
   },
   {
    "duration": 8,
    "start_time": "2024-05-22T05:59:59.785Z"
   },
   {
    "duration": 8,
    "start_time": "2024-05-22T05:59:59.962Z"
   },
   {
    "duration": 8,
    "start_time": "2024-05-22T06:00:00.553Z"
   },
   {
    "duration": 6,
    "start_time": "2024-05-22T06:00:00.745Z"
   },
   {
    "duration": 21,
    "start_time": "2024-05-22T06:00:01.499Z"
   },
   {
    "duration": 16,
    "start_time": "2024-05-22T06:00:02.107Z"
   },
   {
    "duration": 17,
    "start_time": "2024-05-22T06:00:02.505Z"
   },
   {
    "duration": 7,
    "start_time": "2024-05-22T06:00:03.044Z"
   },
   {
    "duration": 439,
    "start_time": "2024-05-22T06:00:03.244Z"
   },
   {
    "duration": 492,
    "start_time": "2024-05-22T06:00:03.686Z"
   },
   {
    "duration": 439,
    "start_time": "2024-05-22T06:00:04.257Z"
   },
   {
    "duration": 559,
    "start_time": "2024-05-22T06:00:04.872Z"
   },
   {
    "duration": 631,
    "start_time": "2024-05-22T06:00:05.493Z"
   },
   {
    "duration": 563,
    "start_time": "2024-05-22T06:00:06.128Z"
   },
   {
    "duration": 221,
    "start_time": "2024-05-22T06:00:07.491Z"
   },
   {
    "duration": 255,
    "start_time": "2024-05-22T06:00:07.786Z"
   },
   {
    "duration": 296,
    "start_time": "2024-05-22T06:00:08.542Z"
   },
   {
    "duration": 7,
    "start_time": "2024-05-22T06:00:09.282Z"
   },
   {
    "duration": 235,
    "start_time": "2024-05-22T06:00:11.259Z"
   },
   {
    "duration": 6,
    "start_time": "2024-05-22T06:00:11.808Z"
   },
   {
    "duration": 18,
    "start_time": "2024-05-22T06:00:12.193Z"
   },
   {
    "duration": 19,
    "start_time": "2024-05-22T06:00:12.531Z"
   },
   {
    "duration": 214,
    "start_time": "2024-05-22T06:00:13.343Z"
   },
   {
    "duration": 15,
    "start_time": "2024-05-22T06:00:13.858Z"
   },
   {
    "duration": 27,
    "start_time": "2024-05-22T06:00:15.924Z"
   },
   {
    "duration": 36,
    "start_time": "2024-05-22T06:00:17.235Z"
   },
   {
    "duration": 31,
    "start_time": "2024-05-22T06:07:17.762Z"
   },
   {
    "duration": 34,
    "start_time": "2024-05-22T06:12:09.236Z"
   },
   {
    "duration": 16,
    "start_time": "2024-05-22T06:14:29.050Z"
   },
   {
    "duration": 13,
    "start_time": "2024-05-22T06:24:17.033Z"
   },
   {
    "duration": 98,
    "start_time": "2024-05-22T06:39:18.382Z"
   },
   {
    "duration": 91,
    "start_time": "2024-05-22T06:41:06.002Z"
   },
   {
    "duration": 94,
    "start_time": "2024-05-22T06:42:00.497Z"
   },
   {
    "duration": 90,
    "start_time": "2024-05-22T06:42:21.329Z"
   },
   {
    "duration": 94,
    "start_time": "2024-05-22T06:43:52.172Z"
   },
   {
    "duration": 91,
    "start_time": "2024-05-22T06:44:43.662Z"
   },
   {
    "duration": 92,
    "start_time": "2024-05-22T06:46:13.330Z"
   },
   {
    "duration": 6,
    "start_time": "2024-05-22T06:47:00.028Z"
   },
   {
    "duration": 5,
    "start_time": "2024-05-22T06:47:35.232Z"
   },
   {
    "duration": 12,
    "start_time": "2024-05-22T06:48:31.337Z"
   },
   {
    "duration": 14,
    "start_time": "2024-05-22T06:49:28.615Z"
   },
   {
    "duration": 12,
    "start_time": "2024-05-22T06:51:05.393Z"
   },
   {
    "duration": 11,
    "start_time": "2024-05-22T06:52:38.052Z"
   },
   {
    "duration": 32,
    "start_time": "2024-05-22T06:53:04.451Z"
   },
   {
    "duration": 111,
    "start_time": "2024-05-22T06:59:36.946Z"
   },
   {
    "duration": 98,
    "start_time": "2024-05-22T07:01:04.841Z"
   },
   {
    "duration": 19,
    "start_time": "2024-05-22T07:02:17.112Z"
   },
   {
    "duration": 17,
    "start_time": "2024-05-22T07:03:34.792Z"
   },
   {
    "duration": 9,
    "start_time": "2024-05-22T08:09:09.586Z"
   },
   {
    "duration": 4,
    "start_time": "2024-05-22T08:12:24.040Z"
   },
   {
    "duration": 9727,
    "start_time": "2024-05-23T07:28:12.927Z"
   },
   {
    "duration": 12,
    "start_time": "2024-05-23T07:28:22.659Z"
   },
   {
    "duration": 6,
    "start_time": "2024-05-23T07:28:22.674Z"
   },
   {
    "duration": 17,
    "start_time": "2024-05-23T07:28:22.683Z"
   },
   {
    "duration": 30,
    "start_time": "2024-05-23T07:28:22.705Z"
   },
   {
    "duration": 19,
    "start_time": "2024-05-23T07:28:22.739Z"
   },
   {
    "duration": 15,
    "start_time": "2024-05-23T07:28:22.761Z"
   },
   {
    "duration": 56,
    "start_time": "2024-05-23T07:28:22.780Z"
   },
   {
    "duration": 15,
    "start_time": "2024-05-23T07:28:22.839Z"
   },
   {
    "duration": 12,
    "start_time": "2024-05-23T07:28:22.858Z"
   },
   {
    "duration": 6,
    "start_time": "2024-05-23T07:28:22.873Z"
   },
   {
    "duration": 51,
    "start_time": "2024-05-23T07:28:22.882Z"
   },
   {
    "duration": 17,
    "start_time": "2024-05-23T07:28:22.936Z"
   },
   {
    "duration": 12,
    "start_time": "2024-05-23T07:28:22.962Z"
   },
   {
    "duration": 6,
    "start_time": "2024-05-23T07:28:22.976Z"
   },
   {
    "duration": 48,
    "start_time": "2024-05-23T07:28:22.985Z"
   },
   {
    "duration": 14,
    "start_time": "2024-05-23T07:28:23.036Z"
   },
   {
    "duration": 22,
    "start_time": "2024-05-23T07:28:23.054Z"
   },
   {
    "duration": 59,
    "start_time": "2024-05-23T07:28:23.079Z"
   },
   {
    "duration": 19,
    "start_time": "2024-05-23T07:28:23.141Z"
   },
   {
    "duration": 11,
    "start_time": "2024-05-23T07:28:23.167Z"
   },
   {
    "duration": 18,
    "start_time": "2024-05-23T07:28:23.181Z"
   },
   {
    "duration": 31,
    "start_time": "2024-05-23T07:28:23.234Z"
   },
   {
    "duration": 10,
    "start_time": "2024-05-23T07:28:23.269Z"
   },
   {
    "duration": 13,
    "start_time": "2024-05-23T07:28:23.282Z"
   },
   {
    "duration": 49,
    "start_time": "2024-05-23T07:28:23.297Z"
   },
   {
    "duration": 22,
    "start_time": "2024-05-23T07:28:23.349Z"
   },
   {
    "duration": 11,
    "start_time": "2024-05-23T07:28:23.382Z"
   },
   {
    "duration": 21,
    "start_time": "2024-05-23T07:28:23.397Z"
   },
   {
    "duration": 23,
    "start_time": "2024-05-23T07:28:23.421Z"
   },
   {
    "duration": 18,
    "start_time": "2024-05-23T07:28:23.447Z"
   },
   {
    "duration": 7,
    "start_time": "2024-05-23T07:28:23.469Z"
   },
   {
    "duration": 591,
    "start_time": "2024-05-23T07:28:23.483Z"
   },
   {
    "duration": 674,
    "start_time": "2024-05-23T07:28:24.078Z"
   },
   {
    "duration": 855,
    "start_time": "2024-05-23T07:28:24.755Z"
   },
   {
    "duration": 554,
    "start_time": "2024-05-23T07:28:25.617Z"
   },
   {
    "duration": 522,
    "start_time": "2024-05-23T07:28:26.178Z"
   },
   {
    "duration": 650,
    "start_time": "2024-05-23T07:28:26.703Z"
   },
   {
    "duration": 291,
    "start_time": "2024-05-23T07:28:27.356Z"
   },
   {
    "duration": 306,
    "start_time": "2024-05-23T07:28:27.651Z"
   },
   {
    "duration": 270,
    "start_time": "2024-05-23T07:28:27.968Z"
   },
   {
    "duration": 7,
    "start_time": "2024-05-23T07:28:28.241Z"
   },
   {
    "duration": 286,
    "start_time": "2024-05-23T07:28:28.252Z"
   },
   {
    "duration": 6,
    "start_time": "2024-05-23T07:28:28.543Z"
   },
   {
    "duration": 25,
    "start_time": "2024-05-23T07:28:28.553Z"
   },
   {
    "duration": 57,
    "start_time": "2024-05-23T07:28:28.581Z"
   },
   {
    "duration": 267,
    "start_time": "2024-05-23T07:28:28.642Z"
   },
   {
    "duration": 21,
    "start_time": "2024-05-23T07:28:28.912Z"
   },
   {
    "duration": 13,
    "start_time": "2024-05-23T07:28:28.937Z"
   },
   {
    "duration": 82,
    "start_time": "2024-05-23T07:28:28.954Z"
   },
   {
    "duration": 18,
    "start_time": "2024-05-23T07:28:29.039Z"
   },
   {
    "duration": 15,
    "start_time": "2024-05-23T07:28:29.063Z"
   },
   {
    "duration": 16,
    "start_time": "2024-05-23T07:28:29.082Z"
   },
   {
    "duration": 35,
    "start_time": "2024-05-23T07:28:29.134Z"
   },
   {
    "duration": 23,
    "start_time": "2024-05-23T07:28:29.173Z"
   },
   {
    "duration": 51,
    "start_time": "2024-05-23T07:28:29.200Z"
   },
   {
    "duration": 29,
    "start_time": "2024-05-23T07:28:29.255Z"
   },
   {
    "duration": 536,
    "start_time": "2024-05-23T07:28:29.288Z"
   },
   {
    "duration": 29,
    "start_time": "2024-05-23T07:28:29.835Z"
   },
   {
    "duration": 1453,
    "start_time": "2024-05-23T07:28:29.868Z"
   },
   {
    "duration": 0,
    "start_time": "2024-05-23T07:28:31.325Z"
   },
   {
    "duration": 0,
    "start_time": "2024-05-23T07:28:31.328Z"
   },
   {
    "duration": 0,
    "start_time": "2024-05-23T07:28:31.333Z"
   },
   {
    "duration": 0,
    "start_time": "2024-05-23T07:28:31.335Z"
   },
   {
    "duration": 3469,
    "start_time": "2024-05-23T07:41:36.322Z"
   },
   {
    "duration": 11,
    "start_time": "2024-05-23T07:41:39.796Z"
   },
   {
    "duration": 6,
    "start_time": "2024-05-23T07:41:39.810Z"
   },
   {
    "duration": 15,
    "start_time": "2024-05-23T07:41:39.821Z"
   },
   {
    "duration": 11,
    "start_time": "2024-05-23T07:41:39.839Z"
   },
   {
    "duration": 16,
    "start_time": "2024-05-23T07:41:39.855Z"
   },
   {
    "duration": 17,
    "start_time": "2024-05-23T07:41:39.874Z"
   },
   {
    "duration": 50,
    "start_time": "2024-05-23T07:41:39.895Z"
   },
   {
    "duration": 14,
    "start_time": "2024-05-23T07:41:39.948Z"
   },
   {
    "duration": 9,
    "start_time": "2024-05-23T07:41:39.967Z"
   },
   {
    "duration": 9,
    "start_time": "2024-05-23T07:41:39.979Z"
   },
   {
    "duration": 55,
    "start_time": "2024-05-23T07:41:39.991Z"
   },
   {
    "duration": 15,
    "start_time": "2024-05-23T07:41:40.048Z"
   },
   {
    "duration": 9,
    "start_time": "2024-05-23T07:41:40.066Z"
   },
   {
    "duration": 6,
    "start_time": "2024-05-23T07:41:40.079Z"
   },
   {
    "duration": 23,
    "start_time": "2024-05-23T07:41:40.116Z"
   },
   {
    "duration": 14,
    "start_time": "2024-05-23T07:41:40.287Z"
   },
   {
    "duration": 21,
    "start_time": "2024-05-23T07:41:41.732Z"
   },
   {
    "duration": 19,
    "start_time": "2024-05-23T07:41:41.757Z"
   },
   {
    "duration": 17,
    "start_time": "2024-05-23T07:41:41.806Z"
   },
   {
    "duration": 10,
    "start_time": "2024-05-23T07:41:42.206Z"
   },
   {
    "duration": 16,
    "start_time": "2024-05-23T07:41:42.394Z"
   },
   {
    "duration": 19,
    "start_time": "2024-05-23T07:41:42.648Z"
   },
   {
    "duration": 10,
    "start_time": "2024-05-23T07:41:42.904Z"
   },
   {
    "duration": 8,
    "start_time": "2024-05-23T07:41:43.404Z"
   },
   {
    "duration": 7,
    "start_time": "2024-05-23T07:41:43.593Z"
   },
   {
    "duration": 7,
    "start_time": "2024-05-23T07:41:44.230Z"
   },
   {
    "duration": 8,
    "start_time": "2024-05-23T07:41:44.563Z"
   },
   {
    "duration": 17,
    "start_time": "2024-05-23T07:41:45.167Z"
   },
   {
    "duration": 17,
    "start_time": "2024-05-23T07:41:45.838Z"
   },
   {
    "duration": 18,
    "start_time": "2024-05-23T07:41:46.202Z"
   },
   {
    "duration": 8,
    "start_time": "2024-05-23T07:41:47.317Z"
   },
   {
    "duration": 428,
    "start_time": "2024-05-23T07:41:47.328Z"
   },
   {
    "duration": 490,
    "start_time": "2024-05-23T07:41:47.760Z"
   },
   {
    "duration": 440,
    "start_time": "2024-05-23T07:41:48.254Z"
   },
   {
    "duration": 667,
    "start_time": "2024-05-23T07:41:48.698Z"
   },
   {
    "duration": 466,
    "start_time": "2024-05-23T07:41:49.369Z"
   },
   {
    "duration": 522,
    "start_time": "2024-05-23T07:41:49.839Z"
   },
   {
    "duration": 237,
    "start_time": "2024-05-23T07:41:50.400Z"
   },
   {
    "duration": 264,
    "start_time": "2024-05-23T07:41:50.640Z"
   },
   {
    "duration": 254,
    "start_time": "2024-05-23T07:41:50.965Z"
   },
   {
    "duration": 5,
    "start_time": "2024-05-23T07:41:51.567Z"
   },
   {
    "duration": 238,
    "start_time": "2024-05-23T07:41:52.520Z"
   },
   {
    "duration": 5,
    "start_time": "2024-05-23T07:41:53.462Z"
   },
   {
    "duration": 22,
    "start_time": "2024-05-23T07:41:53.471Z"
   },
   {
    "duration": 19,
    "start_time": "2024-05-23T07:41:53.930Z"
   },
   {
    "duration": 233,
    "start_time": "2024-05-23T07:41:54.260Z"
   },
   {
    "duration": 12,
    "start_time": "2024-05-23T07:41:54.697Z"
   },
   {
    "duration": 11,
    "start_time": "2024-05-23T07:41:54.995Z"
   },
   {
    "duration": 31,
    "start_time": "2024-05-23T07:41:55.646Z"
   },
   {
    "duration": 14,
    "start_time": "2024-05-23T07:41:56.177Z"
   },
   {
    "duration": 13,
    "start_time": "2024-05-23T07:41:56.794Z"
   },
   {
    "duration": 11,
    "start_time": "2024-05-23T07:41:57.243Z"
   },
   {
    "duration": 30,
    "start_time": "2024-05-23T07:41:57.856Z"
   },
   {
    "duration": 19,
    "start_time": "2024-05-23T07:41:58.724Z"
   },
   {
    "duration": 15,
    "start_time": "2024-05-23T07:41:59.234Z"
   },
   {
    "duration": 24,
    "start_time": "2024-05-23T07:41:59.445Z"
   },
   {
    "duration": 474,
    "start_time": "2024-05-23T07:41:59.612Z"
   },
   {
    "duration": 19,
    "start_time": "2024-05-23T07:42:00.286Z"
   },
   {
    "duration": 84,
    "start_time": "2024-05-23T07:42:00.665Z"
   },
   {
    "duration": 463,
    "start_time": "2024-05-23T07:42:01.310Z"
   },
   {
    "duration": 370,
    "start_time": "2024-05-23T07:42:01.777Z"
   },
   {
    "duration": 366,
    "start_time": "2024-05-23T07:42:02.151Z"
   },
   {
    "duration": 97,
    "start_time": "2024-05-23T07:42:02.520Z"
   },
   {
    "duration": 5317,
    "start_time": "2024-05-23T08:09:22.534Z"
   },
   {
    "duration": 11,
    "start_time": "2024-05-23T08:09:27.855Z"
   },
   {
    "duration": 7,
    "start_time": "2024-05-23T08:09:27.869Z"
   },
   {
    "duration": 51,
    "start_time": "2024-05-23T08:09:27.881Z"
   },
   {
    "duration": 6,
    "start_time": "2024-05-23T08:09:27.936Z"
   },
   {
    "duration": 16,
    "start_time": "2024-05-23T08:09:27.945Z"
   },
   {
    "duration": 16,
    "start_time": "2024-05-23T08:09:27.964Z"
   },
   {
    "duration": 51,
    "start_time": "2024-05-23T08:09:27.983Z"
   },
   {
    "duration": 15,
    "start_time": "2024-05-23T08:09:28.037Z"
   },
   {
    "duration": 11,
    "start_time": "2024-05-23T08:09:28.059Z"
   },
   {
    "duration": 7,
    "start_time": "2024-05-23T08:09:28.072Z"
   },
   {
    "duration": 53,
    "start_time": "2024-05-23T08:09:28.083Z"
   },
   {
    "duration": 20,
    "start_time": "2024-05-23T08:09:28.138Z"
   },
   {
    "duration": 8,
    "start_time": "2024-05-23T08:09:28.165Z"
   },
   {
    "duration": 7,
    "start_time": "2024-05-23T08:09:28.176Z"
   },
   {
    "duration": 59,
    "start_time": "2024-05-23T08:09:28.186Z"
   },
   {
    "duration": 15,
    "start_time": "2024-05-23T08:09:28.249Z"
   },
   {
    "duration": 6,
    "start_time": "2024-05-23T08:09:28.268Z"
   },
   {
    "duration": 7,
    "start_time": "2024-05-23T08:09:28.277Z"
   },
   {
    "duration": 10,
    "start_time": "2024-05-23T08:09:28.287Z"
   },
   {
    "duration": 9,
    "start_time": "2024-05-23T08:09:28.334Z"
   },
   {
    "duration": 28,
    "start_time": "2024-05-23T08:09:28.346Z"
   },
   {
    "duration": 75,
    "start_time": "2024-05-23T08:09:28.377Z"
   },
   {
    "duration": 21,
    "start_time": "2024-05-23T08:09:28.455Z"
   },
   {
    "duration": 54,
    "start_time": "2024-05-23T08:09:28.480Z"
   },
   {
    "duration": 23,
    "start_time": "2024-05-23T08:09:28.538Z"
   },
   {
    "duration": 73,
    "start_time": "2024-05-23T08:09:28.565Z"
   },
   {
    "duration": 10,
    "start_time": "2024-05-23T08:09:28.650Z"
   },
   {
    "duration": 16,
    "start_time": "2024-05-23T08:09:28.663Z"
   },
   {
    "duration": 66,
    "start_time": "2024-05-23T08:09:28.681Z"
   },
   {
    "duration": 17,
    "start_time": "2024-05-23T08:09:28.750Z"
   },
   {
    "duration": 8,
    "start_time": "2024-05-23T08:09:28.769Z"
   },
   {
    "duration": 459,
    "start_time": "2024-05-23T08:09:28.780Z"
   },
   {
    "duration": 486,
    "start_time": "2024-05-23T08:09:29.242Z"
   },
   {
    "duration": 508,
    "start_time": "2024-05-23T08:09:29.733Z"
   },
   {
    "duration": 507,
    "start_time": "2024-05-23T08:09:30.245Z"
   },
   {
    "duration": 499,
    "start_time": "2024-05-23T08:09:30.754Z"
   },
   {
    "duration": 681,
    "start_time": "2024-05-23T08:09:31.257Z"
   },
   {
    "duration": 240,
    "start_time": "2024-05-23T08:09:31.941Z"
   },
   {
    "duration": 336,
    "start_time": "2024-05-23T08:09:32.185Z"
   },
   {
    "duration": 290,
    "start_time": "2024-05-23T08:09:32.525Z"
   },
   {
    "duration": 19,
    "start_time": "2024-05-23T08:09:32.818Z"
   },
   {
    "duration": 265,
    "start_time": "2024-05-23T08:09:32.841Z"
   },
   {
    "duration": 5,
    "start_time": "2024-05-23T08:09:33.109Z"
   },
   {
    "duration": 17,
    "start_time": "2024-05-23T08:09:33.133Z"
   },
   {
    "duration": 19,
    "start_time": "2024-05-23T08:09:33.153Z"
   },
   {
    "duration": 274,
    "start_time": "2024-05-23T08:09:33.175Z"
   },
   {
    "duration": 10,
    "start_time": "2024-05-23T08:09:33.452Z"
   },
   {
    "duration": 14,
    "start_time": "2024-05-23T08:09:33.465Z"
   },
   {
    "duration": 60,
    "start_time": "2024-05-23T08:09:33.482Z"
   },
   {
    "duration": 15,
    "start_time": "2024-05-23T08:09:33.545Z"
   },
   {
    "duration": 13,
    "start_time": "2024-05-23T08:09:33.563Z"
   },
   {
    "duration": 12,
    "start_time": "2024-05-23T08:09:33.579Z"
   },
   {
    "duration": 31,
    "start_time": "2024-05-23T08:09:33.633Z"
   },
   {
    "duration": 19,
    "start_time": "2024-05-23T08:09:33.667Z"
   },
   {
    "duration": 46,
    "start_time": "2024-05-23T08:09:33.689Z"
   },
   {
    "duration": 25,
    "start_time": "2024-05-23T08:09:33.738Z"
   },
   {
    "duration": 497,
    "start_time": "2024-05-23T08:09:33.765Z"
   },
   {
    "duration": 20,
    "start_time": "2024-05-23T08:09:34.265Z"
   },
   {
    "duration": 1295,
    "start_time": "2024-05-23T08:09:34.287Z"
   },
   {
    "duration": 0,
    "start_time": "2024-05-23T08:09:35.585Z"
   },
   {
    "duration": 0,
    "start_time": "2024-05-23T08:09:35.586Z"
   },
   {
    "duration": 0,
    "start_time": "2024-05-23T08:09:35.589Z"
   },
   {
    "duration": 0,
    "start_time": "2024-05-23T08:09:35.590Z"
   },
   {
    "duration": 3396,
    "start_time": "2024-05-23T08:09:46.401Z"
   },
   {
    "duration": 10,
    "start_time": "2024-05-23T08:09:49.800Z"
   },
   {
    "duration": 6,
    "start_time": "2024-05-23T08:09:49.813Z"
   },
   {
    "duration": 14,
    "start_time": "2024-05-23T08:09:49.824Z"
   },
   {
    "duration": 5,
    "start_time": "2024-05-23T08:09:49.841Z"
   },
   {
    "duration": 13,
    "start_time": "2024-05-23T08:09:49.850Z"
   },
   {
    "duration": 13,
    "start_time": "2024-05-23T08:09:49.866Z"
   },
   {
    "duration": 59,
    "start_time": "2024-05-23T08:09:49.883Z"
   },
   {
    "duration": 11,
    "start_time": "2024-05-23T08:09:49.945Z"
   },
   {
    "duration": 8,
    "start_time": "2024-05-23T08:09:49.961Z"
   },
   {
    "duration": 5,
    "start_time": "2024-05-23T08:09:49.972Z"
   },
   {
    "duration": 53,
    "start_time": "2024-05-23T08:09:49.980Z"
   },
   {
    "duration": 14,
    "start_time": "2024-05-23T08:09:50.036Z"
   },
   {
    "duration": 6,
    "start_time": "2024-05-23T08:09:50.053Z"
   },
   {
    "duration": 5,
    "start_time": "2024-05-23T08:09:50.063Z"
   },
   {
    "duration": 10,
    "start_time": "2024-05-23T08:09:50.188Z"
   },
   {
    "duration": 15,
    "start_time": "2024-05-23T08:09:50.393Z"
   },
   {
    "duration": 7,
    "start_time": "2024-05-23T08:09:51.546Z"
   },
   {
    "duration": 6,
    "start_time": "2024-05-23T08:09:51.692Z"
   },
   {
    "duration": 9,
    "start_time": "2024-05-23T08:09:52.006Z"
   },
   {
    "duration": 7,
    "start_time": "2024-05-23T08:09:52.202Z"
   },
   {
    "duration": 19,
    "start_time": "2024-05-23T08:11:46.059Z"
   },
   {
    "duration": 16,
    "start_time": "2024-05-23T08:13:13.408Z"
   },
   {
    "duration": 17,
    "start_time": "2024-05-23T08:14:03.760Z"
   },
   {
    "duration": 19,
    "start_time": "2024-05-23T08:14:33.364Z"
   },
   {
    "duration": 18,
    "start_time": "2024-05-23T08:15:40.639Z"
   },
   {
    "duration": 19,
    "start_time": "2024-05-23T08:16:06.780Z"
   },
   {
    "duration": 22,
    "start_time": "2024-05-23T08:16:10.238Z"
   },
   {
    "duration": 831,
    "start_time": "2024-05-23T08:18:35.487Z"
   },
   {
    "duration": 3373,
    "start_time": "2024-05-23T08:19:02.836Z"
   },
   {
    "duration": 9,
    "start_time": "2024-05-23T08:19:06.213Z"
   },
   {
    "duration": 6,
    "start_time": "2024-05-23T08:19:06.224Z"
   },
   {
    "duration": 14,
    "start_time": "2024-05-23T08:19:06.236Z"
   },
   {
    "duration": 5,
    "start_time": "2024-05-23T08:19:06.253Z"
   },
   {
    "duration": 14,
    "start_time": "2024-05-23T08:19:06.261Z"
   },
   {
    "duration": 13,
    "start_time": "2024-05-23T08:19:06.277Z"
   },
   {
    "duration": 11,
    "start_time": "2024-05-23T08:19:06.334Z"
   },
   {
    "duration": 13,
    "start_time": "2024-05-23T08:19:06.348Z"
   },
   {
    "duration": 9,
    "start_time": "2024-05-23T08:19:06.366Z"
   },
   {
    "duration": 6,
    "start_time": "2024-05-23T08:19:06.377Z"
   },
   {
    "duration": 50,
    "start_time": "2024-05-23T08:19:06.385Z"
   },
   {
    "duration": 14,
    "start_time": "2024-05-23T08:19:06.439Z"
   },
   {
    "duration": 11,
    "start_time": "2024-05-23T08:19:06.698Z"
   },
   {
    "duration": 5,
    "start_time": "2024-05-23T08:19:06.883Z"
   },
   {
    "duration": 10,
    "start_time": "2024-05-23T08:19:07.084Z"
   },
   {
    "duration": 14,
    "start_time": "2024-05-23T08:19:07.257Z"
   },
   {
    "duration": 7,
    "start_time": "2024-05-23T08:19:08.727Z"
   },
   {
    "duration": 7,
    "start_time": "2024-05-23T08:19:08.952Z"
   },
   {
    "duration": 8,
    "start_time": "2024-05-23T08:19:09.414Z"
   },
   {
    "duration": 7,
    "start_time": "2024-05-23T08:19:09.628Z"
   },
   {
    "duration": 20,
    "start_time": "2024-05-23T08:19:10.192Z"
   },
   {
    "duration": 19,
    "start_time": "2024-05-23T08:19:10.398Z"
   },
   {
    "duration": 16,
    "start_time": "2024-05-23T08:19:10.579Z"
   },
   {
    "duration": 9,
    "start_time": "2024-05-23T08:19:11.000Z"
   },
   {
    "duration": 14,
    "start_time": "2024-05-23T08:19:11.250Z"
   },
   {
    "duration": 20,
    "start_time": "2024-05-23T08:19:11.447Z"
   },
   {
    "duration": 13,
    "start_time": "2024-05-23T08:19:11.526Z"
   },
   {
    "duration": 16,
    "start_time": "2024-05-23T08:19:13.781Z"
   },
   {
    "duration": 22,
    "start_time": "2024-05-23T08:19:14.832Z"
   },
   {
    "duration": 17,
    "start_time": "2024-05-23T08:19:15.387Z"
   },
   {
    "duration": 400,
    "start_time": "2024-05-23T08:19:16.484Z"
   },
   {
    "duration": 530,
    "start_time": "2024-05-23T08:20:25.002Z"
   },
   {
    "duration": 461,
    "start_time": "2024-05-23T08:23:48.717Z"
   },
   {
    "duration": 687,
    "start_time": "2024-05-23T08:28:46.646Z"
   },
   {
    "duration": 10,
    "start_time": "2024-05-23T08:29:48.239Z"
   },
   {
    "duration": 25,
    "start_time": "2024-05-23T08:30:35.579Z"
   },
   {
    "duration": 669,
    "start_time": "2024-05-23T08:31:10.252Z"
   },
   {
    "duration": 559,
    "start_time": "2024-05-23T08:31:21.374Z"
   },
   {
    "duration": 556,
    "start_time": "2024-05-23T08:31:32.188Z"
   },
   {
    "duration": 871,
    "start_time": "2024-05-23T08:36:29.154Z"
   },
   {
    "duration": 607,
    "start_time": "2024-05-23T08:36:37.884Z"
   },
   {
    "duration": 645,
    "start_time": "2024-05-23T08:36:56.648Z"
   },
   {
    "duration": 624,
    "start_time": "2024-05-23T08:37:20.877Z"
   },
   {
    "duration": 233,
    "start_time": "2024-05-23T08:39:09.848Z"
   },
   {
    "duration": 7,
    "start_time": "2024-05-23T08:39:31.251Z"
   },
   {
    "duration": 233,
    "start_time": "2024-05-23T08:40:54.717Z"
   },
   {
    "duration": 6,
    "start_time": "2024-05-23T08:41:39.521Z"
   },
   {
    "duration": 19,
    "start_time": "2024-05-23T08:42:20.078Z"
   },
   {
    "duration": 10,
    "start_time": "2024-05-23T08:45:33.057Z"
   },
   {
    "duration": 10,
    "start_time": "2024-05-23T08:46:29.472Z"
   },
   {
    "duration": 10,
    "start_time": "2024-05-23T08:46:56.275Z"
   },
   {
    "duration": 6,
    "start_time": "2024-05-23T08:47:03.854Z"
   },
   {
    "duration": 8,
    "start_time": "2024-05-23T08:49:09.919Z"
   },
   {
    "duration": 19,
    "start_time": "2024-05-23T08:49:15.993Z"
   },
   {
    "duration": 18,
    "start_time": "2024-05-23T08:49:17.485Z"
   },
   {
    "duration": 150,
    "start_time": "2024-05-23T08:50:07.607Z"
   },
   {
    "duration": 5,
    "start_time": "2024-05-23T08:50:21.872Z"
   },
   {
    "duration": 25,
    "start_time": "2024-05-23T08:50:22.582Z"
   },
   {
    "duration": 10,
    "start_time": "2024-05-23T08:51:06.441Z"
   },
   {
    "duration": 12,
    "start_time": "2024-05-23T08:51:19.665Z"
   },
   {
    "duration": 12,
    "start_time": "2024-05-23T08:54:29.004Z"
   },
   {
    "duration": 12,
    "start_time": "2024-05-23T08:54:33.803Z"
   },
   {
    "duration": 34,
    "start_time": "2024-05-23T08:55:12.102Z"
   },
   {
    "duration": 33,
    "start_time": "2024-05-23T08:55:24.817Z"
   },
   {
    "duration": 11,
    "start_time": "2024-05-23T08:58:09.615Z"
   },
   {
    "duration": 12,
    "start_time": "2024-05-23T08:58:26.551Z"
   },
   {
    "duration": 5,
    "start_time": "2024-05-23T08:59:43.225Z"
   },
   {
    "duration": 22,
    "start_time": "2024-05-23T09:00:59.673Z"
   },
   {
    "duration": 21,
    "start_time": "2024-05-23T09:01:17.255Z"
   },
   {
    "duration": 67,
    "start_time": "2024-05-23T09:04:47.407Z"
   },
   {
    "duration": 12,
    "start_time": "2024-05-23T09:04:56.904Z"
   },
   {
    "duration": 12,
    "start_time": "2024-05-23T09:05:14.993Z"
   },
   {
    "duration": 16,
    "start_time": "2024-05-23T09:05:27.495Z"
   },
   {
    "duration": 30,
    "start_time": "2024-05-23T09:05:36.586Z"
   },
   {
    "duration": 18,
    "start_time": "2024-05-23T09:09:57.771Z"
   },
   {
    "duration": 8663,
    "start_time": "2024-05-23T15:40:36.809Z"
   },
   {
    "duration": 14,
    "start_time": "2024-05-23T15:40:45.476Z"
   },
   {
    "duration": 6,
    "start_time": "2024-05-23T15:40:45.493Z"
   },
   {
    "duration": 33,
    "start_time": "2024-05-23T15:40:45.502Z"
   },
   {
    "duration": 5,
    "start_time": "2024-05-23T15:40:45.540Z"
   },
   {
    "duration": 14,
    "start_time": "2024-05-23T15:40:45.548Z"
   },
   {
    "duration": 20,
    "start_time": "2024-05-23T15:40:45.565Z"
   },
   {
    "duration": 53,
    "start_time": "2024-05-23T15:40:45.589Z"
   },
   {
    "duration": 11,
    "start_time": "2024-05-23T15:40:45.645Z"
   },
   {
    "duration": 15,
    "start_time": "2024-05-23T15:40:45.659Z"
   },
   {
    "duration": 6,
    "start_time": "2024-05-23T15:40:45.677Z"
   },
   {
    "duration": 48,
    "start_time": "2024-05-23T15:40:45.686Z"
   },
   {
    "duration": 14,
    "start_time": "2024-05-23T15:40:45.736Z"
   },
   {
    "duration": 10,
    "start_time": "2024-05-23T15:40:45.757Z"
   },
   {
    "duration": 5,
    "start_time": "2024-05-23T15:40:45.770Z"
   },
   {
    "duration": 11,
    "start_time": "2024-05-23T15:40:45.778Z"
   },
   {
    "duration": 54,
    "start_time": "2024-05-23T15:40:45.792Z"
   },
   {
    "duration": 8,
    "start_time": "2024-05-23T15:40:45.850Z"
   },
   {
    "duration": 13,
    "start_time": "2024-05-23T15:40:45.862Z"
   },
   {
    "duration": 10,
    "start_time": "2024-05-23T15:40:45.877Z"
   },
   {
    "duration": 47,
    "start_time": "2024-05-23T15:40:45.889Z"
   },
   {
    "duration": 27,
    "start_time": "2024-05-23T15:40:45.939Z"
   },
   {
    "duration": 24,
    "start_time": "2024-05-23T15:40:45.970Z"
   },
   {
    "duration": 54,
    "start_time": "2024-05-23T15:40:45.997Z"
   },
   {
    "duration": 9,
    "start_time": "2024-05-23T15:40:46.055Z"
   },
   {
    "duration": 15,
    "start_time": "2024-05-23T15:40:46.066Z"
   },
   {
    "duration": 61,
    "start_time": "2024-05-23T15:40:46.084Z"
   },
   {
    "duration": 10,
    "start_time": "2024-05-23T15:40:46.148Z"
   },
   {
    "duration": 17,
    "start_time": "2024-05-23T15:40:46.161Z"
   },
   {
    "duration": 53,
    "start_time": "2024-05-23T15:40:46.181Z"
   },
   {
    "duration": 18,
    "start_time": "2024-05-23T15:40:46.238Z"
   },
   {
    "duration": 443,
    "start_time": "2024-05-23T15:40:46.258Z"
   },
   {
    "duration": 498,
    "start_time": "2024-05-23T15:40:46.705Z"
   },
   {
    "duration": 448,
    "start_time": "2024-05-23T15:40:47.206Z"
   },
   {
    "duration": 515,
    "start_time": "2024-05-23T15:40:47.658Z"
   },
   {
    "duration": 744,
    "start_time": "2024-05-23T15:40:48.179Z"
   },
   {
    "duration": 601,
    "start_time": "2024-05-23T15:40:48.925Z"
   },
   {
    "duration": 758,
    "start_time": "2024-05-23T15:40:49.534Z"
   },
   {
    "duration": 221,
    "start_time": "2024-05-23T15:40:50.295Z"
   },
   {
    "duration": 269,
    "start_time": "2024-05-23T15:40:50.519Z"
   },
   {
    "duration": 256,
    "start_time": "2024-05-23T15:40:50.797Z"
   },
   {
    "duration": 6,
    "start_time": "2024-05-23T15:40:51.056Z"
   },
   {
    "duration": 269,
    "start_time": "2024-05-23T15:40:51.065Z"
   },
   {
    "duration": 5,
    "start_time": "2024-05-23T15:40:51.337Z"
   },
   {
    "duration": 12,
    "start_time": "2024-05-23T15:40:51.346Z"
   },
   {
    "duration": 297,
    "start_time": "2024-05-23T15:40:51.360Z"
   },
   {
    "duration": 18,
    "start_time": "2024-05-23T15:40:51.660Z"
   },
   {
    "duration": 11,
    "start_time": "2024-05-23T15:40:51.683Z"
   },
   {
    "duration": 70,
    "start_time": "2024-05-23T15:40:51.697Z"
   },
   {
    "duration": 19,
    "start_time": "2024-05-23T15:40:51.770Z"
   },
   {
    "duration": 14,
    "start_time": "2024-05-23T15:40:51.792Z"
   },
   {
    "duration": 16,
    "start_time": "2024-05-23T15:40:51.836Z"
   },
   {
    "duration": 39,
    "start_time": "2024-05-23T15:40:51.855Z"
   },
   {
    "duration": 53,
    "start_time": "2024-05-23T15:40:51.897Z"
   },
   {
    "duration": 483,
    "start_time": "2024-05-23T15:43:27.880Z"
   },
   {
    "duration": 451,
    "start_time": "2024-05-23T15:45:16.324Z"
   },
   {
    "duration": 10075,
    "start_time": "2024-05-24T14:53:57.071Z"
   },
   {
    "duration": 24,
    "start_time": "2024-05-24T14:54:07.153Z"
   },
   {
    "duration": 7,
    "start_time": "2024-05-24T14:54:07.180Z"
   },
   {
    "duration": 20,
    "start_time": "2024-05-24T14:54:07.191Z"
   },
   {
    "duration": 20,
    "start_time": "2024-05-24T14:54:07.216Z"
   },
   {
    "duration": 17,
    "start_time": "2024-05-24T14:54:07.239Z"
   },
   {
    "duration": 14,
    "start_time": "2024-05-24T14:54:07.259Z"
   },
   {
    "duration": 55,
    "start_time": "2024-05-24T14:54:07.278Z"
   },
   {
    "duration": 12,
    "start_time": "2024-05-24T14:54:07.336Z"
   },
   {
    "duration": 15,
    "start_time": "2024-05-24T14:54:07.351Z"
   },
   {
    "duration": 5,
    "start_time": "2024-05-24T14:54:07.369Z"
   },
   {
    "duration": 23,
    "start_time": "2024-05-24T14:54:07.377Z"
   },
   {
    "duration": 19,
    "start_time": "2024-05-24T14:54:07.435Z"
   },
   {
    "duration": 12,
    "start_time": "2024-05-24T14:54:07.463Z"
   },
   {
    "duration": 8,
    "start_time": "2024-05-24T14:54:07.479Z"
   },
   {
    "duration": 45,
    "start_time": "2024-05-24T14:54:07.490Z"
   },
   {
    "duration": 16,
    "start_time": "2024-05-24T14:54:07.538Z"
   },
   {
    "duration": 9,
    "start_time": "2024-05-24T14:54:07.558Z"
   },
   {
    "duration": 6,
    "start_time": "2024-05-24T14:54:07.570Z"
   },
   {
    "duration": 54,
    "start_time": "2024-05-24T14:54:07.579Z"
   },
   {
    "duration": 8,
    "start_time": "2024-05-24T14:54:07.635Z"
   },
   {
    "duration": 30,
    "start_time": "2024-05-24T14:54:07.646Z"
   },
   {
    "duration": 19,
    "start_time": "2024-05-24T14:54:07.679Z"
   },
   {
    "duration": 19,
    "start_time": "2024-05-24T14:54:07.733Z"
   },
   {
    "duration": 11,
    "start_time": "2024-05-24T14:54:07.757Z"
   },
   {
    "duration": 16,
    "start_time": "2024-05-24T14:54:07.772Z"
   },
   {
    "duration": 63,
    "start_time": "2024-05-24T14:54:07.791Z"
   },
   {
    "duration": 11,
    "start_time": "2024-05-24T14:54:07.857Z"
   },
   {
    "duration": 21,
    "start_time": "2024-05-24T14:54:07.873Z"
   },
   {
    "duration": 49,
    "start_time": "2024-05-24T14:54:07.897Z"
   },
   {
    "duration": 18,
    "start_time": "2024-05-24T14:54:07.949Z"
   },
   {
    "duration": 482,
    "start_time": "2024-05-24T14:54:07.970Z"
   },
   {
    "duration": 549,
    "start_time": "2024-05-24T14:54:08.456Z"
   },
   {
    "duration": 481,
    "start_time": "2024-05-24T14:54:09.008Z"
   },
   {
    "duration": 598,
    "start_time": "2024-05-24T14:54:09.492Z"
   },
   {
    "duration": 746,
    "start_time": "2024-05-24T14:54:10.095Z"
   },
   {
    "duration": 580,
    "start_time": "2024-05-24T14:54:10.845Z"
   },
   {
    "duration": 756,
    "start_time": "2024-05-24T14:54:11.432Z"
   },
   {
    "duration": 227,
    "start_time": "2024-05-24T14:54:12.191Z"
   },
   {
    "duration": 260,
    "start_time": "2024-05-24T14:54:12.421Z"
   },
   {
    "duration": 273,
    "start_time": "2024-05-24T14:54:12.690Z"
   },
   {
    "duration": 7,
    "start_time": "2024-05-24T14:54:12.966Z"
   },
   {
    "duration": 272,
    "start_time": "2024-05-24T14:54:12.976Z"
   },
   {
    "duration": 6,
    "start_time": "2024-05-24T14:54:13.252Z"
   },
   {
    "duration": 13,
    "start_time": "2024-05-24T14:54:13.261Z"
   },
   {
    "duration": 231,
    "start_time": "2024-05-24T14:54:13.278Z"
   },
   {
    "duration": 25,
    "start_time": "2024-05-24T14:54:13.511Z"
   },
   {
    "duration": 11,
    "start_time": "2024-05-24T14:54:13.539Z"
   },
   {
    "duration": 32,
    "start_time": "2024-05-24T14:54:13.553Z"
   },
   {
    "duration": 52,
    "start_time": "2024-05-24T14:54:13.588Z"
   },
   {
    "duration": 12,
    "start_time": "2024-05-24T14:54:13.643Z"
   },
   {
    "duration": 12,
    "start_time": "2024-05-24T14:54:13.658Z"
   },
   {
    "duration": 62,
    "start_time": "2024-05-24T14:54:13.673Z"
   },
   {
    "duration": 18,
    "start_time": "2024-05-24T14:54:13.738Z"
   },
   {
    "duration": 15,
    "start_time": "2024-05-24T14:57:52.731Z"
   },
   {
    "duration": 17,
    "start_time": "2024-05-24T14:58:37.562Z"
   },
   {
    "duration": 15,
    "start_time": "2024-05-24T14:58:43.219Z"
   },
   {
    "duration": 17,
    "start_time": "2024-05-24T14:58:50.022Z"
   },
   {
    "duration": 25,
    "start_time": "2024-05-24T14:59:24.802Z"
   },
   {
    "duration": 80,
    "start_time": "2024-05-24T15:01:26.983Z"
   },
   {
    "duration": 16,
    "start_time": "2024-05-24T15:02:11.721Z"
   },
   {
    "duration": 19,
    "start_time": "2024-05-24T15:02:32.993Z"
   },
   {
    "duration": 17,
    "start_time": "2024-05-24T15:03:48.473Z"
   },
   {
    "duration": 7,
    "start_time": "2024-05-24T15:03:58.080Z"
   },
   {
    "duration": 6,
    "start_time": "2024-05-24T15:04:01.363Z"
   },
   {
    "duration": 7,
    "start_time": "2024-05-24T15:04:06.001Z"
   },
   {
    "duration": 4782,
    "start_time": "2024-05-24T15:04:18.160Z"
   },
   {
    "duration": 9,
    "start_time": "2024-05-24T15:04:22.945Z"
   },
   {
    "duration": 6,
    "start_time": "2024-05-24T15:04:22.957Z"
   },
   {
    "duration": 19,
    "start_time": "2024-05-24T15:04:22.968Z"
   },
   {
    "duration": 5,
    "start_time": "2024-05-24T15:04:22.990Z"
   },
   {
    "duration": 13,
    "start_time": "2024-05-24T15:04:23.033Z"
   },
   {
    "duration": 12,
    "start_time": "2024-05-24T15:04:23.050Z"
   },
   {
    "duration": 12,
    "start_time": "2024-05-24T15:04:23.066Z"
   },
   {
    "duration": 56,
    "start_time": "2024-05-24T15:04:23.081Z"
   },
   {
    "duration": 9,
    "start_time": "2024-05-24T15:04:23.144Z"
   },
   {
    "duration": 7,
    "start_time": "2024-05-24T15:04:23.156Z"
   },
   {
    "duration": 14,
    "start_time": "2024-05-24T15:04:23.166Z"
   },
   {
    "duration": 53,
    "start_time": "2024-05-24T15:04:23.183Z"
   },
   {
    "duration": 10,
    "start_time": "2024-05-24T15:04:23.238Z"
   },
   {
    "duration": 5,
    "start_time": "2024-05-24T15:04:23.251Z"
   },
   {
    "duration": 11,
    "start_time": "2024-05-24T15:04:23.259Z"
   },
   {
    "duration": 13,
    "start_time": "2024-05-24T15:04:23.273Z"
   },
   {
    "duration": 47,
    "start_time": "2024-05-24T15:04:23.289Z"
   },
   {
    "duration": 6,
    "start_time": "2024-05-24T15:04:23.341Z"
   },
   {
    "duration": 13,
    "start_time": "2024-05-24T15:04:23.350Z"
   },
   {
    "duration": 8,
    "start_time": "2024-05-24T15:04:23.366Z"
   },
   {
    "duration": 68,
    "start_time": "2024-05-24T15:04:23.377Z"
   },
   {
    "duration": 23,
    "start_time": "2024-05-24T15:04:23.448Z"
   },
   {
    "duration": 18,
    "start_time": "2024-05-24T15:04:23.473Z"
   },
   {
    "duration": 45,
    "start_time": "2024-05-24T15:04:23.494Z"
   },
   {
    "duration": 14,
    "start_time": "2024-05-24T15:04:23.543Z"
   },
   {
    "duration": 20,
    "start_time": "2024-05-24T15:04:23.560Z"
   },
   {
    "duration": 49,
    "start_time": "2024-05-24T15:04:23.588Z"
   },
   {
    "duration": 18,
    "start_time": "2024-05-24T15:04:23.639Z"
   },
   {
    "duration": 16,
    "start_time": "2024-05-24T15:04:23.660Z"
   },
   {
    "duration": 7,
    "start_time": "2024-05-24T15:04:23.680Z"
   },
   {
    "duration": 491,
    "start_time": "2024-05-24T15:04:23.690Z"
   },
   {
    "duration": 493,
    "start_time": "2024-05-24T15:04:24.184Z"
   },
   {
    "duration": 611,
    "start_time": "2024-05-24T15:04:24.680Z"
   },
   {
    "duration": 634,
    "start_time": "2024-05-24T15:04:25.296Z"
   },
   {
    "duration": 743,
    "start_time": "2024-05-24T15:04:25.934Z"
   },
   {
    "duration": 678,
    "start_time": "2024-05-24T15:04:26.680Z"
   },
   {
    "duration": 727,
    "start_time": "2024-05-24T15:04:27.361Z"
   },
   {
    "duration": 298,
    "start_time": "2024-05-24T15:04:28.092Z"
   },
   {
    "duration": 319,
    "start_time": "2024-05-24T15:04:28.393Z"
   },
   {
    "duration": 298,
    "start_time": "2024-05-24T15:04:28.717Z"
   },
   {
    "duration": 16,
    "start_time": "2024-05-24T15:04:29.018Z"
   },
   {
    "duration": 271,
    "start_time": "2024-05-24T15:04:29.038Z"
   },
   {
    "duration": 20,
    "start_time": "2024-05-24T15:04:29.313Z"
   },
   {
    "duration": 15,
    "start_time": "2024-05-24T15:04:29.338Z"
   },
   {
    "duration": 301,
    "start_time": "2024-05-24T15:04:29.357Z"
   },
   {
    "duration": 12,
    "start_time": "2024-05-24T15:04:29.661Z"
   },
   {
    "duration": 13,
    "start_time": "2024-05-24T15:04:29.675Z"
   },
   {
    "duration": 60,
    "start_time": "2024-05-24T15:04:29.691Z"
   },
   {
    "duration": 16,
    "start_time": "2024-05-24T15:04:29.755Z"
   },
   {
    "duration": 13,
    "start_time": "2024-05-24T15:04:29.773Z"
   },
   {
    "duration": 49,
    "start_time": "2024-05-24T15:04:29.790Z"
   },
   {
    "duration": 30,
    "start_time": "2024-05-24T15:04:29.845Z"
   },
   {
    "duration": 18,
    "start_time": "2024-05-24T15:04:29.878Z"
   },
   {
    "duration": 3629,
    "start_time": "2024-05-24T15:04:29.932Z"
   },
   {
    "duration": 9,
    "start_time": "2024-05-24T15:04:33.565Z"
   },
   {
    "duration": 5,
    "start_time": "2024-05-24T15:04:33.577Z"
   },
   {
    "duration": 14,
    "start_time": "2024-05-24T15:04:33.585Z"
   },
   {
    "duration": 5,
    "start_time": "2024-05-24T15:04:33.603Z"
   },
   {
    "duration": 29,
    "start_time": "2024-05-24T15:04:33.611Z"
   },
   {
    "duration": 13,
    "start_time": "2024-05-24T15:04:33.643Z"
   },
   {
    "duration": 12,
    "start_time": "2024-05-24T15:04:33.659Z"
   },
   {
    "duration": 11,
    "start_time": "2024-05-24T15:04:33.675Z"
   },
   {
    "duration": 9,
    "start_time": "2024-05-24T15:04:33.732Z"
   },
   {
    "duration": 5,
    "start_time": "2024-05-24T15:04:33.744Z"
   },
   {
    "duration": 12,
    "start_time": "2024-05-24T15:04:33.753Z"
   },
   {
    "duration": 15,
    "start_time": "2024-05-24T15:04:33.772Z"
   },
   {
    "duration": 8,
    "start_time": "2024-05-24T15:04:42.974Z"
   },
   {
    "duration": 7,
    "start_time": "2024-05-24T15:04:44.619Z"
   },
   {
    "duration": 10,
    "start_time": "2024-05-24T15:04:45.055Z"
   },
   {
    "duration": 13,
    "start_time": "2024-05-24T15:04:45.308Z"
   },
   {
    "duration": 7,
    "start_time": "2024-05-24T15:05:03.815Z"
   },
   {
    "duration": 7,
    "start_time": "2024-05-24T15:05:04.103Z"
   },
   {
    "duration": 8,
    "start_time": "2024-05-24T15:05:04.590Z"
   },
   {
    "duration": 7,
    "start_time": "2024-05-24T15:05:04.754Z"
   },
   {
    "duration": 23,
    "start_time": "2024-05-24T15:05:05.386Z"
   },
   {
    "duration": 18,
    "start_time": "2024-05-24T15:05:06.380Z"
   },
   {
    "duration": 18,
    "start_time": "2024-05-24T15:05:06.881Z"
   },
   {
    "duration": 11,
    "start_time": "2024-05-24T15:05:07.746Z"
   },
   {
    "duration": 13,
    "start_time": "2024-05-24T15:05:08.061Z"
   },
   {
    "duration": 20,
    "start_time": "2024-05-24T15:05:08.417Z"
   },
   {
    "duration": 10,
    "start_time": "2024-05-24T15:05:08.691Z"
   },
   {
    "duration": 22,
    "start_time": "2024-05-24T15:05:11.290Z"
   },
   {
    "duration": 18,
    "start_time": "2024-05-24T15:05:14.214Z"
   },
   {
    "duration": 8,
    "start_time": "2024-05-24T15:05:15.377Z"
   },
   {
    "duration": 6,
    "start_time": "2024-05-24T15:05:18.536Z"
   },
   {
    "duration": 25,
    "start_time": "2024-05-24T15:05:24.797Z"
   },
   {
    "duration": 17,
    "start_time": "2024-05-24T15:05:30.206Z"
   },
   {
    "duration": 16,
    "start_time": "2024-05-24T15:05:37.314Z"
   },
   {
    "duration": 3482,
    "start_time": "2024-05-24T15:09:20.108Z"
   },
   {
    "duration": 9,
    "start_time": "2024-05-24T15:09:23.594Z"
   },
   {
    "duration": 7,
    "start_time": "2024-05-24T15:09:23.605Z"
   },
   {
    "duration": 14,
    "start_time": "2024-05-24T15:09:23.617Z"
   },
   {
    "duration": 8,
    "start_time": "2024-05-24T15:09:23.636Z"
   },
   {
    "duration": 13,
    "start_time": "2024-05-24T15:09:23.646Z"
   },
   {
    "duration": 15,
    "start_time": "2024-05-24T15:09:23.662Z"
   },
   {
    "duration": 12,
    "start_time": "2024-05-24T15:09:23.723Z"
   },
   {
    "duration": 13,
    "start_time": "2024-05-24T15:09:24.072Z"
   },
   {
    "duration": 9,
    "start_time": "2024-05-24T15:09:24.202Z"
   },
   {
    "duration": 5,
    "start_time": "2024-05-24T15:09:24.377Z"
   },
   {
    "duration": 13,
    "start_time": "2024-05-24T15:09:24.538Z"
   },
   {
    "duration": 14,
    "start_time": "2024-05-24T15:09:24.695Z"
   },
   {
    "duration": 9,
    "start_time": "2024-05-24T15:09:25.028Z"
   },
   {
    "duration": 7,
    "start_time": "2024-05-24T15:09:25.202Z"
   },
   {
    "duration": 11,
    "start_time": "2024-05-24T15:09:25.362Z"
   },
   {
    "duration": 13,
    "start_time": "2024-05-24T15:09:25.524Z"
   },
   {
    "duration": 7,
    "start_time": "2024-05-24T15:09:26.588Z"
   },
   {
    "duration": 8,
    "start_time": "2024-05-24T15:09:26.754Z"
   },
   {
    "duration": 10,
    "start_time": "2024-05-24T15:09:27.103Z"
   },
   {
    "duration": 11,
    "start_time": "2024-05-24T15:09:27.285Z"
   },
   {
    "duration": 22,
    "start_time": "2024-05-24T15:09:27.856Z"
   },
   {
    "duration": 22,
    "start_time": "2024-05-24T15:09:28.036Z"
   },
   {
    "duration": 20,
    "start_time": "2024-05-24T15:09:28.205Z"
   },
   {
    "duration": 11,
    "start_time": "2024-05-24T15:09:28.609Z"
   },
   {
    "duration": 17,
    "start_time": "2024-05-24T15:09:28.801Z"
   },
   {
    "duration": 20,
    "start_time": "2024-05-24T15:09:28.983Z"
   },
   {
    "duration": 9,
    "start_time": "2024-05-24T15:09:29.177Z"
   },
   {
    "duration": 16,
    "start_time": "2024-05-24T15:09:30.432Z"
   },
   {
    "duration": 16,
    "start_time": "2024-05-24T15:09:32.243Z"
   },
   {
    "duration": 18,
    "start_time": "2024-05-24T15:09:33.204Z"
   },
   {
    "duration": 6968,
    "start_time": "2024-05-24T15:10:47.313Z"
   },
   {
    "duration": 11893,
    "start_time": "2024-05-24T15:11:56.005Z"
   },
   {
    "duration": 3707,
    "start_time": "2024-05-24T15:12:13.226Z"
   },
   {
    "duration": 6866,
    "start_time": "2024-05-24T15:13:11.023Z"
   },
   {
    "duration": 18,
    "start_time": "2024-05-24T15:19:43.245Z"
   },
   {
    "duration": 17,
    "start_time": "2024-05-24T15:19:43.695Z"
   },
   {
    "duration": 6922,
    "start_time": "2024-05-24T15:19:44.081Z"
   },
   {
    "duration": 746,
    "start_time": "2024-05-24T15:25:08.258Z"
   },
   {
    "duration": 801,
    "start_time": "2024-05-24T15:25:27.375Z"
   },
   {
    "duration": 629,
    "start_time": "2024-05-24T15:25:43.940Z"
   },
   {
    "duration": 617,
    "start_time": "2024-05-24T15:25:55.401Z"
   },
   {
    "duration": 671,
    "start_time": "2024-05-24T15:27:22.252Z"
   },
   {
    "duration": 574,
    "start_time": "2024-05-24T15:27:28.953Z"
   },
   {
    "duration": 685,
    "start_time": "2024-05-24T15:28:56.026Z"
   },
   {
    "duration": 1004,
    "start_time": "2024-05-24T15:29:08.744Z"
   },
   {
    "duration": 728,
    "start_time": "2024-05-24T15:29:18.905Z"
   },
   {
    "duration": 586,
    "start_time": "2024-05-24T15:29:27.615Z"
   },
   {
    "duration": 665,
    "start_time": "2024-05-24T15:29:34.046Z"
   },
   {
    "duration": 611,
    "start_time": "2024-05-24T15:29:47.168Z"
   },
   {
    "duration": 594,
    "start_time": "2024-05-24T15:30:03.398Z"
   },
   {
    "duration": 582,
    "start_time": "2024-05-24T15:30:04.897Z"
   },
   {
    "duration": 757,
    "start_time": "2024-05-24T15:30:55.836Z"
   },
   {
    "duration": 303,
    "start_time": "2024-05-24T15:33:54.606Z"
   },
   {
    "duration": 278,
    "start_time": "2024-05-24T15:34:04.800Z"
   },
   {
    "duration": 288,
    "start_time": "2024-05-24T15:34:11.179Z"
   },
   {
    "duration": 315,
    "start_time": "2024-05-24T15:34:18.981Z"
   },
   {
    "duration": 267,
    "start_time": "2024-05-24T15:35:07.360Z"
   },
   {
    "duration": 270,
    "start_time": "2024-05-24T15:38:48.099Z"
   },
   {
    "duration": 318,
    "start_time": "2024-05-24T15:39:16.949Z"
   },
   {
    "duration": 278,
    "start_time": "2024-05-24T15:39:22.870Z"
   },
   {
    "duration": 600,
    "start_time": "2024-05-24T15:41:49.275Z"
   },
   {
    "duration": 592,
    "start_time": "2024-05-24T15:42:55.020Z"
   },
   {
    "duration": 529,
    "start_time": "2024-05-24T15:44:47.614Z"
   },
   {
    "duration": 548,
    "start_time": "2024-05-24T15:45:00.833Z"
   },
   {
    "duration": 554,
    "start_time": "2024-05-24T15:45:21.564Z"
   },
   {
    "duration": 551,
    "start_time": "2024-05-24T15:45:36.803Z"
   },
   {
    "duration": 540,
    "start_time": "2024-05-24T15:45:55.179Z"
   },
   {
    "duration": 555,
    "start_time": "2024-05-24T15:46:13.185Z"
   },
   {
    "duration": 579,
    "start_time": "2024-05-24T15:46:31.140Z"
   },
   {
    "duration": 334,
    "start_time": "2024-05-24T15:48:07.615Z"
   },
   {
    "duration": 384,
    "start_time": "2024-05-24T15:48:22.456Z"
   },
   {
    "duration": 561,
    "start_time": "2024-05-24T15:48:28.408Z"
   },
   {
    "duration": 399,
    "start_time": "2024-05-24T15:48:37.311Z"
   },
   {
    "duration": 477,
    "start_time": "2024-05-24T15:49:21.603Z"
   },
   {
    "duration": 307,
    "start_time": "2024-05-24T15:49:35.305Z"
   },
   {
    "duration": 304,
    "start_time": "2024-05-24T15:55:30.081Z"
   },
   {
    "duration": 33,
    "start_time": "2024-05-24T15:57:53.392Z"
   },
   {
    "duration": 529,
    "start_time": "2024-05-24T15:58:12.158Z"
   },
   {
    "duration": 1355,
    "start_time": "2024-05-24T15:59:50.281Z"
   },
   {
    "duration": 108,
    "start_time": "2024-05-24T16:00:49.892Z"
   },
   {
    "duration": 278,
    "start_time": "2024-05-24T16:01:09.177Z"
   },
   {
    "duration": 587,
    "start_time": "2024-05-24T16:02:09.717Z"
   },
   {
    "duration": 774,
    "start_time": "2024-05-24T16:02:10.596Z"
   },
   {
    "duration": 680,
    "start_time": "2024-05-24T16:02:11.374Z"
   },
   {
    "duration": 682,
    "start_time": "2024-05-24T16:02:12.059Z"
   },
   {
    "duration": 231,
    "start_time": "2024-05-24T16:02:12.864Z"
   },
   {
    "duration": 353,
    "start_time": "2024-05-24T16:02:13.100Z"
   },
   {
    "duration": 300,
    "start_time": "2024-05-24T16:02:13.464Z"
   },
   {
    "duration": 6,
    "start_time": "2024-05-24T16:02:14.065Z"
   },
   {
    "duration": 436,
    "start_time": "2024-05-24T16:02:15.355Z"
   },
   {
    "duration": 328,
    "start_time": "2024-05-24T16:02:18.137Z"
   },
   {
    "duration": 13,
    "start_time": "2024-05-24T16:28:03.785Z"
   },
   {
    "duration": 32,
    "start_time": "2024-05-24T16:30:31.915Z"
   },
   {
    "duration": 32,
    "start_time": "2024-05-24T16:31:49.745Z"
   },
   {
    "duration": 31,
    "start_time": "2024-05-24T16:31:58.111Z"
   },
   {
    "duration": 9,
    "start_time": "2024-05-24T16:33:17.264Z"
   },
   {
    "duration": 6,
    "start_time": "2024-05-24T16:33:43.854Z"
   },
   {
    "duration": 6,
    "start_time": "2024-05-24T16:34:06.656Z"
   },
   {
    "duration": 35,
    "start_time": "2024-05-24T16:34:51.425Z"
   },
   {
    "duration": 202,
    "start_time": "2024-05-24T16:36:45.883Z"
   },
   {
    "duration": 31,
    "start_time": "2024-05-24T16:37:34.752Z"
   },
   {
    "duration": 31,
    "start_time": "2024-05-24T16:37:45.690Z"
   },
   {
    "duration": 16,
    "start_time": "2024-05-24T16:39:34.006Z"
   },
   {
    "duration": 32,
    "start_time": "2024-05-24T16:41:38.883Z"
   },
   {
    "duration": 19,
    "start_time": "2024-05-24T16:50:38.679Z"
   },
   {
    "duration": 11,
    "start_time": "2024-05-24T16:53:38.992Z"
   },
   {
    "duration": 30,
    "start_time": "2024-05-24T16:53:47.038Z"
   },
   {
    "duration": 11,
    "start_time": "2024-05-24T16:56:06.228Z"
   },
   {
    "duration": 10,
    "start_time": "2024-05-24T16:57:11.684Z"
   },
   {
    "duration": 9,
    "start_time": "2024-05-24T16:57:24.272Z"
   },
   {
    "duration": 18,
    "start_time": "2024-05-24T16:57:36.033Z"
   },
   {
    "duration": 10008,
    "start_time": "2024-05-25T15:44:17.407Z"
   },
   {
    "duration": 12,
    "start_time": "2024-05-25T15:44:27.419Z"
   },
   {
    "duration": 7,
    "start_time": "2024-05-25T15:44:27.434Z"
   },
   {
    "duration": 20,
    "start_time": "2024-05-25T15:44:27.446Z"
   },
   {
    "duration": 43,
    "start_time": "2024-05-25T15:44:27.471Z"
   },
   {
    "duration": 16,
    "start_time": "2024-05-25T15:44:27.518Z"
   },
   {
    "duration": 13,
    "start_time": "2024-05-25T15:44:27.538Z"
   },
   {
    "duration": 57,
    "start_time": "2024-05-25T15:44:27.555Z"
   },
   {
    "duration": 13,
    "start_time": "2024-05-25T15:44:27.615Z"
   },
   {
    "duration": 12,
    "start_time": "2024-05-25T15:44:27.635Z"
   },
   {
    "duration": 6,
    "start_time": "2024-05-25T15:44:27.651Z"
   },
   {
    "duration": 51,
    "start_time": "2024-05-25T15:44:27.661Z"
   },
   {
    "duration": 18,
    "start_time": "2024-05-25T15:44:27.716Z"
   },
   {
    "duration": 11,
    "start_time": "2024-05-25T15:44:27.738Z"
   },
   {
    "duration": 7,
    "start_time": "2024-05-25T15:44:27.753Z"
   },
   {
    "duration": 50,
    "start_time": "2024-05-25T15:44:27.764Z"
   },
   {
    "duration": 13,
    "start_time": "2024-05-25T15:44:27.818Z"
   },
   {
    "duration": 8,
    "start_time": "2024-05-25T15:44:27.835Z"
   },
   {
    "duration": 8,
    "start_time": "2024-05-25T15:44:27.845Z"
   },
   {
    "duration": 58,
    "start_time": "2024-05-25T15:44:27.856Z"
   },
   {
    "duration": 12,
    "start_time": "2024-05-25T15:44:27.919Z"
   },
   {
    "duration": 25,
    "start_time": "2024-05-25T15:44:27.933Z"
   },
   {
    "duration": 55,
    "start_time": "2024-05-25T15:44:27.962Z"
   },
   {
    "duration": 36,
    "start_time": "2024-05-25T15:44:28.024Z"
   },
   {
    "duration": 9,
    "start_time": "2024-05-25T15:44:28.064Z"
   },
   {
    "duration": 47,
    "start_time": "2024-05-25T15:44:28.076Z"
   },
   {
    "duration": 22,
    "start_time": "2024-05-25T15:44:28.126Z"
   },
   {
    "duration": 10,
    "start_time": "2024-05-25T15:44:28.157Z"
   },
   {
    "duration": 58,
    "start_time": "2024-05-25T15:44:28.170Z"
   },
   {
    "duration": 21,
    "start_time": "2024-05-25T15:44:28.232Z"
   },
   {
    "duration": 18,
    "start_time": "2024-05-25T15:44:28.256Z"
   },
   {
    "duration": 6892,
    "start_time": "2024-05-25T15:44:28.277Z"
   },
   {
    "duration": 417,
    "start_time": "2024-05-25T15:44:35.172Z"
   },
   {
    "duration": 607,
    "start_time": "2024-05-25T15:44:35.592Z"
   },
   {
    "duration": 692,
    "start_time": "2024-05-25T15:44:36.203Z"
   },
   {
    "duration": 706,
    "start_time": "2024-05-25T15:44:36.898Z"
   },
   {
    "duration": 586,
    "start_time": "2024-05-25T15:44:37.612Z"
   },
   {
    "duration": 650,
    "start_time": "2024-05-25T15:44:38.212Z"
   },
   {
    "duration": 196,
    "start_time": "2024-05-25T15:44:38.865Z"
   },
   {
    "duration": 300,
    "start_time": "2024-05-25T15:44:39.064Z"
   },
   {
    "duration": 270,
    "start_time": "2024-05-25T15:44:39.367Z"
   },
   {
    "duration": 6,
    "start_time": "2024-05-25T15:44:39.641Z"
   },
   {
    "duration": 383,
    "start_time": "2024-05-25T15:44:39.650Z"
   },
   {
    "duration": 305,
    "start_time": "2024-05-25T15:44:40.036Z"
   },
   {
    "duration": 9,
    "start_time": "2024-05-25T15:44:40.344Z"
   },
   {
    "duration": 14,
    "start_time": "2024-05-25T15:44:40.357Z"
   },
   {
    "duration": 269,
    "start_time": "2024-05-25T15:44:40.376Z"
   },
   {
    "duration": 12,
    "start_time": "2024-05-25T15:44:40.647Z"
   },
   {
    "duration": 10,
    "start_time": "2024-05-25T15:44:40.662Z"
   },
   {
    "duration": 59,
    "start_time": "2024-05-25T15:44:40.675Z"
   },
   {
    "duration": 14,
    "start_time": "2024-05-25T15:44:40.737Z"
   },
   {
    "duration": 14,
    "start_time": "2024-05-25T15:44:40.754Z"
   },
   {
    "duration": 46,
    "start_time": "2024-05-25T15:44:40.771Z"
   },
   {
    "duration": 31,
    "start_time": "2024-05-25T15:44:40.819Z"
   },
   {
    "duration": 19,
    "start_time": "2024-05-25T15:44:40.853Z"
   },
   {
    "duration": 18,
    "start_time": "2024-05-25T15:46:30.730Z"
   },
   {
    "duration": 6,
    "start_time": "2024-05-25T15:48:35.671Z"
   },
   {
    "duration": 7,
    "start_time": "2024-05-25T15:48:45.987Z"
   },
   {
    "duration": 18,
    "start_time": "2024-05-25T15:48:49.731Z"
   },
   {
    "duration": 422,
    "start_time": "2024-05-25T15:50:23.525Z"
   },
   {
    "duration": 2989,
    "start_time": "2024-11-11T10:07:40.198Z"
   },
   {
    "duration": 9,
    "start_time": "2024-11-11T10:07:43.190Z"
   },
   {
    "duration": 4,
    "start_time": "2024-11-11T10:07:43.200Z"
   },
   {
    "duration": 11,
    "start_time": "2024-11-11T10:07:43.206Z"
   },
   {
    "duration": 4,
    "start_time": "2024-11-11T10:07:43.232Z"
   },
   {
    "duration": 10,
    "start_time": "2024-11-11T10:07:43.238Z"
   },
   {
    "duration": 9,
    "start_time": "2024-11-11T10:07:43.249Z"
   },
   {
    "duration": 7,
    "start_time": "2024-11-11T10:07:43.260Z"
   },
   {
    "duration": 7,
    "start_time": "2024-11-11T10:07:43.269Z"
   },
   {
    "duration": 8,
    "start_time": "2024-11-11T10:07:43.278Z"
   },
   {
    "duration": 3,
    "start_time": "2024-11-11T10:07:43.288Z"
   },
   {
    "duration": 47,
    "start_time": "2024-11-11T10:07:43.293Z"
   },
   {
    "duration": 8,
    "start_time": "2024-11-11T10:07:43.342Z"
   },
   {
    "duration": 8,
    "start_time": "2024-11-11T10:07:43.354Z"
   },
   {
    "duration": 4,
    "start_time": "2024-11-11T10:07:43.364Z"
   },
   {
    "duration": 7,
    "start_time": "2024-11-11T10:07:43.370Z"
   },
   {
    "duration": 8,
    "start_time": "2024-11-11T10:07:43.379Z"
   },
   {
    "duration": 41,
    "start_time": "2024-11-11T10:07:43.390Z"
   },
   {
    "duration": 5,
    "start_time": "2024-11-11T10:07:43.433Z"
   },
   {
    "duration": 5,
    "start_time": "2024-11-11T10:07:43.440Z"
   },
   {
    "duration": 5,
    "start_time": "2024-11-11T10:07:43.447Z"
   },
   {
    "duration": 12,
    "start_time": "2024-11-11T10:07:43.453Z"
   },
   {
    "duration": 10,
    "start_time": "2024-11-11T10:07:43.467Z"
   },
   {
    "duration": 10,
    "start_time": "2024-11-11T10:07:43.479Z"
   },
   {
    "duration": 6,
    "start_time": "2024-11-11T10:07:43.532Z"
   },
   {
    "duration": 8,
    "start_time": "2024-11-11T10:07:43.540Z"
   },
   {
    "duration": 11,
    "start_time": "2024-11-11T10:07:43.550Z"
   },
   {
    "duration": 6,
    "start_time": "2024-11-11T10:07:43.563Z"
   },
   {
    "duration": 11,
    "start_time": "2024-11-11T10:07:43.571Z"
   },
   {
    "duration": 10,
    "start_time": "2024-11-11T10:07:43.584Z"
   },
   {
    "duration": 45,
    "start_time": "2024-11-11T10:07:43.595Z"
   },
   {
    "duration": 3472,
    "start_time": "2024-11-11T10:07:43.645Z"
   },
   {
    "duration": 218,
    "start_time": "2024-11-11T10:07:47.118Z"
   },
   {
    "duration": 341,
    "start_time": "2024-11-11T10:07:47.338Z"
   },
   {
    "duration": 367,
    "start_time": "2024-11-11T10:07:47.681Z"
   },
   {
    "duration": 438,
    "start_time": "2024-11-11T10:07:48.051Z"
   },
   {
    "duration": 370,
    "start_time": "2024-11-11T10:07:48.492Z"
   },
   {
    "duration": 398,
    "start_time": "2024-11-11T10:07:48.864Z"
   },
   {
    "duration": 115,
    "start_time": "2024-11-11T10:07:49.264Z"
   },
   {
    "duration": 161,
    "start_time": "2024-11-11T10:07:49.382Z"
   },
   {
    "duration": 149,
    "start_time": "2024-11-11T10:07:49.548Z"
   },
   {
    "duration": 4,
    "start_time": "2024-11-11T10:07:49.699Z"
   },
   {
    "duration": 230,
    "start_time": "2024-11-11T10:07:49.705Z"
   },
   {
    "duration": 11,
    "start_time": "2024-11-11T10:07:49.937Z"
   },
   {
    "duration": 167,
    "start_time": "2024-11-11T10:07:49.950Z"
   },
   {
    "duration": 4,
    "start_time": "2024-11-11T10:07:50.119Z"
   },
   {
    "duration": 7,
    "start_time": "2024-11-11T10:07:50.132Z"
   },
   {
    "duration": 120,
    "start_time": "2024-11-11T10:07:50.141Z"
   },
   {
    "duration": 7,
    "start_time": "2024-11-11T10:07:50.262Z"
   },
   {
    "duration": 6,
    "start_time": "2024-11-11T10:07:50.270Z"
   },
   {
    "duration": 15,
    "start_time": "2024-11-11T10:07:50.278Z"
   },
   {
    "duration": 36,
    "start_time": "2024-11-11T10:07:50.295Z"
   },
   {
    "duration": 9,
    "start_time": "2024-11-11T10:07:50.333Z"
   },
   {
    "duration": 7,
    "start_time": "2024-11-11T10:07:50.343Z"
   },
   {
    "duration": 15,
    "start_time": "2024-11-11T10:07:50.352Z"
   },
   {
    "duration": 12,
    "start_time": "2024-11-11T10:07:50.369Z"
   }
  ],
  "kernelspec": {
   "display_name": "Python 3 (ipykernel)",
   "language": "python",
   "name": "python3"
  },
  "language_info": {
   "codemirror_mode": {
    "name": "ipython",
    "version": 3
   },
   "file_extension": ".py",
   "mimetype": "text/x-python",
   "name": "python",
   "nbconvert_exporter": "python",
   "pygments_lexer": "ipython3",
   "version": "3.9.19"
  },
  "toc": {
   "base_numbering": 1,
   "nav_menu": {},
   "number_sections": true,
   "sideBar": true,
   "skip_h1_title": true,
   "title_cell": "Table of Contents",
   "title_sidebar": "Contents",
   "toc_cell": false,
   "toc_position": {},
   "toc_section_display": true,
   "toc_window_display": false
  }
 },
 "nbformat": 4,
 "nbformat_minor": 2
}
